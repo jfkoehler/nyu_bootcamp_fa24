{
  "nbformat": 4,
  "nbformat_minor": 0,
  "metadata": {
    "colab": {
      "provenance": []
    },
    "kernelspec": {
      "name": "python3",
      "display_name": "Python 3"
    },
    "language_info": {
      "name": "python"
    }
  },
  "cells": [
    {
      "cell_type": "markdown",
      "source": [
        "### BONUS: `plotly`\n",
        "\n",
        "A high level library for plotting that includes interactive elements like hovering and paning. For this assignment, please watch the office hours recording on `plotly.express` and redo the assignments plots using `plotly` or `plotly.express`.  For reference, see the documentation [here](https://plotly.com/python/plotly-express/). Add markdown cells as needed."
      ],
      "metadata": {
        "id": "olpndXLJ0VmM"
      }
    },
    {
      "cell_type": "code",
      "execution_count": null,
      "metadata": {
        "id": "C-YqK_ER0RZK"
      },
      "outputs": [],
      "source": [
        "import plotly.express as px\n",
        "import numpy as np\n",
        "import pandas as pd\n",
        "import plotly"
      ]
    },
    {
      "cell_type": "code",
      "source": [],
      "metadata": {
        "id": "CzZSCyMm1NpM"
      },
      "execution_count": null,
      "outputs": []
    },
    {
      "cell_type": "code",
      "source": [],
      "metadata": {
        "id": "dibS67J01Nlj"
      },
      "execution_count": null,
      "outputs": []
    },
    {
      "cell_type": "code",
      "source": [],
      "metadata": {
        "id": "GHhjPcS31Nib"
      },
      "execution_count": null,
      "outputs": []
    },
    {
      "cell_type": "code",
      "source": [],
      "metadata": {
        "id": "Sh34ErZO1NfT"
      },
      "execution_count": null,
      "outputs": []
    },
    {
      "cell_type": "code",
      "source": [],
      "metadata": {
        "id": "ZEnevmlM1Ncd"
      },
      "execution_count": null,
      "outputs": []
    },
    {
      "cell_type": "code",
      "source": [],
      "metadata": {
        "id": "VVnHIld21MvJ"
      },
      "execution_count": null,
      "outputs": []
    }
  ]
}
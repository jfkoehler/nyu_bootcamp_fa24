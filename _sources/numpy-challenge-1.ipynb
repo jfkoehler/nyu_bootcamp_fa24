{
 "cells": [
  {
   "cell_type": "markdown",
   "metadata": {},
   "source": [
    "# Climb the Ladder!\n",
    "Our class moves quickly! Sometimes, it feels like we make leaps in logic that are a bit too big. In this ladder challenge, we'll learn some core math concepts, some linear algebra, and the `numpy` library. Problems in this notebook start out easy and progressively get harder, so that the next rung of the Python ladder is always within reach.\n",
    "\n",
    "Additionally, since not all of the topics discussed in this ladder challenge are explicitly taught in our course, these problems come with many more hints, tips, suggestions, and even sometimes a mini-lesson. You are encouraged to Google frequently throughout the lesson. In many ways, this ladder is meant to be a challenge as well as educational in its own right."
   ]
  },
  {
   "cell_type": "markdown",
   "metadata": {},
   "source": [
    "# One Rule: NO LOOPS\n",
    "`numpy` takes advantage of **vectorized calculations**. A vectorized calculation is where one calculation occurs throughout the entire vector. For example, for a vector `v`, if we want a vector `w` that is all the elements of `v` plus one:\n",
    "\n",
    "```\n",
    "# GOOD! This is vectorized!\n",
    "w = v + 1\n",
    "\n",
    "# BAD! This is hard to read and extremely inefficient!\n",
    "for i in range(len(v)):\n",
    "    w[i] = v[i] + 1\n",
    "```\n",
    "\n",
    "**None of the exercises in this notebook require a loop. If you use a loop to solve any of these problems, you are solving the problem incorrectly.**"
   ]
  },
  {
   "cell_type": "markdown",
   "metadata": {},
   "source": [
    "# Section I - Vectors and some vector math"
   ]
  },
  {
   "cell_type": "markdown",
   "metadata": {},
   "source": [
    "0) Import the `numpy` library, aliasing it to be `np`"
   ]
  },
  {
   "cell_type": "code",
   "execution_count": 1,
   "metadata": {},
   "outputs": [],
   "source": [
    "import numpy as np"
   ]
  },
  {
   "cell_type": "markdown",
   "metadata": {},
   "source": [
    "1) Make the following vector defined as `v`:\n",
    "    $$\\mathbf{v} = (3, -1, 5, 2, -7)$$"
   ]
  },
  {
   "cell_type": "code",
   "execution_count": null,
   "metadata": {},
   "outputs": [],
   "source": []
  },
  {
   "cell_type": "markdown",
   "metadata": {},
   "source": [
    "2) Make the following vector defined as `w` using `np.arange()`:\n",
    "    $$\\mathbf{w} = (2, 3, 4, 5, 6)$$"
   ]
  },
  {
   "cell_type": "code",
   "execution_count": null,
   "metadata": {},
   "outputs": [],
   "source": []
  },
  {
   "cell_type": "markdown",
   "metadata": {},
   "source": [
    "3) Find $\\mathbf{v} + \\mathbf{w}$."
   ]
  },
  {
   "cell_type": "code",
   "execution_count": null,
   "metadata": {},
   "outputs": [],
   "source": []
  },
  {
   "cell_type": "markdown",
   "metadata": {},
   "source": [
    "4) What's the element-wise product of $\\mathbf{v}$ and $\\mathbf{w}$?"
   ]
  },
  {
   "cell_type": "code",
   "execution_count": null,
   "metadata": {},
   "outputs": [],
   "source": []
  },
  {
   "cell_type": "markdown",
   "metadata": {},
   "source": [
    "5) Triple every element of `v`. (Do not reassign.)"
   ]
  },
  {
   "cell_type": "code",
   "execution_count": null,
   "metadata": {},
   "outputs": [],
   "source": []
  },
  {
   "cell_type": "markdown",
   "metadata": {},
   "source": [
    "6) Double every element of `w` and then subtract 2 from every element. (Do not reassign.)"
   ]
  },
  {
   "cell_type": "code",
   "execution_count": null,
   "metadata": {},
   "outputs": [],
   "source": []
  },
  {
   "cell_type": "markdown",
   "metadata": {},
   "source": [
    "7) Index `v` to show me the number `-1`."
   ]
  },
  {
   "cell_type": "code",
   "execution_count": null,
   "metadata": {},
   "outputs": [],
   "source": []
  },
  {
   "cell_type": "markdown",
   "metadata": {},
   "source": [
    "8) Index `v` to show me everything except the 0th element."
   ]
  },
  {
   "cell_type": "code",
   "execution_count": null,
   "metadata": {},
   "outputs": [],
   "source": []
  },
  {
   "cell_type": "markdown",
   "metadata": {},
   "source": [
    "9) Index `v` to show me the elements at index 4, 2, and 3 (in that order)."
   ]
  },
  {
   "cell_type": "code",
   "execution_count": null,
   "metadata": {},
   "outputs": [],
   "source": []
  },
  {
   "cell_type": "markdown",
   "metadata": {},
   "source": [
    "10) Reassign the element of `v` at index 2 to be 6."
   ]
  },
  {
   "cell_type": "code",
   "execution_count": null,
   "metadata": {},
   "outputs": [],
   "source": []
  },
  {
   "cell_type": "markdown",
   "metadata": {},
   "source": [
    "### Mini-Lesson: Filtering\n",
    "Inequalities are also vectorized in `numpy`. For example:\n",
    "\n",
    "```\n",
    "v > 2\n",
    "==> array([ True, False,  True, False, False])\n",
    "```\n",
    "\n",
    "You can also **filter** a vector using booleans, like follows:\n",
    "\n",
    "```\n",
    "v[[True, False,  True, False, False]]\n",
    "==> array([3, 6])\n",
    "```\n",
    "\n",
    "The vector keeps anything `True`, and drops anything `False`.  It then follows you can filter a vector using the vector itself, like this:\n",
    "\n",
    "```\n",
    "v[v > 2]\n",
    "==> array([3, 6])\n",
    "```"
   ]
  },
  {
   "cell_type": "markdown",
   "metadata": {},
   "source": [
    "11) Show me all of the positive elements of `v`."
   ]
  },
  {
   "cell_type": "code",
   "execution_count": null,
   "metadata": {},
   "outputs": [],
   "source": []
  },
  {
   "cell_type": "markdown",
   "metadata": {},
   "source": [
    "12) How many elements of `v` are positive? (Use `numpy` to answer this question, do not count manually)."
   ]
  },
  {
   "cell_type": "code",
   "execution_count": null,
   "metadata": {},
   "outputs": [],
   "source": []
  },
  {
   "cell_type": "markdown",
   "metadata": {},
   "source": [
    "13) Show me all of the even elements of `w`."
   ]
  },
  {
   "cell_type": "code",
   "execution_count": null,
   "metadata": {},
   "outputs": [],
   "source": []
  },
  {
   "cell_type": "markdown",
   "metadata": {},
   "source": [
    "14) Show me all of the positive even elements of `v`."
   ]
  },
  {
   "cell_type": "code",
   "execution_count": null,
   "metadata": {},
   "outputs": [],
   "source": []
  },
  {
   "cell_type": "markdown",
   "metadata": {},
   "source": [
    "15) Redefine all the negative elements of `v` to be zero. This is a common sort of operation to do for real-world data! \n",
    "\n",
    "_Hint:_ Using `np.where` is one of two easy ways to do this. The other is the reassign the vector while filtering.  Do both ways if you can! "
   ]
  },
  {
   "cell_type": "code",
   "execution_count": null,
   "metadata": {},
   "outputs": [],
   "source": []
  },
  {
   "cell_type": "markdown",
   "metadata": {},
   "source": [
    "16) Create a new vector that's `\"EVEN\"` if the corresponding element of `w` is even, and `\"ODD\"` otherwise."
   ]
  },
  {
   "cell_type": "code",
   "execution_count": null,
   "metadata": {},
   "outputs": [],
   "source": []
  },
  {
   "cell_type": "markdown",
   "metadata": {},
   "source": [
    "# Section II - Statistics and vector operations"
   ]
  },
  {
   "cell_type": "markdown",
   "metadata": {},
   "source": [
    "### Emails\n",
    "For the next few problems, consider the following vector which represents the number of emails my inbox gets over the span of 20 days."
   ]
  },
  {
   "cell_type": "code",
   "execution_count": 2,
   "metadata": {},
   "outputs": [],
   "source": [
    "emails = np.array([25, 2, 45, 6, -2, 4, 4, 10, 6, -3, 16, 39, 19, 0, 1, -11, 25, 2, 7, 17])"
   ]
  },
  {
   "cell_type": "markdown",
   "metadata": {},
   "source": [
    "17) A few data points were accidentally recorded as negative when they should be positive. Reassign `emails` to fix these records."
   ]
  },
  {
   "cell_type": "code",
   "execution_count": null,
   "metadata": {},
   "outputs": [],
   "source": [
    "        "
   ]
  },
  {
   "cell_type": "markdown",
   "metadata": {},
   "source": [
    "18) What is the mean number of emails I get per day?"
   ]
  },
  {
   "cell_type": "code",
   "execution_count": null,
   "metadata": {},
   "outputs": [],
   "source": []
  },
  {
   "cell_type": "markdown",
   "metadata": {},
   "source": [
    "19) Among days where I get more than 15 emails, what is the mean number of emails I get?"
   ]
  },
  {
   "cell_type": "code",
   "execution_count": null,
   "metadata": {},
   "outputs": [],
   "source": []
  },
  {
   "cell_type": "markdown",
   "metadata": {},
   "source": [
    "20) What proportion of days do I receive more than 20 emails?"
   ]
  },
  {
   "cell_type": "code",
   "execution_count": null,
   "metadata": {},
   "outputs": [],
   "source": []
  },
  {
   "cell_type": "markdown",
   "metadata": {},
   "source": [
    "### Probabilities\n",
    "For the next few problems, consider the following vector of probabilities:"
   ]
  },
  {
   "cell_type": "code",
   "execution_count": 3,
   "metadata": {},
   "outputs": [],
   "source": [
    "p = np.array([0.69, 0.38, 0.68, 0.23, 0.26, 0.59, 0.94, 0.77, 0.85, 0.89])"
   ]
  },
  {
   "cell_type": "markdown",
   "metadata": {},
   "source": [
    "21) The _odds_ of an event occuring is defined as the probability an even occuring divided by the probability that it doesn't. That is:\n",
    "\n",
    "$$\\text{odds} = \\frac{p}{1 - p}$$\n",
    "\n",
    "Compute the odds of all of the probabilities in `p`. Remember, no loops!"
   ]
  },
  {
   "cell_type": "code",
   "execution_count": null,
   "metadata": {},
   "outputs": [],
   "source": []
  },
  {
   "cell_type": "markdown",
   "metadata": {},
   "source": [
    "22) Later in the course, we'll need to compute **log odds** of probabilities. That is,\n",
    "\n",
    "$$\\log\\frac{p}{1 - p}$$\n",
    "\n",
    "where $\\log$ is the natural logarithm. Compute the log odds for all the probabilities in `p`."
   ]
  },
  {
   "cell_type": "code",
   "execution_count": null,
   "metadata": {},
   "outputs": [],
   "source": []
  },
  {
   "cell_type": "markdown",
   "metadata": {},
   "source": [
    "23) Create a variable `predictions` that is `1` if the value of `p` is greater than `0.5` and `0` otherwise."
   ]
  },
  {
   "cell_type": "code",
   "execution_count": null,
   "metadata": {},
   "outputs": [],
   "source": []
  },
  {
   "cell_type": "markdown",
   "metadata": {},
   "source": [
    "24) What proportion of our predictions are `1`?"
   ]
  },
  {
   "cell_type": "code",
   "execution_count": null,
   "metadata": {},
   "outputs": [],
   "source": []
  },
  {
   "cell_type": "markdown",
   "metadata": {},
   "source": [
    "25) Below, the vector `y` represents the true outcomes of the event occuring. In this case, `p` was actually our predicted probabilities of an event occuring. What proportion of the time were our predictions correct? More simply put, what proportion of the time do our `predictions` and `y` vectors match up? Later in the course, this will be known as our **prediction accuracy**."
   ]
  },
  {
   "cell_type": "code",
   "execution_count": 5,
   "metadata": {},
   "outputs": [
    {
     "data": {
      "text/plain": [
       "array([0, 1, 1, 0, 1, 1, 1, 0, 0, 0])"
      ]
     },
     "execution_count": 5,
     "metadata": {},
     "output_type": "execute_result"
    }
   ],
   "source": [
    "y = np.random.binomial(1, .3, size = len(p))\n",
    "y"
   ]
  },
  {
   "cell_type": "code",
   "execution_count": null,
   "metadata": {},
   "outputs": [],
   "source": []
  },
  {
   "cell_type": "markdown",
   "metadata": {},
   "source": [
    "26) Sometimes, we'll want the **log loss** in a problem like this. While we'll normally let this get calculated for us automatically, it's good to do it once. Here's the formula:\n",
    "\n",
    "$$\\text{LogLoss} = \\sum\\left[-y_i \\log p_i - (1 - y_i) \\log (1 - p_i)\\right]$$\n",
    "\n",
    "### Mini-Lesson: How to read formulas like this!\n",
    "We will encounter intimidating formulas like this countless times throughout our course. Their bark is worse than their bite, I promise. Let's dissect how to read them:\n",
    "\n",
    "* **Subscripts** - The symbol $y_i$ represents the $i$th element of the vector $y$. In this case, that is represented by our numpy array `y`. Similarly, $p_i$ is the $i$th element of $p$, which we have as `p`.\n",
    "* **Calculation** - For each $i$, we will calculate $-y_i \\log p_i - (1 - y_i) \\log (1 - p_i)$. So, for our 10-length vectors, we will have a resulting 10-length vector.\n",
    "* **Summation** - The symbol $\\Sigma$ is the Greek letter \"sigma\" - which is the Greek version of \"s\". In this case, \"s\" stands for \"sum\". It implies we'll be summing together all of our 10 calculations.\n",
    "\n",
    "Let's solve problem 26 in two easy steps:"
   ]
  },
  {
   "cell_type": "markdown",
   "metadata": {},
   "source": [
    "26a) Compute $-y_i \\log p_i - (1 - y_i) \\log (1 - p_i)$ for each $i$. Call this result `loglik_i`."
   ]
  },
  {
   "cell_type": "code",
   "execution_count": null,
   "metadata": {},
   "outputs": [],
   "source": []
  },
  {
   "cell_type": "markdown",
   "metadata": {},
   "source": [
    "26b) Sum the previous result to get our answer!"
   ]
  },
  {
   "cell_type": "code",
   "execution_count": null,
   "metadata": {},
   "outputs": [],
   "source": []
  }
 ],
 "metadata": {
  "kernelspec": {
   "display_name": "Python 3",
   "language": "python",
   "name": "python3"
  },
  "language_info": {
   "codemirror_mode": {
    "name": "ipython",
    "version": 3
   },
   "file_extension": ".py",
   "mimetype": "text/x-python",
   "name": "python",
   "nbconvert_exporter": "python",
   "pygments_lexer": "ipython3",
   "version": "3.8.3"
  }
 },
 "nbformat": 4,
 "nbformat_minor": 4
}

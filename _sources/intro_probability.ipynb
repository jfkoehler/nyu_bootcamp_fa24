{
 "cells": [
  {
   "cell_type": "markdown",
   "metadata": {},
   "source": [
    "# Probability Distributions: Discrete and Continuous\n",
    "\n",
    "**OBJECTIVES**\n",
    "- Model with discrete probability distributions\n",
    "- Use `scipy.stats` to create discrete distributions\n",
    "- Use `.pdf, .cdf` methods of distributions"
   ]
  },
  {
   "cell_type": "markdown",
   "metadata": {},
   "source": [
    "### Widgets\n",
    "\n",
    "In a terminal please run the following\n",
    "\n",
    "```\n",
    "conda install -c conda-forge nodejs\n",
    "jupyter labextension install @jupyter-widgets/jupyterlab-manager\n",
    "```\n",
    "\n",
    "Restart your JupyterLab instance and run the cell below."
   ]
  },
  {
   "cell_type": "code",
   "execution_count": null,
   "metadata": {},
   "outputs": [],
   "source": [
    "import matplotlib.pyplot as plt\n",
    "import numpy as np\n",
    "import pandas as pd\n",
    "import scipy.stats as stats\n",
    "import seaborn as sns\n",
    "\n",
    "from ipywidgets import interact\n",
    "import ipywidgets as widgets"
   ]
  },
  {
   "cell_type": "markdown",
   "metadata": {},
   "source": [
    "### Descriptive Statistics Review\n",
    "\n",
    "**REVIEW**\n",
    "\n",
    "Write a function that takes in a list and returns the arithmetic mean of that list. (no `numpy`!)"
   ]
  },
  {
   "cell_type": "code",
   "execution_count": null,
   "metadata": {},
   "outputs": [],
   "source": [
    "#function for mean\n",
    "def arithmetic_mean(x):\n",
    "    return sum(x)/len(x)"
   ]
  },
  {
   "cell_type": "code",
   "execution_count": null,
   "metadata": {},
   "outputs": [],
   "source": [
    "list_1 = [5, 5, 5, 5, 5]\n",
    "list_2 = [3, 4, 5, 6, 7]\n",
    "list_3 = [1, 3, 5, 7, 9]"
   ]
  },
  {
   "cell_type": "code",
   "execution_count": null,
   "metadata": {},
   "outputs": [],
   "source": [
    "#list comprehension to apply your function\n",
    "[arithmetic_mean(i) for i in (list_1, list_2, list_3)]"
   ]
  },
  {
   "cell_type": "markdown",
   "metadata": {},
   "source": [
    "### Variance\n",
    "\n",
    "**IN WORDS**: \n",
    "\n",
    "<center>\n",
    "    Find the difference between each data point and the mean, square that value, find the average of these values.\n",
    "</center>\n",
    "\n",
    "**IN SYMBOLS**: $$\\frac{1}{n}\\sum_{i = 1}^{n} (x_i - \\mu)^2$$"
   ]
  },
  {
   "cell_type": "code",
   "execution_count": null,
   "metadata": {},
   "outputs": [],
   "source": [
    "list_1"
   ]
  },
  {
   "cell_type": "code",
   "execution_count": null,
   "metadata": {},
   "outputs": [],
   "source": [
    "#mean of list 1\n",
    "l1_mean = 5"
   ]
  },
  {
   "cell_type": "code",
   "execution_count": null,
   "metadata": {},
   "outputs": [],
   "source": [
    "#variance of list 1\n",
    "sum([(xi - l1_mean)**2 for xi in list_1])/len(list_1)"
   ]
  },
  {
   "cell_type": "code",
   "execution_count": null,
   "metadata": {},
   "outputs": [],
   "source": [
    "#function for variance\n",
    "def variance(x):\n",
    "    x_mean = arithmetic_mean(x)\n",
    "    return sum([(xi - x_mean)**2 for xi in x])/len(x)"
   ]
  },
  {
   "cell_type": "code",
   "execution_count": null,
   "metadata": {},
   "outputs": [],
   "source": [
    "#find the variance of our lists above\n",
    "[variance(l) for l in (list_1, list_2, list_3)]"
   ]
  },
  {
   "cell_type": "code",
   "execution_count": null,
   "metadata": {},
   "outputs": [],
   "source": [
    "#interpret these values\n"
   ]
  },
  {
   "cell_type": "code",
   "execution_count": null,
   "metadata": {},
   "outputs": [],
   "source": []
  },
  {
   "cell_type": "code",
   "execution_count": null,
   "metadata": {},
   "outputs": [],
   "source": []
  },
  {
   "cell_type": "markdown",
   "metadata": {},
   "source": [
    "### Standard Deviation\n",
    "\n",
    "The square root of the variance -- puts things back in terms of the original unit."
   ]
  },
  {
   "cell_type": "code",
   "execution_count": null,
   "metadata": {},
   "outputs": [],
   "source": [
    "#function for square root\n",
    "def sqrt(x):\n",
    "    return x**.5"
   ]
  },
  {
   "cell_type": "code",
   "execution_count": null,
   "metadata": {},
   "outputs": [],
   "source": [
    "#evaluate on our lists\n",
    "[sqrt(variance(l)) for l in (list_1, list_2, list_3)]"
   ]
  },
  {
   "cell_type": "markdown",
   "metadata": {},
   "source": [
    "**PROBLEMS**\n",
    "\n",
    "1. Use the list of player ages below to compute the mean and standard deviation of the data.  \n",
    "2. Determine the age range within 1.5 standard deviation of the mean. "
   ]
  },
  {
   "cell_type": "code",
   "execution_count": null,
   "metadata": {},
   "outputs": [],
   "source": [
    "player_ages = [21, 21, 22, 23, 24, 24, 25, 25, 28, 29, 29, 31, 32, 33, 33, 34, 35, 36, 36, 36, 36, 38, 38, 38, 40]"
   ]
  },
  {
   "cell_type": "code",
   "execution_count": null,
   "metadata": {},
   "outputs": [],
   "source": [
    "np.mean(player_ages), np.std(player_ages)"
   ]
  },
  {
   "cell_type": "code",
   "execution_count": null,
   "metadata": {},
   "outputs": [],
   "source": [
    "# lower, upper\n",
    "np.mean(player_ages) - 1.5*np.std(player_ages), np.mean(player_ages) + 1.5*np.std(player_ages)"
   ]
  },
  {
   "cell_type": "code",
   "execution_count": null,
   "metadata": {},
   "outputs": [],
   "source": [
    "plt.hist(player_ages)"
   ]
  },
  {
   "cell_type": "code",
   "execution_count": null,
   "metadata": {},
   "outputs": [],
   "source": []
  },
  {
   "cell_type": "markdown",
   "metadata": {},
   "source": [
    "### Probability Mass Functions\n",
    "\n",
    "$$f(\\text{some outcome}) = \\text{probability of that outcome}$$\n",
    "\n",
    "We will care about matching the right probability distribution with a given scenario.  Today we introduce some primary distributions with discrete value inputs."
   ]
  },
  {
   "cell_type": "markdown",
   "metadata": {},
   "source": [
    "### Example I: Bernoulli Trial\n",
    "\n",
    "One event with a binary outcome and a probability of success (and failure).\n",
    "\n",
    "| outcome | probability |\n",
    "| --------  | --------  |\n",
    "|  Heads  | 0.3. |\n",
    "| Tails |  0.7  |"
   ]
  },
  {
   "cell_type": "code",
   "execution_count": null,
   "metadata": {},
   "outputs": [],
   "source": [
    "import scipy.stats as stats"
   ]
  },
  {
   "cell_type": "code",
   "execution_count": null,
   "metadata": {},
   "outputs": [],
   "source": [
    "#distribution to model\n",
    "coin_flip = stats.bernoulli(p = .3)"
   ]
  },
  {
   "cell_type": "code",
   "execution_count": null,
   "metadata": {},
   "outputs": [],
   "source": [
    "#probability of failure\n",
    "coin_flip.pmf(0)"
   ]
  },
  {
   "cell_type": "code",
   "execution_count": null,
   "metadata": {},
   "outputs": [],
   "source": [
    "#probability of success \n",
    "coin_flip.pmf(1)"
   ]
  },
  {
   "cell_type": "code",
   "execution_count": null,
   "metadata": {},
   "outputs": [],
   "source": [
    "#variance of the trial\n",
    "coin_flip.var()"
   ]
  },
  {
   "cell_type": "code",
   "execution_count": null,
   "metadata": {},
   "outputs": [],
   "source": [
    "#standard deviation of the trial\n",
    "coin_flip.std()"
   ]
  },
  {
   "cell_type": "code",
   "execution_count": null,
   "metadata": {},
   "outputs": [],
   "source": [
    "# #plot\n",
    "x = np.arange(2)\n",
    "plt.plot(x, coin_flip.pmf(x), 'o')\n",
    "plt.vlines(0, 0, .7)\n",
    "plt.vlines(1, 0, .3)"
   ]
  },
  {
   "cell_type": "markdown",
   "metadata": {},
   "source": [
    "### An Old Game: Sennet\n",
    "\n",
    "We have some number of popsicle sticks colored blue or red on different sides.  We drop them and explore the possible outcomes.  Imagining each outcome is equally likely, please determine the following:\n",
    "\n",
    "- Drop 1 stick, $P(R)$\n",
    "- Drop 1 stick, $P(B)$\n",
    "- Drop 2 sticks, what are all possible outcomes? $P(\\text{one red one blue})$?\n",
    "- Drop 3 sticks, what are all the possible outcomes? $P(\\text{BBB})$?"
   ]
  },
  {
   "cell_type": "code",
   "execution_count": null,
   "metadata": {},
   "outputs": [],
   "source": [
    "# red and red\n",
    "# blue and blue\n",
    "# red and blue\n",
    "# blue and red"
   ]
  },
  {
   "cell_type": "code",
   "execution_count": null,
   "metadata": {},
   "outputs": [],
   "source": [
    "#define combinations\n",
    "#from 3 sticks, how many ways are there\n",
    "#to land all blue\n",
    "from scipy.special import comb\n",
    "#from 3 sticks how many ways are there for 3 \"successes\"\n",
    "comb(3, 3)"
   ]
  },
  {
   "cell_type": "code",
   "execution_count": null,
   "metadata": {},
   "outputs": [],
   "source": [
    "#examine outcomes for 3 coins\n",
    "[comb(3, i) for i in range(4)]"
   ]
  },
  {
   "cell_type": "code",
   "execution_count": null,
   "metadata": {},
   "outputs": [],
   "source": [
    "#determine probabilities for each\n"
   ]
  },
  {
   "cell_type": "code",
   "execution_count": null,
   "metadata": {},
   "outputs": [],
   "source": [
    "#make a bar plot of probabilities\n"
   ]
  },
  {
   "cell_type": "markdown",
   "metadata": {},
   "source": [
    "### Binomial Distribution\n",
    "\n",
    "Used to model repeated Bernoulli trials.  For example, toss a coin four times.  Its probability mass function is given by:\n",
    "\n",
    "$$\\displaystyle f(k,n,p)=\\Pr(k;n,p)=\\Pr(X=k)={\\binom {n}{k}}p^{k}(1-p)^{n-k}$$\n",
    "\n"
   ]
  },
  {
   "cell_type": "code",
   "execution_count": null,
   "metadata": {},
   "outputs": [],
   "source": [
    "#define binomial\n",
    "coin_flip = stats.binom(n = 3, p = 0.5)"
   ]
  },
  {
   "cell_type": "code",
   "execution_count": null,
   "metadata": {},
   "outputs": [],
   "source": [
    "#probability of 2 heads\n",
    "coin_flip.pmf(2)"
   ]
  },
  {
   "cell_type": "code",
   "execution_count": null,
   "metadata": {},
   "outputs": [],
   "source": [
    "#probability of 3 heads\n",
    "coin_flip.pmf(3)"
   ]
  },
  {
   "cell_type": "code",
   "execution_count": null,
   "metadata": {},
   "outputs": [],
   "source": [
    "#define range of all possible outcomes\n",
    "x = np.arange(0, 4)\n",
    "x"
   ]
  },
  {
   "cell_type": "code",
   "execution_count": null,
   "metadata": {},
   "outputs": [],
   "source": [
    "#plot pmf\n",
    "plt.bar(x, coin_flip.pmf(x))"
   ]
  },
  {
   "cell_type": "code",
   "execution_count": null,
   "metadata": {},
   "outputs": [],
   "source": [
    "#probability of no more than 2 heads\n",
    "###p(0)\n",
    "p0 = coin_flip.pmf(0)\n",
    "###p(1)\n",
    "p1 = coin_flip.pmf(1)\n",
    "###p(2)\n",
    "p2 = coin_flip.pmf(2)\n",
    "p0 + p1 + p2"
   ]
  },
  {
   "cell_type": "markdown",
   "metadata": {},
   "source": [
    "### Cumulative Distribution Function\n",
    "\n",
    "Evaluates the cumulative probability up to a given value.  Formally it would be the sum or integral of probabilities until some value $x_i$. \n",
    "\n",
    "$$\\displaystyle F(k;n,p)=\\Pr(X\\leq k)=\\sum _{i=0}^{\\lfloor k\\rfloor }{n \\choose i}p^{i}(1-p)^{n-i},$$"
   ]
  },
  {
   "cell_type": "code",
   "execution_count": null,
   "metadata": {},
   "outputs": [],
   "source": [
    "###Cumulative distribution function\n",
    "coin_flip.cdf(2)"
   ]
  },
  {
   "cell_type": "code",
   "execution_count": null,
   "metadata": {},
   "outputs": [],
   "source": [
    "###plot side by side pmf and cdf\n",
    "fig, ax = plt.subplots(nrows = 1, ncols = 2, figsize = (15, 4))\n",
    "x = np.arange(0, 4)\n",
    "ax[0].bar(x, coin_flip.pmf(x))\n",
    "ax[0].set_title('PMF')\n",
    "\n",
    "ax[1].plot(x, coin_flip.cdf(x))\n",
    "ax[1].set_title('CDF')\n",
    "ax[1].set_ylim(0, 1)"
   ]
  },
  {
   "cell_type": "markdown",
   "metadata": {},
   "source": [
    "**PROBLEMS**\n",
    "\n",
    "[source](https://openstax.org/books/introductory-statistics/pages/4-3-binomial-distribution)\n",
    "\n",
    "Here are some good old fashioned math problems.  Use our `scipy` distributions to solve each below.  For extra bonus, add a plot and highlight the area or areas of interest.\n",
    "\n",
    "1. A trainer is teaching a student to do tricks. The probability that the student successfully performs the trick is 35%, and the probability that the student does not successfully perform the trick is 65%. Out of 20 attempts, you want to find the probability that the student succeeds 12 times.\n",
    "\n",
    "2. A fair, six-sided die is rolled ten times. Each roll is independent. You want to find the probability of rolling a one more than three times.\n",
    "\n",
    "3. Approximately 70% of statistics students do their homework in time for it to be collected and graded. Each student does homework independently. In a statistics class of 50 students, what is the probability that at least 40 will do their homework on time?\n",
    "\n"
   ]
  },
  {
   "cell_type": "code",
   "execution_count": null,
   "metadata": {},
   "outputs": [],
   "source": []
  },
  {
   "cell_type": "code",
   "execution_count": null,
   "metadata": {},
   "outputs": [],
   "source": []
  },
  {
   "cell_type": "code",
   "execution_count": null,
   "metadata": {},
   "outputs": [],
   "source": []
  },
  {
   "cell_type": "code",
   "execution_count": null,
   "metadata": {},
   "outputs": [],
   "source": []
  },
  {
   "cell_type": "code",
   "execution_count": null,
   "metadata": {},
   "outputs": [],
   "source": []
  },
  {
   "cell_type": "markdown",
   "metadata": {},
   "source": [
    "### Continuous Distributions\n",
    "\n",
    "Now, rather than discussing discrete distributions the topic shifts to distributions of *continuous random variables*.  This simply means the objects we are working with are on continuous scales -- weight, height, speed, etc."
   ]
  },
  {
   "cell_type": "markdown",
   "metadata": {},
   "source": [
    "### Uniform Distribution\n",
    "\n",
    "*The distribution describes an experiment where there is an arbitrary outcome that lies between certain bounds* -- [Wikipedia](https://en.wikipedia.org/wiki/Continuous_uniform_distribution)\n",
    "\n",
    "$$\\text{PDF} = \\begin{cases} \\frac{1}{b-a} & x \\in [a, b] \\\\ 0 & \\text{otherwise}\\end{cases}$$"
   ]
  },
  {
   "cell_type": "code",
   "execution_count": null,
   "metadata": {},
   "outputs": [],
   "source": [
    "#define the uniform distribution\n",
    "uniform_dist = stats.uniform(loc = 2, scale = 3)"
   ]
  },
  {
   "cell_type": "code",
   "execution_count": null,
   "metadata": {},
   "outputs": [],
   "source": [
    "#define a domain of values\n",
    "x = np.linspace(0, 7, 1000)"
   ]
  },
  {
   "cell_type": "code",
   "execution_count": null,
   "metadata": {},
   "outputs": [],
   "source": [
    "#look at a plot of pdf\n",
    "plt.plot(x, uniform_dist.pdf(x))"
   ]
  },
  {
   "cell_type": "code",
   "execution_count": null,
   "metadata": {},
   "outputs": [],
   "source": [
    "#probability of 3?\n",
    "uniform_dist.pdf(3)"
   ]
  },
  {
   "cell_type": "code",
   "execution_count": null,
   "metadata": {},
   "outputs": [],
   "source": [
    "#probabiity of 4 or fewer?\n",
    "uniform_dist.cdf(4)"
   ]
  },
  {
   "cell_type": "code",
   "execution_count": null,
   "metadata": {},
   "outputs": [],
   "source": [
    "#side by side plot of pdf and cdf\n",
    "fig, ax = plt.subplots(1, 2, figsize = (16, 6))\n",
    "ax[0].plot(x, uniform_dist.pdf(x))\n",
    "ax[0].set_title('Uniform Distribution pdf')\n",
    "ax[0].grid()\n",
    "ax[1].plot(x, uniform_dist.cdf(x))\n",
    "ax[1].set_title('Uniform Distribution cdf')\n",
    "ax[1].grid()"
   ]
  },
  {
   "cell_type": "markdown",
   "metadata": {},
   "source": [
    "### The Normal Distribution\n",
    "\n",
    "\n",
    "*Normal distributions are important in statistics and are often used in the natural and social sciences to represent real-valued random variables whose distributions are not known.* -- [Wikipedia](https://en.wikipedia.org/wiki/Normal_distribution)\n",
    "\n",
    "\n",
    "$${\\displaystyle f(x)={\\frac {1}{\\sigma {\\sqrt {2\\pi }}}}e^{-{\\frac {1}{2}}\\left({\\frac {x-\\mu }{\\sigma }}\\right)^{2}}}$$"
   ]
  },
  {
   "cell_type": "code",
   "execution_count": null,
   "metadata": {},
   "outputs": [],
   "source": [
    "#mean of 100 sd of 3\n",
    "norm_1 = stats.norm(loc = 100, scale = 3)"
   ]
  },
  {
   "cell_type": "code",
   "execution_count": null,
   "metadata": {},
   "outputs": [],
   "source": [
    "#plot pdf\n",
    "x = np.linspace(88, 112, 1000)\n",
    "plt.plot(x, norm_1.pdf(x))\n",
    "plt.title('Normal Distribution pdf')\n",
    "plt.xlabel('outcome')\n",
    "plt.ylabel('probability')\n",
    "plt.grid();"
   ]
  },
  {
   "cell_type": "code",
   "execution_count": null,
   "metadata": {},
   "outputs": [],
   "source": [
    "#how much between 97 and 103 -- one standard deviation?\n",
    "norm_1.cdf(103) - norm_1.cdf(97)"
   ]
  },
  {
   "cell_type": "code",
   "execution_count": null,
   "metadata": {},
   "outputs": [],
   "source": [
    "#how much data between 94 and 106?\n",
    "norm_1.cdf(106) - norm_1.cdf(94)"
   ]
  },
  {
   "cell_type": "code",
   "execution_count": null,
   "metadata": {},
   "outputs": [],
   "source": [
    "#between 91 and 109?\n",
    "norm_1.cdf(109) - norm_1.cdf(91)"
   ]
  },
  {
   "cell_type": "markdown",
   "metadata": {},
   "source": [
    "**GENERAL RULE**: 68 - 95 - 99 rule.\n",
    "\n",
    "Within 1, 2, and 3 standard deviations from the mean we have 68%, 95%, and 99% of our data with any normal distribution."
   ]
  },
  {
   "cell_type": "markdown",
   "metadata": {},
   "source": [
    "### Parameters of Normal"
   ]
  },
  {
   "cell_type": "code",
   "execution_count": null,
   "metadata": {},
   "outputs": [],
   "source": [
    "import ipywidgets as widgets\n",
    "from ipywidgets import interact"
   ]
  },
  {
   "cell_type": "code",
   "execution_count": null,
   "metadata": {},
   "outputs": [],
   "source": [
    "def plot_pdt(mean_num, std_num):\n",
    "    norm_1 = stats.norm(loc = mean_num, scale = std_num)\n",
    "    x = np.linspace(mean_num - std_num * 4, mean_num + std_num * 4, 1000)\n",
    "    plt.plot(x, norm_1.pdf(x))\n",
    "    plt.xlim(80, 120)\n",
    "    plt.show();"
   ]
  },
  {
   "cell_type": "code",
   "execution_count": null,
   "metadata": {},
   "outputs": [],
   "source": [
    "#interact with it\n",
    "interact(plot_pdt, mean_num = widgets.FloatSlider(min = 50, max = 150, step = 1, description = 'Mean'),\n",
    "                    std_num = widgets.FloatSlider(min = 0.1, max = 20, step = 0.1, description = 'σ'))"
   ]
  },
  {
   "cell_type": "markdown",
   "metadata": {},
   "source": [
    "**PROBLEMS**\n",
    "\n",
    "1. The final exam scores in a statistics class were normally distributed with a mean of 63 and a standard deviation of five.\n",
    " - Find the probability that a randomly selected student scored more than 65 on the exam.\n",
    " - Find the probability that a randomly selected student scored less than 85.\n",
    " \n",
    "2. The National Assessment of Educational Progress is a test that examines student performance in most states.  The NAEP \n",
    "reading scores assume a normal distribution $N(288, 38)$.  What range of scores encompasses 95% of the student data?"
   ]
  },
  {
   "cell_type": "code",
   "execution_count": null,
   "metadata": {},
   "outputs": [],
   "source": []
  },
  {
   "cell_type": "code",
   "execution_count": null,
   "metadata": {},
   "outputs": [],
   "source": []
  },
  {
   "cell_type": "code",
   "execution_count": null,
   "metadata": {},
   "outputs": [],
   "source": []
  },
  {
   "cell_type": "code",
   "execution_count": null,
   "metadata": {},
   "outputs": [],
   "source": []
  },
  {
   "cell_type": "code",
   "execution_count": null,
   "metadata": {},
   "outputs": [],
   "source": []
  }
 ],
 "metadata": {
  "kernelspec": {
   "display_name": "Python 3",
   "language": "python",
   "name": "python3"
  },
  "language_info": {
   "codemirror_mode": {
    "name": "ipython",
    "version": 3
   },
   "file_extension": ".py",
   "mimetype": "text/x-python",
   "name": "python",
   "nbconvert_exporter": "python",
   "pygments_lexer": "ipython3",
   "version": "3.8.3"
  },
  "widgets": {
   "application/vnd.jupyter.widget-state+json": {
    "state": {},
    "version_major": 2,
    "version_minor": 0
   }
  }
 },
 "nbformat": 4,
 "nbformat_minor": 4
}

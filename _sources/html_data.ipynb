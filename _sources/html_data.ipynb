{
 "cells": [
  {
   "cell_type": "markdown",
   "metadata": {},
   "source": [
    "### Extracting Data From HTML\n",
    "\n",
    "**OBJECTIVES**\n",
    "\n",
    "\n",
    "- Use `pd.read_html` to extract data from website tables\n",
    "- Use `bs4` to parse html returned with requests."
   ]
  },
  {
   "cell_type": "markdown",
   "metadata": {},
   "source": [
    "### Reading in Data from HTML Tables\n",
    "\n",
    "Now, we turn to one more approach in accessing data. As we've seen, you may have `json` or `csv` when querying a data API. Alternatively, you may receive HTML data where information is contained in tags.  Below, we examine some basic html tags and their effects.\n",
    "\n",
    "```html\n",
    "<h1>A Heading</h1>\n",
    "<p>A first paragraph</p>\n",
    "<p>A second paragraph</p>\n",
    "<table>\n",
    "  <tr>\n",
    "    <th>Album</th>\n",
    "    <th>Rating</th>\n",
    "  </tr>\n",
    "  <tr>\n",
    "    <td>Pink Panther</td>\n",
    "    <td>10</td>\n",
    "  </tr>\n",
    "</table>\n",
    "```"
   ]
  },
  {
   "cell_type": "code",
   "execution_count": 1,
   "metadata": {},
   "outputs": [],
   "source": [
    "import numpy as np\n",
    "import pandas as pd\n",
    "import matplotlib.pyplot as plt\n",
    "import seaborn as sns\n",
    "\n",
    "import requests"
   ]
  },
  {
   "cell_type": "code",
   "execution_count": 2,
   "metadata": {},
   "outputs": [],
   "source": [
    "html = '''\n",
    "<h1>A Heading</h1>\n",
    "<p>A first paragraph</p>\n",
    "<p>A second paragraph</p>\n",
    "<table>\n",
    "  <tr>\n",
    "    <th>Album</th>\n",
    "    <th>Rating</th>\n",
    "  </tr>\n",
    "  <tr>\n",
    "    <td>Pink Panther</td>\n",
    "    <td>10</td>\n",
    "  </tr>\n",
    "</table>\n",
    "'''"
   ]
  },
  {
   "cell_type": "code",
   "execution_count": 3,
   "metadata": {},
   "outputs": [],
   "source": [
    "from IPython.display import HTML"
   ]
  },
  {
   "cell_type": "code",
   "execution_count": 4,
   "metadata": {},
   "outputs": [
    {
     "data": {
      "text/html": [
       "\n",
       "<h1>A Heading</h1>\n",
       "<p>A first paragraph</p>\n",
       "<p>A second paragraph</p>\n",
       "<table>\n",
       "  <tr>\n",
       "    <th>Album</th>\n",
       "    <th>Rating</th>\n",
       "  </tr>\n",
       "  <tr>\n",
       "    <td>Pink Panther</td>\n",
       "    <td>10</td>\n",
       "  </tr>\n",
       "</table>\n"
      ],
      "text/plain": [
       "<IPython.core.display.HTML object>"
      ]
     },
     "execution_count": 4,
     "metadata": {},
     "output_type": "execute_result"
    }
   ],
   "source": [
    "HTML(html)"
   ]
  },
  {
   "cell_type": "markdown",
   "metadata": {},
   "source": [
    "### Making a request of a url\n",
    "\n",
    "Let's begin with some basketball information from basketball-reference.com:\n",
    "\n",
    "- https://www.basketball-reference.com/wnba\n",
    "\n",
    "The tables on the page will be picked up (hopefully!) by the `read_html` function in pandas."
   ]
  },
  {
   "cell_type": "code",
   "execution_count": 5,
   "metadata": {},
   "outputs": [],
   "source": [
    "#visit the url below\n",
    "url = 'https://www.basketball-reference.com/wnba'"
   ]
  },
  {
   "cell_type": "code",
   "execution_count": 6,
   "metadata": {},
   "outputs": [],
   "source": [
    "#assign the results as data\n",
    "#read_html\n",
    "wnba = pd.read_html(url)"
   ]
  },
  {
   "cell_type": "code",
   "execution_count": 7,
   "metadata": {},
   "outputs": [
    {
     "data": {
      "text/plain": [
       "list"
      ]
     },
     "execution_count": 7,
     "metadata": {},
     "output_type": "execute_result"
    }
   ],
   "source": [
    "#what kind of object is data?\n",
    "type(wnba)"
   ]
  },
  {
   "cell_type": "code",
   "execution_count": 8,
   "metadata": {},
   "outputs": [
    {
     "data": {
      "text/html": [
       "<div>\n",
       "<style scoped>\n",
       "    .dataframe tbody tr th:only-of-type {\n",
       "        vertical-align: middle;\n",
       "    }\n",
       "\n",
       "    .dataframe tbody tr th {\n",
       "        vertical-align: top;\n",
       "    }\n",
       "\n",
       "    .dataframe thead th {\n",
       "        text-align: right;\n",
       "    }\n",
       "</style>\n",
       "<table border=\"1\" class=\"dataframe\">\n",
       "  <thead>\n",
       "    <tr style=\"text-align: right;\">\n",
       "      <th></th>\n",
       "      <th>Team</th>\n",
       "      <th>W</th>\n",
       "      <th>L</th>\n",
       "      <th>W/L%</th>\n",
       "      <th>GB</th>\n",
       "    </tr>\n",
       "  </thead>\n",
       "  <tbody>\n",
       "    <tr>\n",
       "      <th>0</th>\n",
       "      <td>New York Liberty*</td>\n",
       "      <td>32</td>\n",
       "      <td>8</td>\n",
       "      <td>0.800</td>\n",
       "      <td>—</td>\n",
       "    </tr>\n",
       "    <tr>\n",
       "      <th>1</th>\n",
       "      <td>Minnesota Lynx*</td>\n",
       "      <td>30</td>\n",
       "      <td>10</td>\n",
       "      <td>0.750</td>\n",
       "      <td>2.0</td>\n",
       "    </tr>\n",
       "    <tr>\n",
       "      <th>2</th>\n",
       "      <td>Connecticut Sun*</td>\n",
       "      <td>28</td>\n",
       "      <td>12</td>\n",
       "      <td>0.700</td>\n",
       "      <td>4.0</td>\n",
       "    </tr>\n",
       "    <tr>\n",
       "      <th>3</th>\n",
       "      <td>Las Vegas Aces*</td>\n",
       "      <td>27</td>\n",
       "      <td>13</td>\n",
       "      <td>0.675</td>\n",
       "      <td>5.0</td>\n",
       "    </tr>\n",
       "    <tr>\n",
       "      <th>4</th>\n",
       "      <td>Seattle Storm*</td>\n",
       "      <td>25</td>\n",
       "      <td>15</td>\n",
       "      <td>0.625</td>\n",
       "      <td>7.0</td>\n",
       "    </tr>\n",
       "    <tr>\n",
       "      <th>5</th>\n",
       "      <td>Indiana Fever*</td>\n",
       "      <td>20</td>\n",
       "      <td>20</td>\n",
       "      <td>0.500</td>\n",
       "      <td>12.0</td>\n",
       "    </tr>\n",
       "    <tr>\n",
       "      <th>6</th>\n",
       "      <td>Phoenix Mercury*</td>\n",
       "      <td>19</td>\n",
       "      <td>21</td>\n",
       "      <td>0.475</td>\n",
       "      <td>13.0</td>\n",
       "    </tr>\n",
       "    <tr>\n",
       "      <th>7</th>\n",
       "      <td>Atlanta Dream*</td>\n",
       "      <td>15</td>\n",
       "      <td>25</td>\n",
       "      <td>0.375</td>\n",
       "      <td>17.0</td>\n",
       "    </tr>\n",
       "    <tr>\n",
       "      <th>8</th>\n",
       "      <td>Washington Mystics</td>\n",
       "      <td>14</td>\n",
       "      <td>26</td>\n",
       "      <td>0.350</td>\n",
       "      <td>18.0</td>\n",
       "    </tr>\n",
       "    <tr>\n",
       "      <th>9</th>\n",
       "      <td>Chicago Sky</td>\n",
       "      <td>13</td>\n",
       "      <td>27</td>\n",
       "      <td>0.325</td>\n",
       "      <td>19.0</td>\n",
       "    </tr>\n",
       "    <tr>\n",
       "      <th>10</th>\n",
       "      <td>Dallas Wings</td>\n",
       "      <td>9</td>\n",
       "      <td>31</td>\n",
       "      <td>0.225</td>\n",
       "      <td>23.0</td>\n",
       "    </tr>\n",
       "    <tr>\n",
       "      <th>11</th>\n",
       "      <td>Los Angeles Sparks</td>\n",
       "      <td>8</td>\n",
       "      <td>32</td>\n",
       "      <td>0.200</td>\n",
       "      <td>24.0</td>\n",
       "    </tr>\n",
       "  </tbody>\n",
       "</table>\n",
       "</div>"
      ],
      "text/plain": [
       "                  Team   W   L   W/L%    GB\n",
       "0    New York Liberty*  32   8  0.800     —\n",
       "1      Minnesota Lynx*  30  10  0.750   2.0\n",
       "2     Connecticut Sun*  28  12  0.700   4.0\n",
       "3      Las Vegas Aces*  27  13  0.675   5.0\n",
       "4       Seattle Storm*  25  15  0.625   7.0\n",
       "5       Indiana Fever*  20  20  0.500  12.0\n",
       "6     Phoenix Mercury*  19  21  0.475  13.0\n",
       "7       Atlanta Dream*  15  25  0.375  17.0\n",
       "8   Washington Mystics  14  26  0.350  18.0\n",
       "9          Chicago Sky  13  27  0.325  19.0\n",
       "10        Dallas Wings   9  31  0.225  23.0\n",
       "11  Los Angeles Sparks   8  32  0.200  24.0"
      ]
     },
     "execution_count": 8,
     "metadata": {},
     "output_type": "execute_result"
    }
   ],
   "source": [
    "#first element?\n",
    "wnba[0]"
   ]
  },
  {
   "cell_type": "code",
   "execution_count": 9,
   "metadata": {},
   "outputs": [
    {
     "name": "stdout",
     "output_type": "stream",
     "text": [
      "<class 'pandas.core.frame.DataFrame'>\n",
      "RangeIndex: 12 entries, 0 to 11\n",
      "Data columns (total 5 columns):\n",
      " #   Column  Non-Null Count  Dtype  \n",
      "---  ------  --------------  -----  \n",
      " 0   Team    12 non-null     object \n",
      " 1   W       12 non-null     int64  \n",
      " 2   L       12 non-null     int64  \n",
      " 3   W/L%    12 non-null     float64\n",
      " 4   GB      12 non-null     object \n",
      "dtypes: float64(1), int64(2), object(2)\n",
      "memory usage: 608.0+ bytes\n"
     ]
    }
   ],
   "source": [
    "#examine information\n",
    "wnba[0].info()"
   ]
  },
  {
   "cell_type": "code",
   "execution_count": 10,
   "metadata": {},
   "outputs": [
    {
     "data": {
      "text/html": [
       "<div>\n",
       "<style scoped>\n",
       "    .dataframe tbody tr th:only-of-type {\n",
       "        vertical-align: middle;\n",
       "    }\n",
       "\n",
       "    .dataframe tbody tr th {\n",
       "        vertical-align: top;\n",
       "    }\n",
       "\n",
       "    .dataframe thead th {\n",
       "        text-align: right;\n",
       "    }\n",
       "</style>\n",
       "<table border=\"1\" class=\"dataframe\">\n",
       "  <thead>\n",
       "    <tr style=\"text-align: right;\">\n",
       "      <th></th>\n",
       "      <th>Unnamed: 0</th>\n",
       "      <th>PTS</th>\n",
       "      <th>TRB</th>\n",
       "      <th>AST</th>\n",
       "      <th>GmSc</th>\n",
       "    </tr>\n",
       "  </thead>\n",
       "  <tbody>\n",
       "    <tr>\n",
       "      <th>0</th>\n",
       "      <td>A'ja Wilson  (LVA)</td>\n",
       "      <td>24</td>\n",
       "      <td>7</td>\n",
       "      <td>4</td>\n",
       "      <td>20.5</td>\n",
       "    </tr>\n",
       "    <tr>\n",
       "      <th>1</th>\n",
       "      <td>Sabrina Ionescu  (NYL)</td>\n",
       "      <td>24</td>\n",
       "      <td>9</td>\n",
       "      <td>5</td>\n",
       "      <td>19.7</td>\n",
       "    </tr>\n",
       "    <tr>\n",
       "      <th>2</th>\n",
       "      <td>Alyssa Thomas  (CON)</td>\n",
       "      <td>18</td>\n",
       "      <td>10</td>\n",
       "      <td>7</td>\n",
       "      <td>19.3</td>\n",
       "    </tr>\n",
       "    <tr>\n",
       "      <th>3</th>\n",
       "      <td>DeWanna Bonner  (CON)</td>\n",
       "      <td>17</td>\n",
       "      <td>6</td>\n",
       "      <td>3</td>\n",
       "      <td>16.0</td>\n",
       "    </tr>\n",
       "    <tr>\n",
       "      <th>4</th>\n",
       "      <td>Alanna Smith  (MIN)</td>\n",
       "      <td>15</td>\n",
       "      <td>6</td>\n",
       "      <td>2</td>\n",
       "      <td>15.7</td>\n",
       "    </tr>\n",
       "  </tbody>\n",
       "</table>\n",
       "</div>"
      ],
      "text/plain": [
       "               Unnamed: 0  PTS  TRB  AST  GmSc\n",
       "0      A'ja Wilson  (LVA)   24    7    4  20.5\n",
       "1  Sabrina Ionescu  (NYL)   24    9    5  19.7\n",
       "2    Alyssa Thomas  (CON)   18   10    7  19.3\n",
       "3   DeWanna Bonner  (CON)   17    6    3  16.0\n",
       "4     Alanna Smith  (MIN)   15    6    2  15.7"
      ]
     },
     "execution_count": 10,
     "metadata": {},
     "output_type": "execute_result"
    }
   ],
   "source": [
    "#last dataframe?\n",
    "wnba[-1]"
   ]
  },
  {
   "cell_type": "markdown",
   "metadata": {},
   "source": [
    "**Example 2**\n",
    "\n",
    "List of best selling albums from Wikipedia.\n",
    "\n",
    "- https://en.wikipedia.org/wiki/List_of_best-selling_albums"
   ]
  },
  {
   "cell_type": "code",
   "execution_count": null,
   "metadata": {},
   "outputs": [],
   "source": [
    "url = 'https://en.wikipedia.org/wiki/List_of_best-selling_albums'"
   ]
  },
  {
   "cell_type": "code",
   "execution_count": null,
   "metadata": {},
   "outputs": [],
   "source": [
    "#read in the tables\n"
   ]
  },
  {
   "cell_type": "code",
   "execution_count": null,
   "metadata": {},
   "outputs": [],
   "source": [
    "#how many tables?\n"
   ]
  },
  {
   "cell_type": "code",
   "execution_count": null,
   "metadata": {},
   "outputs": [],
   "source": [
    "#look at the fourth table\n"
   ]
  },
  {
   "cell_type": "code",
   "execution_count": null,
   "metadata": {},
   "outputs": [],
   "source": [
    "#try to convert sales to float\n"
   ]
  },
  {
   "cell_type": "code",
   "execution_count": null,
   "metadata": {},
   "outputs": [],
   "source": [
    "#replace and coerce as float\n",
    "# fourth_table['Claimed sales*'] = fourth_table['Claimed sales*'].replace({'20[disputed – discuss]': 20}).astype('float')"
   ]
  },
  {
   "cell_type": "code",
   "execution_count": null,
   "metadata": {},
   "outputs": [],
   "source": [
    "#alternative with string method\n",
    "#fourth_table['Claimed sales*'].str.replace('[disputed – discuss]', '', regex = False)"
   ]
  },
  {
   "cell_type": "markdown",
   "metadata": {},
   "source": [
    "### Scraping the Web for Data\n",
    "\n",
    "Sometimes the data is not formatted as an `html` table or `pd.read_html` simply doesn't work.  In these situations you can use the `bs4` library and its `BeautifulSoup` object to parse HTML tags and extract information.  First, make sure you have the library installed and can import it below."
   ]
  },
  {
   "cell_type": "code",
   "execution_count": null,
   "metadata": {},
   "outputs": [],
   "source": [
    "# pip install -U bs4"
   ]
  },
  {
   "cell_type": "code",
   "execution_count": 11,
   "metadata": {},
   "outputs": [],
   "source": [
    "from bs4 import BeautifulSoup\n",
    "import requests"
   ]
  },
  {
   "cell_type": "code",
   "execution_count": 12,
   "metadata": {},
   "outputs": [],
   "source": [
    "sample_html = '''\n",
    "<h1>Music Reviews</h1>\n",
    "<p>This album was awful. <strong>Score</strong>: <i class = \"score\">2</i></p>\n",
    "<p class = \"good\">This album was great. <strong>Score</strong>: <i class = \"score\">8</i></p>\n",
    "'''"
   ]
  },
  {
   "cell_type": "code",
   "execution_count": 13,
   "metadata": {},
   "outputs": [],
   "source": [
    "# create a soup object\n",
    "soup = BeautifulSoup(sample_html)"
   ]
  },
  {
   "cell_type": "code",
   "execution_count": 14,
   "metadata": {},
   "outputs": [
    {
     "data": {
      "text/plain": [
       "<html><body><h1>Music Reviews</h1>\n",
       "<p>This album was awful. <strong>Score</strong>: <i class=\"score\">2</i></p>\n",
       "<p class=\"good\">This album was great. <strong>Score</strong>: <i class=\"score\">8</i></p>\n",
       "</body></html>"
      ]
     },
     "execution_count": 14,
     "metadata": {},
     "output_type": "execute_result"
    }
   ],
   "source": [
    "# examine the soup\n",
    "soup"
   ]
  },
  {
   "cell_type": "code",
   "execution_count": 15,
   "metadata": {},
   "outputs": [
    {
     "data": {
      "text/plain": [
       "<p>This album was awful. <strong>Score</strong>: <i class=\"score\">2</i></p>"
      ]
     },
     "execution_count": 15,
     "metadata": {},
     "output_type": "execute_result"
    }
   ],
   "source": [
    "# find the <p> tags\n",
    "soup.find('p')"
   ]
  },
  {
   "cell_type": "code",
   "execution_count": 16,
   "metadata": {},
   "outputs": [
    {
     "data": {
      "text/plain": [
       "<i class=\"score\">2</i>"
      ]
     },
     "execution_count": 16,
     "metadata": {},
     "output_type": "execute_result"
    }
   ],
   "source": [
    "# find the i tag\n",
    "soup.find('i')"
   ]
  },
  {
   "cell_type": "code",
   "execution_count": 17,
   "metadata": {},
   "outputs": [
    {
     "data": {
      "text/plain": [
       "[<i class=\"score\">2</i>, <i class=\"score\">8</i>]"
      ]
     },
     "execution_count": 17,
     "metadata": {},
     "output_type": "execute_result"
    }
   ],
   "source": [
    "# find all the i tags\n",
    "soup.find_all('i')"
   ]
  },
  {
   "cell_type": "code",
   "execution_count": 18,
   "metadata": {},
   "outputs": [
    {
     "data": {
      "text/plain": [
       "<p class=\"good\">This album was great. <strong>Score</strong>: <i class=\"score\">8</i></p>"
      ]
     },
     "execution_count": 18,
     "metadata": {},
     "output_type": "execute_result"
    }
   ],
   "source": [
    "# find all good paragraphs\n",
    "soup.find('p', {'class': 'good'})"
   ]
  },
  {
   "cell_type": "markdown",
   "metadata": {},
   "source": [
    "#### Extracting Data from a URL\n",
    "\n",
    "1. Make a request.\n",
    "2. Turn the request into soup!"
   ]
  },
  {
   "cell_type": "code",
   "execution_count": 19,
   "metadata": {},
   "outputs": [],
   "source": [
    "url = 'https://pitchfork.com/reviews/albums/'"
   ]
  },
  {
   "cell_type": "code",
   "execution_count": 20,
   "metadata": {},
   "outputs": [],
   "source": [
    "#make a request\n",
    "r = requests.get(url)"
   ]
  },
  {
   "cell_type": "code",
   "execution_count": 21,
   "metadata": {},
   "outputs": [
    {
     "data": {
      "text/plain": [
       "'<!DOCTYPE html><html lang=\"en-US\"><head><title>New Albums &amp; Music Reviews | Pitchfork</title><meta charSet=\"utf-8\"/><meta content=\"IE=edge\" http-equiv=\"X-UA-Compatible\"/><meta name=\"msapplication-tap-highlight\" content=\"no\"/><meta name=\"viewport\" content=\"width=device-width, initial-scale=1\"/><meta name=\"author\" content=\"Condé Nast\"/><meta name=\"copyright\" content=\"Copyright (c) Condé Nast 2024\"/><meta name=\"description\" content=\"Daily reviews of every important album in music\"/><meta name=\"id\" content=\"65ce02a52126d093a5f585e1\"/><meta name=\"keywords\" content=\"web\"/><meta name=\"news_keywords\" content=\"web\"/><meta name=\"robots\" content=\"index, follow, max-image-preview:large\"/><meta name=\"content-type\" content=\"bundle\"/><meta name=\"parsely-post-id\" content=\"65ce02a52126d093a5f585e1\"/><meta name=\"parsely-metadata\" content=\"{&quot;description&quot;:&quot;Daily reviews of every important album in music&quot;,&quot;image-16-9&quot;:&quot;https://media.pitchfork.com/photos/5935a027a28a09'"
      ]
     },
     "execution_count": 21,
     "metadata": {},
     "output_type": "execute_result"
    }
   ],
   "source": [
    "#examine the text\n",
    "r.text[:1000]"
   ]
  },
  {
   "cell_type": "code",
   "execution_count": 22,
   "metadata": {},
   "outputs": [],
   "source": [
    "#turn it into soup!\n",
    "soup = BeautifulSoup(r.text)"
   ]
  },
  {
   "cell_type": "markdown",
   "metadata": {},
   "source": [
    "### Using Inspect\n",
    "\n",
    "You can inspect an items HTML code by right clicking on the item of interest and selecting **inspect**.  Here, you will see the html tags that surround the object of interest.  \n",
    "\n",
    "For example, when writing this lesson a recent album review on pitchfork was *Mustafa: Dunya*.  Right clicking on the image of the album cover and choosing inspect showed:\n",
    "\n",
    "![](images/pitch_cover.png)"
   ]
  },
  {
   "cell_type": "code",
   "execution_count": 24,
   "metadata": {},
   "outputs": [],
   "source": [
    "#find the img tag\n",
    "dunya = soup.find('img', {'alt': 'Dunya'})"
   ]
  },
  {
   "cell_type": "code",
   "execution_count": 26,
   "metadata": {},
   "outputs": [
    {
     "data": {
      "text/plain": [
       "'https://media.pitchfork.com/photos/668fec739c03086dcec412d6/1:1/w_1600%2Cc_limit/Mustafa-Dunya.jpg'"
      ]
     },
     "execution_count": 26,
     "metadata": {},
     "output_type": "execute_result"
    }
   ],
   "source": [
    "dunya.attrs['src']"
   ]
  },
  {
   "cell_type": "code",
   "execution_count": 28,
   "metadata": {},
   "outputs": [],
   "source": [
    "#find all img tags\n",
    "images = soup.find_all('img')"
   ]
  },
  {
   "cell_type": "code",
   "execution_count": 29,
   "metadata": {},
   "outputs": [
    {
     "data": {
      "text/plain": [
       "{'alt': 'Pitchfork',\n",
       " 'class': ['ResponsiveImageContainer-eybHBd',\n",
       "  'fptoWY',\n",
       "  'responsive-image__image'],\n",
       " 'src': '/verso/static/pitchfork/assets/logo-inverted.svg',\n",
       " 'srcset': '',\n",
       " 'sizes': '100vw'}"
      ]
     },
     "execution_count": 29,
     "metadata": {},
     "output_type": "execute_result"
    }
   ],
   "source": [
    "#explore attributes\n",
    "images[0].attrs"
   ]
  },
  {
   "cell_type": "code",
   "execution_count": 30,
   "metadata": {},
   "outputs": [
    {
     "data": {
      "text/plain": [
       "['/verso/static/pitchfork/assets/logo-inverted.svg',\n",
       " '/verso/static/pitchfork/assets/logo-header.svg',\n",
       " 'https://media.pitchfork.com/photos/66a3cf7aeca3501f5dc9b121/1:1/w_1600%2Cc_limit/Being%2520Dead-%2520EELS.jpg',\n",
       " 'https://media.pitchfork.com/photos/66fc0c553dcae43f31bfd01c/1:1/w_1600%2Cc_limit/2300%2520-%2520Bully%2520Tape.jpeg',\n",
       " 'https://media.pitchfork.com/photos/66f2da330eece3c05910cb10/1:1/w_1600%2Cc_limit/Raphael%2520Raginski%2520-%2520Plays%2520John%2520Coltrane%2520and%2520Langston%2520Hughes.jpeg',\n",
       " 'https://media.pitchfork.com/photos/668fec739c03086dcec412d6/1:1/w_1600%2Cc_limit/Mustafa-Dunya.jpg',\n",
       " 'https://media.pitchfork.com/photos/66e07055506fec54a6686125/1:1/w_1600%2Cc_limit/Adeline-Hotel-Whodunnit.jpg',\n",
       " 'https://media.pitchfork.com/photos/66ed8ef4a29561bba8d0bd0f/1:1/w_1600%2Cc_limit/Tommy%2520Richman%2520-%2520Coyote.jpg',\n",
       " 'https://media.pitchfork.com/photos/66ed9384d74ab9c23d17f237/1:1/w_1600%2Cc_limit/Merce%2520Lemon%2520-%2520Watch%2520Me%2520Drive%2520Them%2520Dogs%2520Wild.jpg',\n",
       " 'https://media.pitchfork.com/photos/6695907214ee05489f0a592f/1:1/w_1600%2Cc_limit/Alan-Sparhawk-White-Roses-My-God.jpg',\n",
       " 'https://media.pitchfork.com/photos/66f2de67b80b64aad7496cb9/1:1/w_1600%2Cc_limit/Shinichi%2520Atobe%2520-%2520Peace%2520of%2520mind.jpeg',\n",
       " 'https://media.pitchfork.com/photos/66ed9b9194b1bace5b046fb0/1:1/w_1600%2Cc_limit/Silver_Jews_-_The_Natural_Bridge-transformed.jpeg',\n",
       " 'https://media.pitchfork.com/photos/66ed7776ebeaf9cbab4d800f/1:1/w_1600%2Cc_limit/Hopecore.jpg',\n",
       " 'https://media.pitchfork.com/photos/6679af9454456585e9dbc087/1:1/w_1600%2Cc_limit/SOPHIE.jpg',\n",
       " 'https://media.pitchfork.com/photos/66f2d1d7a2d52e3bd3b6bcc4/1:1/w_1600%2Cc_limit/Monaleo%2520-%2520Throwing%2520Bows.jpg',\n",
       " 'https://media.pitchfork.com/photos/668c14ffefacdaa8de5824b9/1:1/w_1600%2Cc_limit/The-Voidz-Like-All-Before-You.jpg',\n",
       " 'https://media.pitchfork.com/photos/66ed884649ec49f6714c8018/1:1/w_1600%2Cc_limit/Ulla%2520&%2520Perila%2520-%2520Jazz%2520Plates.jpg',\n",
       " 'https://media.pitchfork.com/photos/66e1f20d68d4d8de4a52fd1d/1:1/w_1600%2Cc_limit/Future-Mixtape-Pluto.jpg',\n",
       " 'https://media.pitchfork.com/photos/66e86464f23f66ab90554188/1:1/w_1600%2Cc_limit/che-Sayso%2520Says.jpg',\n",
       " 'https://media.pitchfork.com/photos/668ec1aeb6c41f622a91ae69/1:1/w_1600%2Cc_limit/Katy-Perry-143.jpg',\n",
       " 'https://media.pitchfork.com/photos/66a27f95d2d4a2270b9cb5d7/1:1/w_1600%2Cc_limit/Tom%2520Verlaine-%2520Warm%2520and%2520Cool.jpg',\n",
       " 'https://media.pitchfork.com/photos/666af7bc5d7882749b058940/1:1/w_1600%2Cc_limit/Nubya-Garcia-Odyssey.jpg',\n",
       " 'https://media.pitchfork.com/photos/66ec250f53bc2780ce12046a/1:1/w_1600%2Cc_limit/Isik%2520Kural%2520-%2520Moon%2520in%2520Gemini.jpg',\n",
       " 'https://media.pitchfork.com/photos/66ec27cea85b31e0659f5ccb/1:1/w_1600%2Cc_limit/Johnny%2520Foreigner%2520-%2520How%2520to%2520Be%2520Hopeful.jpg',\n",
       " 'https://media.pitchfork.com/photos/66e87948f23f66ab90554195/1:1/w_1600%2Cc_limit/Garbage%2520-%2520Version%25202.0.jpg',\n",
       " 'https://media.pitchfork.com/photos/66e2039c9cce584bc959aafa/1:1/w_1600%2Cc_limit/Dame-Area.jpg',\n",
       " 'https://media.pitchfork.com/photos/665e130c1a9f5a511da29b3d/1:1/w_1600%2Cc_limit/Jamie-xx-In-Waves.jpg',\n",
       " 'https://media.pitchfork.com/photos/66d76772f78476688e2139da/1:1/w_1600%2Cc_limit/Laila-Gap-Year.jpg',\n",
       " 'https://media.pitchfork.com/photos/66e2040b9cce584bc959aafc/1:1/w_1600%2Cc_limit/Estradas.jpg',\n",
       " 'https://media.pitchfork.com/photos/66ec7de26d243f5bdfbec9ec/1:1/w_1600%2Cc_limit/The-War-on-Drugs-Live-Drugs-Again.jpg',\n",
       " 'https://media.pitchfork.com/photos/66aa7ece3a12b5a1a765e9f5/1:1/w_1600%2Cc_limit/Wendy%2520Eisenberg-%2520Viewfinder.jpg',\n",
       " 'https://media.pitchfork.com/photos/6667328fd69e5b51a794a637/1:1/w_1600%2Cc_limit/Nilufer%2520Yanya%2520-%2520My%2520Method%2520Actor.jpg',\n",
       " 'https://media.pitchfork.com/photos/66436f08f556da1fd706739d/1:1/w_1600%2Cc_limit/Porches-Shirt.jpg',\n",
       " 'https://media.pitchfork.com/photos/66e871d6f23f66ab90554192/1:1/w_1600%2Cc_limit/Callahan%2520&%2520Witshcer%2520-%2520Think%2520Differently.jpg',\n",
       " 'https://media.pitchfork.com/photos/66ab7bbc3ac8c632c50feb19/1:1/w_1600%2Cc_limit/Foxing-2024.jpg',\n",
       " 'https://media.pitchfork.com/photos/66e832700bae50181a2f5715/1:1/w_1600%2Cc_limit/BASIC-This%2520is%2520BASIC.jpg',\n",
       " 'https://media.pitchfork.com/photos/66d9ab99af0da7107ffd402b/1:1/w_1600%2Cc_limit/Hayden-Pedigo-Live-in-Amarillo-Texas.jpg',\n",
       " 'https://media.pitchfork.com/photos/66e200fd920f76a9ad47c09f/1:1/w_1600%2Cc_limit/Julie.jpg',\n",
       " 'https://media.pitchfork.com/photos/66e2026d3edec531b52b09e4/1:1/w_1600%2Cc_limit/Phiik-Lungs-Carrot-Season.jpg',\n",
       " 'https://media.pitchfork.com/photos/66d9aafa568054f0dfb3dd50/1:1/w_1600%2Cc_limit/Chow-Lee.jpg',\n",
       " 'https://media.pitchfork.com/photos/66e312377fdd09a871ccf75c/1:1/w_1600%2Cc_limit/Basic-Channel-BCD.jpg',\n",
       " 'https://media.pitchfork.com/photos/66d77820e12524877f7deb7b/1:1/w_1600%2Cc_limit/Travis-Scott-Days-Before-Rodeo.jpg',\n",
       " 'https://media.pitchfork.com/photos/668c4b3d2b6494be34f5e76f/1:1/w_1600%2Cc_limit/Floating-Points-Cascade.jpg',\n",
       " 'https://media.pitchfork.com/photos/66aa80271f0846163b1acc2d/1:1/w_1600%2Cc_limit/Allegra%2520Krieger-%2520Art%2520of%2520the%2520Unseen%2520Infinity%2520Machine.jpg',\n",
       " 'https://media.pitchfork.com/photos/66d76ca40149389e6ca7bb1b/1:1/w_1600%2Cc_limit/Migratory.jpg',\n",
       " 'https://media.pitchfork.com/photos/665746837cfbcbc000644803/1:1/w_1600%2Cc_limit/Max-Richter-In-a-Landscape.jpg',\n",
       " 'https://media.pitchfork.com/photos/66db6a17e721049ebffb5689/1:1/w_1600%2Cc_limit/Fat_Dog_WOOF_art.png',\n",
       " 'https://media.pitchfork.com/photos/6696dabe17254c02f526cff9/1:1/w_1600%2Cc_limit/Nala-Sinephro-Endlessness.jpg',\n",
       " 'https://media.pitchfork.com/photos/66d768dce12524877f7deb77/1:1/w_1600%2Cc_limit/Dummy-Free-Energy.jpg',\n",
       " 'https://media.pitchfork.com/photos/6669aac2753b6dae8bc68f32/1:1/w_1600%2Cc_limit/Toro-y-Moi-Hole-Erth.jpg',\n",
       " 'https://media.pitchfork.com/photos/66a92c0c773c5da2e0d5d881/1:1/w_1600%2Cc_limit/Okay%2520Kaya-%2520Oh%2520My%2520God%2520-%2520That%25E2%2580%2599s%2520So%2520Me.jpg',\n",
       " 'https://media.pitchfork.com/photos/66db63a91ddc3876928762cb/1:1/w_1600%2Cc_limit/GAS_GAS_self-titled_art.jpg',\n",
       " 'https://media.pitchfork.com/photos/665e0847ea2d6c6ab24a412a/1:1/w_1600%2Cc_limit/Mercury-Rev-Born-Horses.jpg',\n",
       " 'https://media.pitchfork.com/photos/66d76862bf3587b9878e8a02/1:1/w_1600%2Cc_limit/The-Dare.jpg',\n",
       " 'https://media.pitchfork.com/photos/66d76d06d11a415202939982/1:1/w_1600%2Cc_limit/Molchat-Doma-Belaya-Polosa.jpg',\n",
       " 'https://media.pitchfork.com/photos/66cf5b812501b9b60e2b1ffd/1:1/w_1600%2Cc_limit/Cold-Gawd.jpg',\n",
       " 'https://media.pitchfork.com/photos/66db1ccf925c8f190079e12d/1:1/w_1600%2Cc_limit/The%2520Pogues_Rum_Sodomy_and_the_Lash_high_res_art.jpg',\n",
       " 'https://media.pitchfork.com/photos/66d08caf3d7b314e51c074ae/1:1/w_1600%2Cc_limit/Duster-In-Dreams.jpg',\n",
       " 'https://media.pitchfork.com/photos/6678bbeb08c7a1384158e8c0/1:1/w_1600%2Cc_limit/MJ%2520Lenderman%2520-%2520Manning%2520Fireworks%2520Album%2520Art.jpg',\n",
       " 'https://media.pitchfork.com/photos/66d9e5b8aa62241a46d71d0f/1:1/w_1600%2Cc_limit/Fcukers_Baggy$$_EP.png',\n",
       " 'https://media.pitchfork.com/photos/66d1c2eafd9e0a487cca0d48/1:1/w_1600%2Cc_limit/Destroy-Lonely.jpg',\n",
       " 'https://media.pitchfork.com/photos/66d070068a7ef80640569e23/1:1/w_1600%2Cc_limit/Doechii.jpg',\n",
       " 'https://media.pitchfork.com/photos/66cf5bfff3807d38ff64519f/1:1/w_1600%2Cc_limit/Why-Bonnie.jpg',\n",
       " 'https://media.pitchfork.com/photos/65e8a8030b535fdbb08147cd/1:1/w_1600%2Cc_limit/Nick-Cave-Wild-God.jpg',\n",
       " 'https://media.pitchfork.com/photos/66708140dc443478fe78e69f/1:1/w_1600%2Cc_limit/Laurie-Anderson-Amelia.jpg',\n",
       " 'https://media.pitchfork.com/photos/66d7230ff78476688e21398e/1:1/w_1600%2Cc_limit/Peel%2520Dream%2520Magazine%2520-%2520Rose%2520Main%2520Reading%2520Room.jpg',\n",
       " 'https://media.pitchfork.com/photos/662fb40945ecfc72f1b01caf/1:1/w_1600%2Cc_limit/jonhopkins_RITUAL_3000x3000.jpg',\n",
       " 'https://media.pitchfork.com/photos/66cf5a815008c27a59d6ebb8/1:1/w_1600%2Cc_limit/Lia-Kohl-Normal-Sounds.jpg',\n",
       " 'https://media.pitchfork.com/photos/66d0e144cdf1dcd025458e3e/1:1/w_1600%2Cc_limit/1tbsp_megacity1000.jpg',\n",
       " 'https://media.pitchfork.com/photos/666094ca71020266169e6400/1:1/w_1600%2Cc_limit/Ween-Chocolate-and-Cheese.jpg',\n",
       " 'https://media.pitchfork.com/photos/66d08d963d7b314e51c074b0/1:1/w_1600%2Cc_limit/Dorothy_Carter_Troubadour_artwork.png',\n",
       " 'https://media.pitchfork.com/photos/66a00d6327bd862f0b38ccd1/1:1/w_1600%2Cc_limit/Seefeel-Everything-Squared.jpg',\n",
       " 'https://media.pitchfork.com/photos/66cf585a22a3cca5e27fe0c9/1:1/w_1600%2Cc_limit/Coco-and-Clair-Clair-Girl.jpg',\n",
       " 'https://media.pitchfork.com/photos/66a29b2b15251dbe80c29be2/1:1/w_1600%2Cc_limit/Paris%2520Paloma-%2520Cacophony.png',\n",
       " 'https://media.pitchfork.com/photos/66732cd8370ad66cfda70cd6/1:1/w_1600%2Cc_limit/The-Softies.jpg',\n",
       " 'https://media.pitchfork.com/photos/66c490c0539f3919f01513cd/1:1/w_1600%2Cc_limit/Jaeychino-Watch-the-Throne.jpg',\n",
       " 'https://media.pitchfork.com/photos/66c49e112646d3896f0b8315/1:1/w_1600%2Cc_limit/Ka.jpg',\n",
       " 'https://media.pitchfork.com/photos/66699e711496d5ecbb675938/1:1/w_1600%2Cc_limit/Spirit-of-the-Beehive-Youll-Have-to-Lose-Something.jpg',\n",
       " 'https://media.pitchfork.com/photos/66605f2a74fae9996708edd2/1:1/w_1600%2Cc_limit/Illuminati-Hotties-Power.jpg',\n",
       " 'https://media.pitchfork.com/photos/661d440bfcf3e483157e6e29/1:1/w_1600%2Cc_limit/Body-Meat-Starchris.jpg',\n",
       " 'https://media.pitchfork.com/photos/66ccd64436fd3358189ce973/1:1/w_1600%2Cc_limit/Etelin_Patio_User_Manual_artwork.jpg',\n",
       " 'https://media.pitchfork.com/photos/66c49e1f076eb340c39090c8/1:1/w_1600%2Cc_limit/J-Mamana.jpg',\n",
       " 'https://media.pitchfork.com/photos/6662e6122ce1ce711b18e944/1:1/w_1600%2Cc_limit/Sabrina-Carpenter-Short-n-Sweet.jpg',\n",
       " 'https://media.pitchfork.com/photos/668ee334d1a4b2217f3f7bd1/1:1/w_1600%2Cc_limit/The-Get-Up-Kids.jpg',\n",
       " 'https://media.pitchfork.com/photos/667afd592d8a77096d033bb4/1:1/w_1600%2Cc_limit/Heems-Veena-LP.jpg',\n",
       " 'https://media.pitchfork.com/photos/66c8ff29c841f10b10b5d408/1:1/w_1600%2Cc_limit/soundbombing-II.png',\n",
       " 'https://media.pitchfork.com/photos/66b147c6bce7f1d9f43d407e/1:1/w_1600%2Cc_limit/Throbbing%2520Gristle-%2520TGCD1.jpg',\n",
       " 'https://media.pitchfork.com/photos/668ed2fafefe1050fc3c42d2/1:1/w_1600%2Cc_limit/Magdalena-Bay-Imaginal-Disk.jpg',\n",
       " 'https://media.pitchfork.com/photos/66bca3a094b449df62a0f729/1:1/w_1600%2Cc_limit/Play-Cash-Cobain.jpg',\n",
       " 'https://media.pitchfork.com/photos/6674467756eeca15d8870072/1:1/w_1600%2Cc_limit/Fake%2520Fruit%2520-%2520Mucho%2520Mistrust.jpeg',\n",
       " 'https://media.pitchfork.com/photos/661fd84fb341975f564d5886/1:1/w_1600%2Cc_limit/FontainesDC_Romance_4000x40002.jpg',\n",
       " 'https://media.pitchfork.com/photos/66994b3db9519fc29d58ac1e/1:1/w_1600%2Cc_limit/Gillian-Welch-David-Rawlings-Woodland.jpg',\n",
       " 'https://media.pitchfork.com/photos/6630765760179481fc71a591/1:1/w_1600%2Cc_limit/Charly%2520Bliss%2520-%2520FOREVER%2520_%2520Album%2520Art.jpg',\n",
       " 'https://media.pitchfork.com/photos/66c4bf799c2fa1203ad17aee/1:1/w_1600%2Cc_limit/Rosie_Lowe_Lover_Other_artwork.jpg',\n",
       " 'https://media.pitchfork.com/photos/66bfa5c86cc8a418447da691/1:1/w_1600%2Cc_limit/Charley-Crockett-10-Cowboy.jpg',\n",
       " 'https://media.pitchfork.com/photos/6674701fd1dae617f0a0d477/1:1/w_1600%2Cc_limit/Post-Malone-F-1-Trillion.jpg',\n",
       " 'https://media.pitchfork.com/photos/66b144965298828208bc7a28/1:1/w_1600%2Cc_limit/Chuck%2520Johnson-%2520Sun%2520Glories.jpg',\n",
       " 'https://media.pitchfork.com/photos/66a92786ec557b4af1433e1b/1:1/w_1600%2Cc_limit/Delicate%2520Steve-%2520Delicate%2520Steve%2520Sings.png',\n",
       " '/verso/static/pitchfork/assets/logo-reverse.svg']"
      ]
     },
     "execution_count": 30,
     "metadata": {},
     "output_type": "execute_result"
    }
   ],
   "source": [
    "#extract source of image url\n",
    "[img.attrs['src'] for img in images]"
   ]
  },
  {
   "cell_type": "code",
   "execution_count": null,
   "metadata": {},
   "outputs": [],
   "source": [
    "# extract the genre tags\n"
   ]
  },
  {
   "cell_type": "code",
   "execution_count": null,
   "metadata": {},
   "outputs": [],
   "source": [
    "# extract the text from the genres\n"
   ]
  },
  {
   "cell_type": "markdown",
   "metadata": {},
   "source": [
    "**PROBLEM**\n",
    "\n",
    "Use the url below to the npr book review site.  Make a request, turn this into a soup object, and use the inspect tool to locate the title of each article on the page.  "
   ]
  },
  {
   "cell_type": "code",
   "execution_count": null,
   "metadata": {},
   "outputs": [],
   "source": [
    "url = 'https://www.npr.org/sections/book-reviews/'"
   ]
  },
  {
   "cell_type": "code",
   "execution_count": null,
   "metadata": {},
   "outputs": [],
   "source": []
  },
  {
   "cell_type": "code",
   "execution_count": null,
   "metadata": {},
   "outputs": [],
   "source": []
  },
  {
   "cell_type": "code",
   "execution_count": null,
   "metadata": {},
   "outputs": [],
   "source": []
  },
  {
   "cell_type": "code",
   "execution_count": null,
   "metadata": {},
   "outputs": [],
   "source": []
  },
  {
   "cell_type": "code",
   "execution_count": null,
   "metadata": {},
   "outputs": [],
   "source": []
  },
  {
   "cell_type": "markdown",
   "metadata": {},
   "source": [
    "#### Summary\n",
    "\n",
    "There are many ways you may get data -- a file that somebody shares with you, data obtained through an API, data obtained through scraping and crawling websites, and even more like a database that you connect to.  Now that you've got some basics with both data accession, cleaning, munging, and visualizing -- it's time to explore a dataset and ask your own questions."
   ]
  }
 ],
 "metadata": {
  "kernelspec": {
   "display_name": "Python 3",
   "language": "python",
   "name": "python3"
  },
  "language_info": {
   "codemirror_mode": {
    "name": "ipython",
    "version": 3
   },
   "file_extension": ".py",
   "mimetype": "text/x-python",
   "name": "python",
   "nbconvert_exporter": "python",
   "pygments_lexer": "ipython3",
   "version": "3.8.3"
  }
 },
 "nbformat": 4,
 "nbformat_minor": 4
}

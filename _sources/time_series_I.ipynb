{
  "cells": [
    {
      "cell_type": "markdown",
      "metadata": {
        "id": "8jhGCP1vIW9X"
      },
      "source": [
        "\n",
        "\n",
        "### Time Series and Forecasting Intro\n",
        "\n",
        "**OBJECTIVES**\n",
        "\n",
        "- Know how to approach a time series forecasting problem.\n",
        "- Be able to make several baseline time series models.\n",
        "- Make exponential smoothing models including Holt-Winters.\n",
        "\n"
      ]
    },
    {
      "cell_type": "code",
      "execution_count": null,
      "metadata": {
        "id": "9DrNfrGvIW9Y"
      },
      "outputs": [],
      "source": [
        "import pandas_datareader as pdr\n",
        "import matplotlib.pyplot as plt\n",
        "import pandas as pd\n",
        "import numpy as np"
      ]
    },
    {
      "cell_type": "markdown",
      "source": [
        "#### Forest and Trees\n",
        "\n",
        "The data below contains information on individuals and if they have heart disease (`AHD`).  Your objective is to set up a pipeline to one hot encode any categorical features and leave the numeric features alone.  Fit a decision tree and random forest model on the data with all default settings, and explore the confusion matrices on the test data.  What do you think the best evaluation metric for the setting is and which estimator did a better job?"
      ],
      "metadata": {
        "id": "i1Fi_LGrI9vV"
      }
    },
    {
      "cell_type": "code",
      "source": [
        "heart = pd.read_csv('https://raw.githubusercontent.com/jfkoehler/nyu_bootcamp_fa24/refs/heads/main/data/Heart.csv', index_col = 0)"
      ],
      "metadata": {
        "id": "-gaeJkCFI_xr"
      },
      "execution_count": null,
      "outputs": []
    },
    {
      "cell_type": "code",
      "source": [
        "heart.head()"
      ],
      "metadata": {
        "id": "oRS7yg6VI_vD"
      },
      "execution_count": null,
      "outputs": []
    },
    {
      "cell_type": "code",
      "source": [
        "from sklearn.ensemble import RandomForestClassifier\n",
        "from sklearn.tree import DecisionTreeClassifier\n",
        "from sklearn.model_selection import train_test_split\n",
        "from sklearn.compose import make_column_transformer\n",
        "from sklearn.preprocessing import OneHotEncoder\n",
        "from sklearn.metrics import ConfusionMatrixDisplay"
      ],
      "metadata": {
        "id": "eyCIZ2iTI_re"
      },
      "execution_count": null,
      "outputs": []
    },
    {
      "cell_type": "code",
      "source": [],
      "metadata": {
        "id": "lWXjwkulI_pJ"
      },
      "execution_count": null,
      "outputs": []
    },
    {
      "cell_type": "code",
      "source": [],
      "metadata": {
        "id": "cOfVKpCVI_mL"
      },
      "execution_count": null,
      "outputs": []
    },
    {
      "cell_type": "code",
      "source": [],
      "metadata": {
        "id": "9A8vxNZhI_jX"
      },
      "execution_count": null,
      "outputs": []
    },
    {
      "cell_type": "code",
      "source": [],
      "metadata": {
        "id": "PJgo_w8II_g4"
      },
      "execution_count": null,
      "outputs": []
    },
    {
      "cell_type": "code",
      "source": [],
      "metadata": {
        "id": "ufWbNCrII_dw"
      },
      "execution_count": null,
      "outputs": []
    },
    {
      "cell_type": "markdown",
      "source": [
        "#### `GridSearchCV`\n",
        "\n",
        "While we have models working, there are many hyperparameters that could be altered.  To experiment with different hyperparameter settings we can use `GridSearchCV` to compare the resulting performance."
      ],
      "metadata": {
        "id": "Qr5o5OZGNbVI"
      }
    },
    {
      "cell_type": "code",
      "source": [
        "X = heart[['Age', \"Sex\", \"RestBP\", \"Chol\"]]\n",
        "y = heart['AHD']"
      ],
      "metadata": {
        "id": "Md3rMMwaN2NR"
      },
      "execution_count": null,
      "outputs": []
    },
    {
      "cell_type": "code",
      "source": [
        "tree = DecisionTreeClassifier()"
      ],
      "metadata": {
        "id": "Q-ON52zSN142"
      },
      "execution_count": null,
      "outputs": []
    },
    {
      "cell_type": "code",
      "source": [
        "params = {'max_depth': [1, 2, 3, 4, 5]}"
      ],
      "metadata": {
        "id": "Bib3Pqc7N12F"
      },
      "execution_count": null,
      "outputs": []
    },
    {
      "cell_type": "code",
      "source": [
        "#instantiate grid search object\n"
      ],
      "metadata": {
        "id": "QgXlCYgRN1zA"
      },
      "execution_count": null,
      "outputs": []
    },
    {
      "cell_type": "code",
      "source": [
        "#fit on X and y\n"
      ],
      "metadata": {
        "id": "nIwbdhUVN1v_"
      },
      "execution_count": null,
      "outputs": []
    },
    {
      "cell_type": "code",
      "source": [
        "#score the model\n"
      ],
      "metadata": {
        "id": "RITlr2GeN1NN"
      },
      "execution_count": null,
      "outputs": []
    },
    {
      "cell_type": "code",
      "source": [
        "#best parameters?\n"
      ],
      "metadata": {
        "id": "tzgnQ5bbOdeh"
      },
      "execution_count": null,
      "outputs": []
    },
    {
      "cell_type": "code",
      "source": [
        "#all results as DataFrame\n"
      ],
      "metadata": {
        "id": "JMnYwv8uOgBw"
      },
      "execution_count": null,
      "outputs": []
    },
    {
      "cell_type": "code",
      "source": [
        "#repeat with different scoring metric\n"
      ],
      "metadata": {
        "id": "ufp57_G_s4sC"
      },
      "execution_count": 138,
      "outputs": []
    },
    {
      "cell_type": "code",
      "source": [
        "#best paramaters\n"
      ],
      "metadata": {
        "id": "sr49VDsEs4mY"
      },
      "execution_count": 139,
      "outputs": []
    },
    {
      "cell_type": "markdown",
      "source": [
        "### Time Series Models"
      ],
      "metadata": {
        "id": "2Vaonl3IJAVj"
      }
    },
    {
      "cell_type": "code",
      "source": [
        "housing = pd.read_csv('housing_stock.csv')\n",
        "housing.info()"
      ],
      "metadata": {
        "id": "eFBI6SvjIkDP"
      },
      "execution_count": null,
      "outputs": []
    },
    {
      "cell_type": "code",
      "source": [
        "#make sure datetime\n"
      ],
      "metadata": {
        "id": "Qz2l9wpCQNmr"
      },
      "execution_count": null,
      "outputs": []
    },
    {
      "cell_type": "code",
      "source": [
        "#set date as index\n"
      ],
      "metadata": {
        "id": "qkj002CSQNjS"
      },
      "execution_count": null,
      "outputs": []
    },
    {
      "cell_type": "markdown",
      "metadata": {
        "id": "VTE6xNQRIW9a"
      },
      "source": [
        "#### Exploratory Methods\n",
        "\n",
        "- `rolling`\n",
        "- `diff`\n",
        "- `shift`\n",
        "- `pct_change`"
      ]
    },
    {
      "cell_type": "code",
      "execution_count": null,
      "metadata": {
        "id": "ZUPp1BkmIW9b"
      },
      "outputs": [],
      "source": [
        "housing.plot()"
      ]
    },
    {
      "cell_type": "code",
      "execution_count": null,
      "metadata": {
        "id": "aSNR7PvBIW9b"
      },
      "outputs": [],
      "source": [
        "#smooth with mean\n"
      ]
    },
    {
      "cell_type": "code",
      "execution_count": null,
      "metadata": {
        "id": "6Xl8OJ-KIW9b"
      },
      "outputs": [],
      "source": [
        "#difference\n"
      ]
    },
    {
      "cell_type": "code",
      "execution_count": null,
      "metadata": {
        "id": "WqpnCHBiIW9b"
      },
      "outputs": [],
      "source": [
        "#shift\n"
      ]
    },
    {
      "cell_type": "code",
      "execution_count": null,
      "metadata": {
        "id": "qntj_8YkIW9c"
      },
      "outputs": [],
      "source": [
        "#pct_change\n"
      ]
    },
    {
      "cell_type": "markdown",
      "metadata": {
        "id": "6Pp8VoPGIW9c"
      },
      "source": [
        "#### Autocorrelation\n",
        "\n",
        "Correlation between $x_t$ and $x_{i + k}$."
      ]
    },
    {
      "cell_type": "code",
      "execution_count": null,
      "metadata": {
        "id": "FuWpVxFVIW9c"
      },
      "outputs": [],
      "source": [
        "from statsmodels.graphics.tsaplots import plot_acf"
      ]
    },
    {
      "cell_type": "code",
      "source": [],
      "metadata": {
        "id": "UN09OWHuQAts"
      },
      "execution_count": null,
      "outputs": []
    },
    {
      "cell_type": "code",
      "execution_count": null,
      "metadata": {
        "id": "AkBKX29MIW9c"
      },
      "outputs": [],
      "source": []
    },
    {
      "cell_type": "code",
      "execution_count": null,
      "metadata": {
        "id": "-nNtBaldIW9c"
      },
      "outputs": [],
      "source": []
    },
    {
      "cell_type": "markdown",
      "metadata": {
        "id": "juw1ha9UIW9c"
      },
      "source": [
        "---\n",
        "\n",
        "\n",
        "## Common types of time series forecasting problems\n",
        "\n",
        "- Forecast a single value of the time series. (use y historic values of y to predict y at one point in the future)\n",
        "- Forecast a whole range of future values. (use historic values of y to predict y at many points in the future)\n",
        "- Use other features to aid in your forecast. (predict many y in the future and use y and X)\n",
        "- Forecast multiple time series simultaneously"
      ]
    },
    {
      "cell_type": "markdown",
      "metadata": {
        "id": "KB3MS4iaIW9c"
      },
      "source": [
        "## Before modeling\n",
        "- Get the time period into *datetime* dtype format\n",
        "- put it in the index\n",
        "- sort the index\n",
        "\n",
        "## Modeling considerations\n",
        "- Make sure you are clear what you are predicting (one value, a range of values, one-step-ahead that updates every time period?)\n",
        "- **Make sure you aren't leaking information from the future into your training data**\n",
        "- Make null baseline models"
      ]
    },
    {
      "cell_type": "code",
      "execution_count": null,
      "metadata": {
        "id": "1eP1kzeMIW9d"
      },
      "outputs": [],
      "source": []
    },
    {
      "cell_type": "code",
      "execution_count": null,
      "metadata": {
        "id": "ZNDE15zYIW9d"
      },
      "outputs": [],
      "source": []
    },
    {
      "cell_type": "code",
      "execution_count": null,
      "metadata": {
        "id": "7MFA3s-HIW9d"
      },
      "outputs": [],
      "source": []
    },
    {
      "cell_type": "code",
      "execution_count": null,
      "metadata": {
        "id": "G8WL9uKDIW9d"
      },
      "outputs": [],
      "source": []
    },
    {
      "cell_type": "code",
      "execution_count": null,
      "metadata": {
        "id": "0v5lezguIW9d"
      },
      "outputs": [],
      "source": []
    },
    {
      "cell_type": "markdown",
      "metadata": {
        "id": "x4cClXFpIW9d"
      },
      "source": [
        "## Example: Store sales data from Walmart"
      ]
    },
    {
      "cell_type": "markdown",
      "metadata": {
        "id": "EG0dqEqBIW9d"
      },
      "source": [
        "### Let's forecast one single value one time period into the future"
      ]
    },
    {
      "cell_type": "code",
      "execution_count": null,
      "metadata": {
        "id": "oTfL5bYjIW9d"
      },
      "outputs": [],
      "source": [
        "import pandas as pd\n",
        "import matplotlib.pyplot as plt\n",
        "import numpy as np"
      ]
    },
    {
      "cell_type": "markdown",
      "metadata": {
        "id": "rKkiRPduIW9d"
      },
      "source": [
        "## Prepare data"
      ]
    },
    {
      "cell_type": "markdown",
      "metadata": {
        "id": "Ph7xWvk3IW9d"
      },
      "source": [
        "#### Read in the dataset, set the index as a datetime index, sort it, and take a look at it."
      ]
    },
    {
      "cell_type": "code",
      "execution_count": null,
      "metadata": {
        "ExecuteTime": {
          "end_time": "2019-09-09T13:42:15.573361Z",
          "start_time": "2019-09-09T13:42:15.000892Z"
        },
        "id": "YTStCChBIW9d"
      },
      "outputs": [],
      "source": [
        "data = pd.read_csv('https://raw.githubusercontent.com/jfkoehler/nyu_bootcamp_fa24/main/data/train.csv',\n",
        "                   parse_dates=['Date'], index_col='Date')\n",
        "data.head()"
      ]
    },
    {
      "cell_type": "code",
      "execution_count": null,
      "metadata": {
        "id": "4tIrC4FZIW9e"
      },
      "outputs": [],
      "source": [
        "data.index"
      ]
    },
    {
      "cell_type": "code",
      "execution_count": null,
      "metadata": {
        "ExecuteTime": {
          "end_time": "2019-09-09T13:42:15.573361Z",
          "start_time": "2019-09-09T13:42:15.000892Z"
        },
        "id": "OAm75deiIW9e"
      },
      "outputs": [],
      "source": [
        "data.sort_index(inplace=True)"
      ]
    },
    {
      "cell_type": "code",
      "execution_count": null,
      "metadata": {
        "id": "hlVWRrs4IW9e"
      },
      "outputs": [],
      "source": []
    },
    {
      "cell_type": "code",
      "execution_count": null,
      "metadata": {
        "id": "75pd49cPIW9e"
      },
      "outputs": [],
      "source": []
    },
    {
      "cell_type": "markdown",
      "metadata": {
        "id": "k87P6V73IW9e"
      },
      "source": [
        "#### Rename sales column"
      ]
    },
    {
      "cell_type": "code",
      "execution_count": null,
      "metadata": {
        "id": "lJe7AgOKIW9e"
      },
      "outputs": [],
      "source": [
        "data.rename(columns={'Weekly_Sales': 'sales'}, inplace=True)"
      ]
    },
    {
      "cell_type": "code",
      "execution_count": null,
      "metadata": {
        "id": "9JhKd28qIW9e"
      },
      "outputs": [],
      "source": [
        "data.head(2)"
      ]
    },
    {
      "cell_type": "markdown",
      "metadata": {
        "id": "dE1ywQXSIW9f"
      },
      "source": [
        "#### Filter the DataFrame to Store 1 weekly sales only"
      ]
    },
    {
      "cell_type": "code",
      "execution_count": null,
      "metadata": {
        "ExecuteTime": {
          "end_time": "2019-09-09T13:42:17.287774Z",
          "start_time": "2019-09-09T13:42:17.262841Z"
        },
        "id": "-8aLjzQ1IW9f"
      },
      "outputs": [],
      "source": [
        "store_1_data = data[data['Store'] == 1].copy()\n",
        "store_1_data.head()"
      ]
    },
    {
      "cell_type": "code",
      "execution_count": null,
      "metadata": {
        "id": "QH8HsUNHIW9f"
      },
      "outputs": [],
      "source": [
        "store_1_data.tail(3)"
      ]
    },
    {
      "cell_type": "code",
      "execution_count": null,
      "metadata": {
        "id": "bJNdzG70IW9f"
      },
      "outputs": [],
      "source": []
    },
    {
      "cell_type": "markdown",
      "metadata": {
        "id": "gGLaqGzKIW9g"
      },
      "source": [
        "Aggregate all departments to compute the total sales per store. Keep only that column.\n",
        "\n",
        "Each department is in its own row, so you can aggregate sales by date."
      ]
    },
    {
      "cell_type": "code",
      "execution_count": null,
      "metadata": {
        "ExecuteTime": {
          "end_time": "2019-09-09T13:42:17.287774Z",
          "start_time": "2019-09-09T13:42:17.262841Z"
        },
        "id": "GDPKNG1NIW9g"
      },
      "outputs": [],
      "source": [
        "store_1_sales = store_1_data.groupby(store_1_data.index)[['sales']].sum()\n",
        "store_1_sales.head(3)"
      ]
    },
    {
      "cell_type": "markdown",
      "metadata": {
        "id": "LpbA4oouIW9g"
      },
      "source": [
        "#### Plot it"
      ]
    },
    {
      "cell_type": "code",
      "execution_count": null,
      "metadata": {
        "ExecuteTime": {
          "end_time": "2019-09-09T13:42:21.079629Z",
          "start_time": "2019-09-09T13:42:20.002510Z"
        },
        "id": "bNZK_N8NIW9g"
      },
      "outputs": [],
      "source": [
        "store_1_sales.plot();"
      ]
    },
    {
      "cell_type": "markdown",
      "metadata": {
        "id": "qRwUen7DIW9h"
      },
      "source": [
        "### Split the dataset into train and test sets."
      ]
    },
    {
      "cell_type": "markdown",
      "metadata": {
        "id": "Ahlcs6yNIW9h"
      },
      "source": [
        "Subset the data to train and test. **The test set must come after the training set.** Why?"
      ]
    },
    {
      "cell_type": "markdown",
      "metadata": {
        "id": "-xSsVqErIW9h"
      },
      "source": []
    },
    {
      "cell_type": "markdown",
      "metadata": {
        "id": "yML-kg5gIW9h"
      },
      "source": [
        "#### Let's make the two datasets manually"
      ]
    },
    {
      "cell_type": "code",
      "execution_count": null,
      "metadata": {
        "ExecuteTime": {
          "end_time": "2019-09-09T13:42:23.025423Z",
          "start_time": "2019-09-09T13:42:23.017445Z"
        },
        "id": "DSgUnA6VIW9h"
      },
      "outputs": [],
      "source": [
        "train = store_1_sales.loc[:'2012-1']\n",
        "train.head(3)"
      ]
    },
    {
      "cell_type": "code",
      "execution_count": null,
      "metadata": {
        "id": "NEnRw3jzIW9h"
      },
      "outputs": [],
      "source": [
        "train.tail(2)"
      ]
    },
    {
      "cell_type": "code",
      "execution_count": null,
      "metadata": {
        "id": "etpbWDL_IW9i"
      },
      "outputs": [],
      "source": [
        "test = store_1_sales.loc['2012-2':]"
      ]
    },
    {
      "cell_type": "code",
      "execution_count": null,
      "metadata": {
        "id": "Km7PwrkGIW9i"
      },
      "outputs": [],
      "source": [
        "test.head(2)"
      ]
    },
    {
      "cell_type": "code",
      "execution_count": null,
      "metadata": {
        "id": "ZmZfMhfWIW9i"
      },
      "outputs": [],
      "source": [
        "test.tail(2)"
      ]
    },
    {
      "cell_type": "code",
      "execution_count": null,
      "metadata": {
        "id": "mkaGl5bWIW9i"
      },
      "outputs": [],
      "source": [
        "train.shape"
      ]
    },
    {
      "cell_type": "code",
      "execution_count": null,
      "metadata": {
        "id": "N4-DR4LyIW9i"
      },
      "outputs": [],
      "source": [
        "test.shape"
      ]
    },
    {
      "cell_type": "markdown",
      "metadata": {
        "id": "m2vWrq6EIW9j"
      },
      "source": [
        "Plot the two DataFrames"
      ]
    },
    {
      "cell_type": "code",
      "execution_count": null,
      "metadata": {
        "ExecuteTime": {
          "end_time": "2019-09-09T13:42:25.897738Z",
          "start_time": "2019-09-09T13:42:24.856525Z"
        },
        "id": "EqV95oFkIW9j"
      },
      "outputs": [],
      "source": [
        "train['sales'].plot(label='train')\n",
        "test['sales'].plot(title='Weekly Sales for Store 1', label='test')\n",
        "plt.legend()\n",
        "plt.ylim(1.1E6, 2.5E6);"
      ]
    },
    {
      "cell_type": "markdown",
      "metadata": {
        "id": "ZzrZOM0qIW9j"
      },
      "source": [
        "## Model 1: Naive Forecast"
      ]
    },
    {
      "cell_type": "markdown",
      "metadata": {
        "id": "Jp9pQXuKIW9j"
      },
      "source": [
        "Take the last time period's sales and estimate the same value for all future time periods. This method is a **naive forecast**.\n",
        "\n",
        "$${\\Large \\hat y_{t+1} = y_t}$$"
      ]
    },
    {
      "cell_type": "markdown",
      "metadata": {
        "id": "lVSCr8HrIW9j"
      },
      "source": [
        "Make a predictions DataFrame and set the predicted values equal to the last value in the `Sales` df."
      ]
    },
    {
      "cell_type": "code",
      "execution_count": null,
      "metadata": {
        "id": "c2tOfsA_IW9j"
      },
      "outputs": [],
      "source": [
        "train.tail(1)"
      ]
    },
    {
      "cell_type": "markdown",
      "metadata": {
        "id": "1-oZaoZAIW9k"
      },
      "source": [
        "#### Save our results in a *df_predictions* DataFrame."
      ]
    },
    {
      "cell_type": "code",
      "execution_count": null,
      "metadata": {
        "ExecuteTime": {
          "end_time": "2019-09-09T13:42:28.230496Z",
          "start_time": "2019-09-09T13:42:27.565278Z"
        },
        "id": "yXgV10MlIW9k"
      },
      "outputs": [],
      "source": [
        "df_predictions = test.copy()"
      ]
    },
    {
      "cell_type": "code",
      "execution_count": null,
      "metadata": {
        "id": "-7mr5cQoIW9k"
      },
      "outputs": [],
      "source": [
        "df_predictions.head(3)"
      ]
    },
    {
      "cell_type": "markdown",
      "metadata": {
        "id": "RcX1Qdx1IW9k"
      },
      "source": [
        "#### Take the last training dataset value and make that the guess for all future time periods."
      ]
    },
    {
      "cell_type": "code",
      "execution_count": null,
      "metadata": {
        "ExecuteTime": {
          "end_time": "2019-09-09T13:42:28.230496Z",
          "start_time": "2019-09-09T13:42:27.565278Z"
        },
        "id": "5Qnxc5lIIW9k"
      },
      "outputs": [],
      "source": [
        "df_predictions['last'] = train['sales'].iloc[-1]\n",
        "df_predictions.head()"
      ]
    },
    {
      "cell_type": "markdown",
      "metadata": {
        "id": "HrzA4c4RIW9k"
      },
      "source": [
        "#### Plot the historic data, the actual \"future\" data, and the predicted \"future\" data."
      ]
    },
    {
      "cell_type": "code",
      "execution_count": null,
      "metadata": {
        "ExecuteTime": {
          "end_time": "2019-09-09T13:42:28.230496Z",
          "start_time": "2019-09-09T13:42:27.565278Z"
        },
        "id": "6qIvZmU1IW9k"
      },
      "outputs": [],
      "source": [
        "plt.figure(figsize = (15, 5))\n",
        "\n",
        "plt.plot(train['sales'], label='Train')\n",
        "plt.plot(test['sales'], label='Test')\n",
        "plt.plot(df_predictions['last'], label='Naive Last')\n",
        "\n",
        "plt.legend()\n",
        "plt.title('Naive Forecast');"
      ]
    },
    {
      "cell_type": "markdown",
      "metadata": {
        "id": "lnfgIIlCIW9l"
      },
      "source": [
        "#### Score our model\n",
        "On RMSE."
      ]
    },
    {
      "cell_type": "code",
      "execution_count": null,
      "metadata": {
        "id": "AOUBbZ4QIW9l"
      },
      "outputs": [],
      "source": [
        "from sklearn.metrics import mean_squared_error"
      ]
    },
    {
      "cell_type": "code",
      "execution_count": null,
      "metadata": {
        "id": "gLIP8FAbIW9l"
      },
      "outputs": [],
      "source": [
        "mean_squared_error(df_predictions['sales'], df_predictions['last'], squared=False)"
      ]
    },
    {
      "cell_type": "markdown",
      "metadata": {
        "id": "1nIrN3kEIW9l"
      },
      "source": [
        "#### That's the most basic baseline.\n"
      ]
    },
    {
      "cell_type": "markdown",
      "metadata": {
        "id": "2xaK5m6rIW9m"
      },
      "source": [
        "## Model 2: Seasonality\n",
        "\n",
        "Forecast = 52 observations prior if you have weekly sales data and the seasonal pattern repeats every 52 weeks."
      ]
    },
    {
      "cell_type": "code",
      "execution_count": null,
      "metadata": {
        "id": "llszoRXEIW9m"
      },
      "outputs": [],
      "source": [
        "df_predictions['seasonal'] = train['sales'].shift(52, freq='infer')"
      ]
    },
    {
      "cell_type": "code",
      "execution_count": null,
      "metadata": {
        "id": "vFggSUqSIW9n"
      },
      "outputs": [],
      "source": [
        "df_predictions.head()"
      ]
    },
    {
      "cell_type": "code",
      "execution_count": null,
      "metadata": {
        "id": "SF5erfokIW9n"
      },
      "outputs": [],
      "source": [
        "plt.figure(figsize=(12, 8))\n",
        "\n",
        "plt.plot(train['sales'], label='Train')\n",
        "plt.plot(test['sales'], label='Test')\n",
        "plt.plot(df_predictions['last'], label='Naive Last')\n",
        "# plt.plot(df_predictions['simple_mean'], label='Historical Mean')\n",
        "plt.plot(df_predictions['seasonal'], label='Seasonal')\n",
        "\n",
        "plt.legend()\n",
        "plt.title('Baseline Forecasts');"
      ]
    },
    {
      "cell_type": "code",
      "execution_count": null,
      "metadata": {
        "id": "3bxoU6cUIW9n"
      },
      "outputs": [],
      "source": [
        "np.sqrt(mean_squared_error(df_predictions['sales'], df_predictions['seasonal']))"
      ]
    },
    {
      "cell_type": "markdown",
      "metadata": {
        "id": "ppKwYMU2IW9n"
      },
      "source": [
        "---\n",
        "## Model 3: Simple Exponential Smoothing\n",
        "\n",
        "Smoothing just means using a moving average. Read more on moving averages from Hyndman [here](https://robjhyndman.com/papers/movingaverage.pdf).\n",
        "\n",
        "Simple exponential smoothing uses weighted averages where the weights decrease exponentially for older data points.\n",
        "\n",
        "$${\\hat y_{t+1} = \\alpha y_t + \\alpha (1-\\alpha)y_{t-1} + \\alpha(1-\\alpha)^2 y_{t-2} + ...}$$\n",
        "\n",
        "The one-step-ahead forecast for time `t+1` is a weighted average of all of the observations in the series (`y1,…,yt`). The rate at which the weights decrease is controlled by the parameter, `α` (which is between 0 and 1 with larger values of `α` meaning faster decay).\n",
        "\n",
        "**Older values matter less.**"
      ]
    },
    {
      "cell_type": "markdown",
      "metadata": {
        "id": "BxibK0loIW9o"
      },
      "source": [
        "If alpha =.5:\n",
        "\n",
        "- What is the weight of the most recent observation (t)?\n",
        "- What is the weight of (t-1)?\n",
        "- What is the weight of (t-2)?"
      ]
    },
    {
      "cell_type": "markdown",
      "metadata": {
        "id": "xTbvxLGKIW9o"
      },
      "source": [
        "#### Let's use statsmodels for more advanced time series models to make life easier."
      ]
    },
    {
      "cell_type": "code",
      "execution_count": null,
      "metadata": {
        "id": "NQRpK8OjIW9o"
      },
      "outputs": [],
      "source": [
        "from statsmodels.tsa.api import SimpleExpSmoothing, ExponentialSmoothing"
      ]
    },
    {
      "cell_type": "code",
      "execution_count": null,
      "metadata": {
        "id": "64hv30DoIW9o"
      },
      "outputs": [],
      "source": [
        "ses = SimpleExpSmoothing(train['sales'])"
      ]
    },
    {
      "cell_type": "code",
      "execution_count": null,
      "metadata": {
        "id": "i0Awh2ouIW9o"
      },
      "outputs": [],
      "source": [
        "model = ses.fit(smoothing_level=0.5)"
      ]
    },
    {
      "cell_type": "markdown",
      "metadata": {
        "id": "wtfqg1Z5IW9o"
      },
      "source": [
        "#### Summary info"
      ]
    },
    {
      "cell_type": "code",
      "execution_count": null,
      "metadata": {
        "id": "5fwdrBkHIW9o"
      },
      "outputs": [],
      "source": [
        "model.summary()"
      ]
    },
    {
      "cell_type": "markdown",
      "metadata": {
        "id": "5nVmP-chIW9p"
      },
      "source": [
        "#### The best thing about statsmodels is the summary.\n",
        "\n",
        "Here you get lots of info: AIC, BIC, AICC, etc."
      ]
    },
    {
      "cell_type": "markdown",
      "metadata": {
        "id": "_AkCgKxQIW9p"
      },
      "source": [
        "The AIC (Akaike Information Criterion) and BIC (Bayesian Information Criterion) above are measures of how well the model fits. Lower is better. They consider the complexity of the model - like adjusted R2."
      ]
    },
    {
      "cell_type": "markdown",
      "metadata": {
        "id": "yn8D64kDIW9p"
      },
      "source": [
        "#### Forecast with `.forecast`\n",
        "\n",
        "Here you can just pass an integer for the number of forecasts."
      ]
    },
    {
      "cell_type": "code",
      "execution_count": null,
      "metadata": {
        "id": "LbiJ-H54IW9p"
      },
      "outputs": [],
      "source": [
        "ses_forecast = model.forecast(len(test))"
      ]
    },
    {
      "cell_type": "code",
      "execution_count": null,
      "metadata": {
        "id": "6C0ThmDWIW9p"
      },
      "outputs": [],
      "source": [
        "ses_forecast.head()"
      ]
    },
    {
      "cell_type": "code",
      "execution_count": null,
      "metadata": {
        "id": "KqTJI7TeIW9p"
      },
      "outputs": [],
      "source": [
        "df_predictions['ses'] = ses_forecast"
      ]
    },
    {
      "cell_type": "code",
      "execution_count": null,
      "metadata": {
        "id": "lZzYguskIW9q"
      },
      "outputs": [],
      "source": [
        "df_predictions.head(2)"
      ]
    },
    {
      "cell_type": "markdown",
      "metadata": {
        "id": "btTw7GJqIW9q"
      },
      "source": [
        "#### Plot"
      ]
    },
    {
      "cell_type": "code",
      "execution_count": null,
      "metadata": {
        "id": "xNtbjaonIW9q"
      },
      "outputs": [],
      "source": [
        "plt.figure(figsize=(12, 8))\n",
        "\n",
        "plt.plot(train['sales'], label='Train')\n",
        "plt.plot(test['sales'], label='Test')\n",
        "plt.plot(df_predictions['last'], label='Naive Last')\n",
        "plt.plot(df_predictions['seasonal'], label='Seasonal')\n",
        "plt.plot(df_predictions['ses'], label='Simple Exponential Smoothing')\n",
        "\n",
        "plt.legend()\n",
        "plt.title('Baseline Forecasts');"
      ]
    },
    {
      "cell_type": "markdown",
      "metadata": {
        "id": "xhu3q3kEIW9q"
      },
      "source": [
        "You can play with the smoothing level, but SES forecasts the same number every time, so this isn't going to be a winner."
      ]
    },
    {
      "cell_type": "markdown",
      "metadata": {
        "id": "mGb-TKayIW9q"
      },
      "source": [
        "---\n",
        "## Model 4: Holt-Winters' (additive and multiplicative versions)\n",
        "\n",
        "- Part of the exponential smoothing family of algorithms.\n",
        "- It's also called *Triple Exponential Smoothing*\n",
        "\n",
        "Holt-Winters' can handle trend and seasonality. It weights recent values more than old ones. This is a very strong classical time series model. 🎉\n",
        "\n",
        "#### Params to choose:\n",
        "- number of seasonal_periods\n",
        "- seasonal period effects additive or multiplicative\n",
        "- additive or multiplicative trend"
      ]
    },
    {
      "cell_type": "code",
      "execution_count": null,
      "metadata": {
        "id": "i9ZhEVY3IW9q"
      },
      "outputs": [],
      "source": [
        "import statsmodels.api as sm"
      ]
    },
    {
      "cell_type": "code",
      "execution_count": null,
      "metadata": {
        "id": "p3wYbJmKIW9q"
      },
      "outputs": [],
      "source": [
        "sm.__version__"
      ]
    },
    {
      "cell_type": "code",
      "execution_count": null,
      "metadata": {
        "id": "7DfXgJTYIW9r"
      },
      "outputs": [],
      "source": [
        "hw = ExponentialSmoothing(\n",
        "    train['sales'],\n",
        "    seasonal_periods=52,\n",
        "    trend='add',\n",
        "    seasonal='mul'\n",
        ").fit()"
      ]
    },
    {
      "cell_type": "code",
      "execution_count": null,
      "metadata": {
        "id": "NX96b5mqIW9r"
      },
      "outputs": [],
      "source": [
        "# hw.summary()"
      ]
    },
    {
      "cell_type": "code",
      "execution_count": null,
      "metadata": {
        "id": "0p2ytZPuIW9r"
      },
      "outputs": [],
      "source": [
        "df_predictions['hw'] = hw.forecast(len(test))\n",
        "df_predictions.head(3)"
      ]
    },
    {
      "cell_type": "markdown",
      "metadata": {
        "id": "vZEdY_ZaIW9r"
      },
      "source": [
        "#### Plot"
      ]
    },
    {
      "cell_type": "code",
      "execution_count": null,
      "metadata": {
        "id": "wc-vxzDTIW9r"
      },
      "outputs": [],
      "source": [
        "plt.figure(figsize=(12, 8))\n",
        "\n",
        "plt.plot(train['sales'], label='Train')\n",
        "plt.plot(test['sales'], label='Test')\n",
        "plt.plot(df_predictions['seasonal'], label='Seasonal')\n",
        "plt.plot(df_predictions['hw'], label=\"Holt-Winters'\")\n",
        "\n",
        "plt.legend()\n",
        "plt.title('Baseline Forecasts');"
      ]
    },
    {
      "cell_type": "markdown",
      "metadata": {
        "id": "N2_jXA2aIW9r"
      },
      "source": [
        "#### Evaluate"
      ]
    },
    {
      "cell_type": "code",
      "execution_count": null,
      "metadata": {
        "id": "LUKtnPZPIW9s"
      },
      "outputs": [],
      "source": [
        "mean_squared_error(df_predictions['sales'], df_predictions['hw'], squared=False)"
      ]
    },
    {
      "cell_type": "markdown",
      "metadata": {
        "id": "prdsNRkNIW9s"
      },
      "source": [
        "## Why did Holt-Winters' work well?"
      ]
    },
    {
      "cell_type": "markdown",
      "metadata": {
        "id": "S9Qjlch6IW9s"
      },
      "source": [
        "A time series dataset can be decomposed into its trend, seasonality, and residual components.\n",
        "\n",
        "Let's break down the components using statsmodels `seasonal_decompose` function."
      ]
    },
    {
      "cell_type": "code",
      "execution_count": null,
      "metadata": {
        "id": "NRnT4Bz_IW9s"
      },
      "outputs": [],
      "source": [
        "from statsmodels.tsa.seasonal import seasonal_decompose"
      ]
    },
    {
      "cell_type": "code",
      "execution_count": null,
      "metadata": {
        "id": "eFCK4bouIW9s"
      },
      "outputs": [],
      "source": [
        "seasonal_decompose(store_1_sales, period=52).plot();"
      ]
    },
    {
      "cell_type": "markdown",
      "metadata": {
        "id": "ECjS4oxOIW9s"
      },
      "source": [
        "Holt-Winters' uses exponential smoothing and takes into account the trend and seasonality to forecast future sales."
      ]
    },
    {
      "cell_type": "markdown",
      "metadata": {
        "id": "hVoJUMHcIW9s"
      },
      "source": [
        "You have to choose the number of seasonal periods, and whether the trend and seasonal components are additive or multiplicative."
      ]
    },
    {
      "cell_type": "markdown",
      "metadata": {
        "id": "KNQtV_cXIW9t"
      },
      "source": [
        "---\n",
        "## Seasonality"
      ]
    },
    {
      "cell_type": "markdown",
      "metadata": {
        "id": "5Dj1_WG4IW9t"
      },
      "source": [
        "Two primary kinds of seasonality:"
      ]
    },
    {
      "cell_type": "markdown",
      "metadata": {
        "id": "5EUf-FL8IW9t"
      },
      "source": [
        "### Additive vs. Multiplicative Seasonality\n",
        "\n",
        "Seasonality can present itself in two ways:\n",
        "\n",
        "1. __Additive:__ the peaks and valleys keep the same magnitude over time.\n",
        "2. __Multiplicative:__ the peaks and valleys change in magnitude over time.\n",
        "\n",
        "You can plot the data over time to see which kind of seasonality effects the data show:\n",
        "\n",
        "#### Additive Seasonality\n",
        "\n",
        "![adding.png](data:image/png;base64,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)\n",
        "\n",
        "#### Multiplicative Seasonality\n",
        "\n",
        "![multi.png](data:image/png;base64,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)\n",
        "\n",
        "Alternatively, GridSearch it - or use a function that GridSearchs for you!\n"
      ]
    },
    {
      "cell_type": "markdown",
      "metadata": {
        "id": "Az-d4sgdIW9t"
      },
      "source": [
        "We'll see some ways to deal with the trend in the next lesson. For now, just know that Hyndman says don't use multiplicative for trend."
      ]
    },
    {
      "cell_type": "markdown",
      "metadata": {
        "id": "Uy_WwSVXIW9t"
      },
      "source": [
        "The **Holt-Winters** method takes into account both trend and seasonality to forecast future sales.\n",
        "\n",
        "With this method, we will apply exponential smoothing to the seasonal components as well as the level and trend components.\n",
        "\n",
        "Here are the constituent parts of the additive model:\n",
        "\n",
        "<h3><center>Level Equation</center></h3> $$L_t = \\alpha (y_t - S_{t-s}) + (1 - \\alpha)(L_{t-1} + b_{t-1})$$\n",
        "<h3><center>Trend Equation</center></h3> $$b_t = \\beta *(L_t - L_{t-1}) + (1 - \\beta)b_{t-1}$$\n",
        "<h3><center>Seasonality Equation</center></h3> $$S_t = \\gamma(y_t-L_t)+(1-\\gamma)S_{t-s}$$\n",
        "\n",
        "Combine these into a single equation:\n",
        "\n",
        "<h3><center>Forecast Equation</center></h3> $${ F_{t+k} = L_t + kb_t+S_{t+k-s}}$$\n",
        "<br>\n",
        "\n",
        "(Where `α`, `β`, and `γ` are the smoothing parameters — each between 0 and 1 — and `s` is the length of the seasonal cycle.)\n",
        "\n",
        "* **The trend equation captures the overall direction of sales.**\n",
        "* The level equation is a weighted average between the seasonally adjusted observation and the non-seasonal forecast for time `t`.\n",
        "* The seasonal equation is a weighted average between the current seasonal index and the seasonal index of the same season `s` time periods ago.\n",
        "\n",
        "---\n",
        "#### Write out the train, test, and prediction DataFrames to pickle file format to use later"
      ]
    },
    {
      "cell_type": "code",
      "execution_count": null,
      "metadata": {
        "id": "VlCXuwamIW9t"
      },
      "outputs": [],
      "source": [
        "train.to_pickle('./data/train.pkl')\n",
        "test.to_pickle('./data/test.pkl')\n",
        "df_predictions.to_pickle('./data/df_predictions.pkl')"
      ]
    },
    {
      "cell_type": "markdown",
      "metadata": {
        "id": "kXO7zO7pIW9t"
      },
      "source": [
        "___"
      ]
    },
    {
      "cell_type": "markdown",
      "metadata": {
        "id": "2JJusK-VIW9u"
      },
      "source": [
        "#### If my observations are by the minute and there is a big spike in users once per week, what number should I use for seasonality?"
      ]
    },
    {
      "cell_type": "code",
      "execution_count": null,
      "metadata": {
        "id": "lCsRzLecIW9u"
      },
      "outputs": [],
      "source": [
        "60*24*7"
      ]
    },
    {
      "cell_type": "markdown",
      "metadata": {
        "id": "4tGS2ugkIW9u"
      },
      "source": [
        "---\n",
        "## Exercises"
      ]
    },
    {
      "cell_type": "markdown",
      "metadata": {
        "id": "O0Ulw6EpIW9u"
      },
      "source": [
        "#### Pick a different store. Does the model perform similarly?"
      ]
    },
    {
      "cell_type": "code",
      "source": [],
      "metadata": {
        "id": "x-uMe0u2Yoar"
      },
      "execution_count": null,
      "outputs": []
    },
    {
      "cell_type": "code",
      "source": [],
      "metadata": {
        "id": "nqOLeB_YYoXG"
      },
      "execution_count": null,
      "outputs": []
    },
    {
      "cell_type": "code",
      "source": [],
      "metadata": {
        "id": "DiIrOa1_YoT0"
      },
      "execution_count": null,
      "outputs": []
    },
    {
      "cell_type": "code",
      "source": [],
      "metadata": {
        "id": "SSaIZ6sQYoQ0"
      },
      "execution_count": null,
      "outputs": []
    },
    {
      "cell_type": "code",
      "source": [],
      "metadata": {
        "id": "n4i5TVBlYoOC"
      },
      "execution_count": null,
      "outputs": []
    },
    {
      "cell_type": "code",
      "source": [],
      "metadata": {
        "id": "7jNSyWZkYoKF"
      },
      "execution_count": null,
      "outputs": []
    },
    {
      "cell_type": "markdown",
      "source": [
        "### Using `sktime`\n",
        "\n"
      ],
      "metadata": {
        "id": "8yKiFh4FWq8t"
      }
    },
    {
      "cell_type": "code",
      "source": [
        "#!pip install sktime"
      ],
      "metadata": {
        "id": "O-nQCqqDUxo4"
      },
      "execution_count": null,
      "outputs": []
    },
    {
      "cell_type": "code",
      "source": [
        "# !pip install dask[dataframe]"
      ],
      "metadata": {
        "id": "UZ9wGQ0dWR9X"
      },
      "execution_count": null,
      "outputs": []
    },
    {
      "cell_type": "code",
      "source": [
        "import sktime as skt\n",
        "from sktime.forecasting.exp_smoothing import ExponentialSmoothing\n",
        "from sktime.datasets import load_airline"
      ],
      "metadata": {
        "id": "sDTjNHClUxsC"
      },
      "execution_count": null,
      "outputs": []
    },
    {
      "cell_type": "code",
      "source": [
        "y = load_airline()"
      ],
      "metadata": {
        "id": "0nd1QIhrW6r4"
      },
      "execution_count": null,
      "outputs": []
    },
    {
      "cell_type": "code",
      "source": [
        "y.plot()"
      ],
      "metadata": {
        "id": "PjTaol1LW-I5"
      },
      "execution_count": null,
      "outputs": []
    },
    {
      "cell_type": "code",
      "source": [
        "y.head()"
      ],
      "metadata": {
        "id": "92ATBsf0XEid"
      },
      "execution_count": null,
      "outputs": []
    },
    {
      "cell_type": "code",
      "source": [
        "forecaster = ExponentialSmoothing(trend = 'add',\n",
        "                                  seasonal = 'add',\n",
        "                                  sp = 12)"
      ],
      "metadata": {
        "id": "rYHh-Zz7VsDZ"
      },
      "execution_count": null,
      "outputs": []
    },
    {
      "cell_type": "code",
      "source": [
        "forecaster.fit(y)"
      ],
      "metadata": {
        "id": "GEP-ynUWV-5C"
      },
      "execution_count": null,
      "outputs": []
    },
    {
      "cell_type": "code",
      "source": [
        "y_hat = forecaster.predict( fh = [i for i in range(1, 13)])"
      ],
      "metadata": {
        "id": "53n2iIkfWMTH"
      },
      "execution_count": null,
      "outputs": []
    },
    {
      "cell_type": "code",
      "source": [
        "y.tail(12)"
      ],
      "metadata": {
        "id": "TyZcSXbuXpSK"
      },
      "execution_count": null,
      "outputs": []
    },
    {
      "cell_type": "code",
      "source": [
        "y_hat"
      ],
      "metadata": {
        "id": "8neuLpnrWit5"
      },
      "execution_count": null,
      "outputs": []
    },
    {
      "cell_type": "code",
      "source": [
        "y.plot()\n",
        "y_hat.plot()"
      ],
      "metadata": {
        "id": "wWChDHsVXewV"
      },
      "execution_count": null,
      "outputs": []
    },
    {
      "cell_type": "markdown",
      "source": [
        "### Exercise"
      ],
      "metadata": {
        "id": "31UVRKB6Y4-J"
      }
    },
    {
      "cell_type": "markdown",
      "source": [
        "Below, data on shampoo sales is loaded and displayed.  Your task is to build an Exponential Smoothing model to predict the last 6 months of sales.  How does your model compare to a baseline?  Plot the results."
      ],
      "metadata": {
        "id": "K7O7hhBWZWha"
      }
    },
    {
      "cell_type": "code",
      "source": [
        "from sktime.datasets import load_shampoo_sales"
      ],
      "metadata": {
        "id": "mJkAMwKrY4ww"
      },
      "execution_count": null,
      "outputs": []
    },
    {
      "cell_type": "code",
      "source": [
        "shampoo = load_shampoo_sales()"
      ],
      "metadata": {
        "id": "vx7mM4VIY4sl"
      },
      "execution_count": null,
      "outputs": []
    },
    {
      "cell_type": "code",
      "source": [
        "shampoo.info()"
      ],
      "metadata": {
        "id": "5v1OJMibZoMI"
      },
      "execution_count": null,
      "outputs": []
    },
    {
      "cell_type": "code",
      "source": [
        "shampoo.plot(grid = True, title = 'Shampoo Sales');"
      ],
      "metadata": {
        "id": "KNht3vEgY4pd"
      },
      "execution_count": null,
      "outputs": []
    },
    {
      "cell_type": "code",
      "source": [],
      "metadata": {
        "id": "E7SM-S_yY4nC"
      },
      "execution_count": null,
      "outputs": []
    },
    {
      "cell_type": "code",
      "source": [],
      "metadata": {
        "id": "74bQ_vfOY4kH"
      },
      "execution_count": null,
      "outputs": []
    },
    {
      "cell_type": "code",
      "source": [],
      "metadata": {
        "id": "ZqYxv2eeY4g5"
      },
      "execution_count": null,
      "outputs": []
    },
    {
      "cell_type": "code",
      "source": [],
      "metadata": {
        "id": "LX27bJwxZ3GD"
      },
      "execution_count": null,
      "outputs": []
    },
    {
      "cell_type": "code",
      "source": [],
      "metadata": {
        "id": "Zag5CPh_Z3Bh"
      },
      "execution_count": null,
      "outputs": []
    },
    {
      "cell_type": "code",
      "source": [],
      "metadata": {
        "id": "rpVpoT-bZ2-N"
      },
      "execution_count": null,
      "outputs": []
    },
    {
      "cell_type": "code",
      "source": [],
      "metadata": {
        "id": "8EK3K-E_Z261"
      },
      "execution_count": null,
      "outputs": []
    },
    {
      "cell_type": "code",
      "source": [],
      "metadata": {
        "id": "7SWwWBQJZ23K"
      },
      "execution_count": null,
      "outputs": []
    },
    {
      "cell_type": "markdown",
      "metadata": {
        "tags": [],
        "id": "nEE8VZAhIW9v"
      },
      "source": [
        "\n",
        "---\n",
        "## Check out the great free ebook:\n",
        "[Forecasting: Principles and Practice by\n",
        "Rob J Hyndman & George Athanasopoulos](https://otexts.com/fpp3/) to learn more about time series. Hyndman is also behind a lot of the time series code and strategy in an R package that Python packages use.\n"
      ]
    },
    {
      "cell_type": "markdown",
      "metadata": {
        "id": "4y2GD4cGIW9v"
      },
      "source": [
        "## Summary\n",
        "- **Always sort your time series data by date**\n",
        "- **Make sure you aren't leaking information from the future into your training data**\n",
        "- Make baseline models first\n",
        "- Consider the tradeoffs between complexity and performance when choosing which model to use\n",
        "- Holt-Winters' Exponential Smoothing is really powerful and doesn't have too many parameters to choose\n",
        "- Seasonality is how many observations it takes for a pattern to repeat"
      ]
    }
  ],
  "metadata": {
    "kernelspec": {
      "display_name": "Python 3",
      "language": "python",
      "name": "python3"
    },
    "language_info": {
      "codemirror_mode": {
        "name": "ipython",
        "version": 3
      },
      "file_extension": ".py",
      "mimetype": "text/x-python",
      "name": "python",
      "nbconvert_exporter": "python",
      "pygments_lexer": "ipython3",
      "version": "3.8.3"
    },
    "colab": {
      "provenance": []
    }
  },
  "nbformat": 4,
  "nbformat_minor": 0
}
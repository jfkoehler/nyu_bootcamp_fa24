{
 "cells": [
  {
   "cell_type": "markdown",
   "id": "77d74e61",
   "metadata": {
    "id": "4f9ee6eb"
   },
   "source": [
    "### Evaluating Classification Models\n",
    "\n",
    "**OBJECTIVES**\n",
    "- Use the confusion matrix to evaluate classification models\n",
    "- Explore precision and recall as evaluation metrics\n",
    "- Determine cost of predicting highest probability targets"
   ]
  },
  {
   "cell_type": "code",
   "execution_count": null,
   "id": "be8f9399",
   "metadata": {
    "id": "487213f2"
   },
   "outputs": [],
   "source": [
    "import pandas as pd\n",
    "import numpy as np\n",
    "import matplotlib.pyplot as plt\n",
    "from sklearn.linear_model import LogisticRegression\n",
    "from sklearn.neighbors import KNeighborsClassifier\n",
    "from sklearn.preprocessing import StandardScaler, OneHotEncoder, PolynomialFeatures\n",
    "from sklearn.compose import make_column_transformer\n",
    "from sklearn.metrics import ConfusionMatrixDisplay, confusion_matrix\n",
    "from sklearn.datasets import load_breast_cancer, load_digits, fetch_openml"
   ]
  },
  {
   "cell_type": "markdown",
   "id": "abc1cbec",
   "metadata": {
    "id": "4e35db26"
   },
   "source": [
    "### Evaluating Classifiers\n",
    "\n",
    "Today, we want to think a bit more about the appropriate classification metrics in different situations.  Please use this [form](https://forms.gle/nU785s3MaQL33xG97) to summarize your work."
   ]
  },
  {
   "cell_type": "markdown",
   "id": "54324458",
   "metadata": {
    "id": "62a518f8"
   },
   "source": [
    "### Problem\n",
    "\n",
    "Below, a dataset with measurements of cancerous and non-cancerous breast tumors is loaded and displayed.  Use `LogisticRegression` and `KNeighborsClassifier` to build predictive models on train/test splits.  Generate a confusion matrix and explore the classifiers mistakes.  \n",
    "\n",
    "- Which model do you prefer and why?\n",
    "- Do you care about predicting each of these classes equally?\n",
    "- Is there a ratio other than accuracy you think is more important based on the confusion matrix?  "
   ]
  },
  {
   "cell_type": "code",
   "execution_count": null,
   "id": "21b3fa08",
   "metadata": {
    "id": "35b7205a"
   },
   "outputs": [],
   "source": [
    "cancer = load_breast_cancer(as_frame=True).frame"
   ]
  },
  {
   "cell_type": "code",
   "execution_count": null,
   "id": "c28045ed",
   "metadata": {
    "colab": {
     "base_uri": "https://localhost:8080/",
     "height": 270
    },
    "id": "a9f6da45",
    "outputId": "d99665af-f7ad-49d8-d8f0-b02aba86afee"
   },
   "outputs": [],
   "source": [
    "cancer.head()"
   ]
  },
  {
   "cell_type": "code",
   "execution_count": null,
   "id": "83199ced",
   "metadata": {
    "id": "Xs9xS7ReFZjx"
   },
   "outputs": [],
   "source": [
    "# changing target label\n",
    "#cancer['target'] = np.where(cancer['target'] == 0, 1, 0)"
   ]
  },
  {
   "cell_type": "code",
   "execution_count": null,
   "id": "3ea74e06",
   "metadata": {
    "id": "OxPxRW2mEt11"
   },
   "outputs": [],
   "source": [
    "from sklearn.model_selection import train_test_split, cross_val_score"
   ]
  },
  {
   "cell_type": "code",
   "execution_count": null,
   "id": "a53891ab",
   "metadata": {
    "id": "731de28d"
   },
   "outputs": [],
   "source": [
    "\n",
    "X = cancer.iloc[:, :-1]\n",
    "y = cancer['target']\n",
    "X_train, X_test, y_train, y_test = train_test_split(X, y, random_state = 11)"
   ]
  },
  {
   "cell_type": "code",
   "execution_count": null,
   "id": "8a303f7b",
   "metadata": {
    "id": "121a175d"
   },
   "outputs": [],
   "source": [
    "\n",
    "lgr = LogisticRegression()\n",
    "knn = KNeighborsClassifier(n_neighbors=30)"
   ]
  },
  {
   "cell_type": "code",
   "execution_count": null,
   "id": "3d2863b4",
   "metadata": {
    "id": "28806bc6"
   },
   "outputs": [],
   "source": [
    "\n",
    "scaler = StandardScaler()"
   ]
  },
  {
   "cell_type": "code",
   "execution_count": null,
   "id": "aeffdcd4",
   "metadata": {
    "id": "92ba7921"
   },
   "outputs": [],
   "source": [
    "from sklearn.pipeline import Pipeline"
   ]
  },
  {
   "cell_type": "code",
   "execution_count": null,
   "id": "661c34cd",
   "metadata": {
    "id": "73f0f423"
   },
   "outputs": [],
   "source": [
    "\n",
    "lgr_pipe = Pipeline([('scale', scaler), ('model', lgr)])\n",
    "knn_pipe = Pipeline([('scale', scaler), ('model', knn)])"
   ]
  },
  {
   "cell_type": "code",
   "execution_count": null,
   "id": "08e3d896",
   "metadata": {
    "colab": {
     "base_uri": "https://localhost:8080/",
     "height": 141
    },
    "id": "6372682c",
    "outputId": "1434ba70-9a96-42d3-f873-9e44560873b0"
   },
   "outputs": [],
   "source": [
    "\n",
    "lgr_pipe.fit(X_train, y_train)\n",
    "knn_pipe.fit(X_train, y_train)"
   ]
  },
  {
   "cell_type": "code",
   "execution_count": null,
   "id": "97526912",
   "metadata": {
    "colab": {
     "base_uri": "https://localhost:8080/",
     "height": 832
    },
    "id": "d7b805a4",
    "outputId": "ffe1b55a-2f44-45b6-c3c3-f0e82dd4fb70"
   },
   "outputs": [],
   "source": [
    "#plot confusion matrices"
   ]
  },
  {
   "cell_type": "code",
   "execution_count": null,
   "id": "57cc4d30",
   "metadata": {},
   "outputs": [],
   "source": []
  },
  {
   "cell_type": "code",
   "execution_count": null,
   "id": "de80214f",
   "metadata": {},
   "outputs": [],
   "source": []
  },
  {
   "cell_type": "code",
   "execution_count": null,
   "id": "34c43043",
   "metadata": {},
   "outputs": [],
   "source": []
  },
  {
   "cell_type": "markdown",
   "id": "64163c9f",
   "metadata": {
    "id": "370f3c50"
   },
   "source": [
    "### Problem\n",
    "\n",
    "Below, a dataset around customer churn is loaded and displayed.  Build classification models on the data and visualize the confusion matrix.  \n",
    "\n",
    "- Suppose you want to offer an incentive to customers you think are likely to churn, what is an appropriate evaluation metric?\n",
    "- Suppose you only have a budget to target 100 individuals you expect to churn.  By targeting the most likely predictions to churn, what percent of churned customers did you capture?"
   ]
  },
  {
   "cell_type": "code",
   "execution_count": null,
   "id": "9d9d3d80",
   "metadata": {
    "id": "e2a7c569"
   },
   "outputs": [],
   "source": [
    "churn = fetch_openml(data_id = 43390).frame"
   ]
  },
  {
   "cell_type": "code",
   "execution_count": null,
   "id": "1e4b5288",
   "metadata": {
    "colab": {
     "base_uri": "https://localhost:8080/",
     "height": 206
    },
    "id": "450452e4",
    "outputId": "16552048-08b9-482f-e7f6-b9c589e0dc1b"
   },
   "outputs": [],
   "source": [
    "churn.head()"
   ]
  },
  {
   "cell_type": "code",
   "execution_count": null,
   "id": "9fb28458",
   "metadata": {
    "id": "f5ebfd22"
   },
   "outputs": [],
   "source": [
    "\n",
    "X = churn.iloc[:, :-1]\n",
    "y = churn['Exited']\n",
    "X.drop(['Surname', 'RowNumber', 'CustomerId'], axis = 1, inplace = True)\n",
    "X_train, X_test, y_train, y_test = train_test_split(X, y, random_state = 11)"
   ]
  },
  {
   "cell_type": "code",
   "execution_count": null,
   "id": "cd8b8b38",
   "metadata": {
    "id": "0446a85b"
   },
   "outputs": [],
   "source": [
    "\n",
    "encoder = make_column_transformer((OneHotEncoder(drop = 'first'), ['Geography', 'Gender']),\n",
    "                                  remainder = StandardScaler())"
   ]
  },
  {
   "cell_type": "code",
   "execution_count": null,
   "id": "db977954",
   "metadata": {
    "id": "a371c9c6"
   },
   "outputs": [],
   "source": [
    "\n",
    "knn_pipe = Pipeline([('transform', encoder), ('model', KNeighborsClassifier())])\n",
    "lgr_pipe = Pipeline([('transform', encoder), ('model', LogisticRegression())])"
   ]
  },
  {
   "cell_type": "code",
   "execution_count": null,
   "id": "a5d91071",
   "metadata": {
    "colab": {
     "base_uri": "https://localhost:8080/",
     "height": 322
    },
    "id": "cf9ae78c",
    "outputId": "de0874a3-8900-49e9-c7ee-6454cb401e77"
   },
   "outputs": [],
   "source": [
    "\n",
    "knn_pipe.fit(X_train, y_train)\n",
    "lgr_pipe.fit(X_train, y_train)"
   ]
  },
  {
   "cell_type": "code",
   "execution_count": null,
   "id": "79be43be",
   "metadata": {
    "colab": {
     "base_uri": "https://localhost:8080/",
     "height": 824
    },
    "id": "38a4db6b",
    "outputId": "73a3422d-0a4b-4e88-e1e3-8831a63bb7c5"
   },
   "outputs": [],
   "source": [
    "#plot confusion matrices\n"
   ]
  },
  {
   "cell_type": "markdown",
   "id": "05f45f4e",
   "metadata": {
    "id": "b5612000"
   },
   "source": [
    "### Predicting Positives\n",
    "\n",
    "Return to the churn example and a Logistic Regression model on the data.\n",
    "\n"
   ]
  },
  {
   "cell_type": "markdown",
   "id": "72b47840",
   "metadata": {
    "id": "3767e11a"
   },
   "source": [
    "1. If you were to make predictions on a random 30% of the data, what percent of the true positives would you expect to capture?"
   ]
  },
  {
   "cell_type": "code",
   "execution_count": null,
   "id": "6f17bb16",
   "metadata": {
    "id": "72b18c27"
   },
   "outputs": [],
   "source": []
  },
  {
   "cell_type": "markdown",
   "id": "06bf94d2",
   "metadata": {
    "id": "32304628"
   },
   "source": [
    "2. Use the predict probability capabilities of the estimator to create a `DataFrame` with the following columns:\n",
    "\n",
    "| probability of prediction = 1 | true label | \n",
    "| -----------  | -------------- |\n",
    "| .8 | 1 |\n",
    "| .7 | 1 |\n",
    "| .4 | 0 |"
   ]
  },
  {
   "cell_type": "code",
   "execution_count": null,
   "id": "9b60c2c8",
   "metadata": {
    "id": "69fe9f0e"
   },
   "outputs": [],
   "source": []
  },
  {
   "cell_type": "markdown",
   "id": "0970ce8d",
   "metadata": {},
   "source": [
    "3. Sort the probabilities from largest to smallest.  What percentage of the positives are in the first 3000 rows?"
   ]
  },
  {
   "cell_type": "code",
   "execution_count": null,
   "id": "1649b93d",
   "metadata": {},
   "outputs": [],
   "source": []
  },
  {
   "cell_type": "code",
   "execution_count": null,
   "id": "c579b980",
   "metadata": {
    "id": "145fb3f2"
   },
   "outputs": [],
   "source": []
  },
  {
   "cell_type": "markdown",
   "id": "477ae1d7",
   "metadata": {
    "id": "3e31596d"
   },
   "source": [
    "### `scikit-learn` visualizers\n",
    "\n",
    "- `PrecisionRecallDisplay`\n",
    "- `ROCurveDisplay`\n",
    "\n",
    "from `skplot` [docs](https://scikit-plot.readthedocs.io/en/stable/metrics.html)\n",
    "\n",
    "- `plot_cumulative_gain`"
   ]
  },
  {
   "cell_type": "code",
   "execution_count": null,
   "id": "91b30532",
   "metadata": {
    "id": "7bef54e6"
   },
   "outputs": [],
   "source": [
    "from sklearn.metrics import PrecisionRecallDisplay, RocCurveDisplay"
   ]
  },
  {
   "cell_type": "code",
   "execution_count": null,
   "id": "0d6d1065",
   "metadata": {
    "id": "d8c85967"
   },
   "outputs": [],
   "source": [
    "import scikitplot as skplot"
   ]
  },
  {
   "cell_type": "code",
   "execution_count": null,
   "id": "c2f0526d",
   "metadata": {
    "id": "00268d2c"
   },
   "outputs": [],
   "source": []
  },
  {
   "cell_type": "code",
   "execution_count": null,
   "id": "bb354b4f",
   "metadata": {
    "id": "677bee86"
   },
   "outputs": [],
   "source": []
  },
  {
   "cell_type": "code",
   "execution_count": null,
   "id": "5be79f3b",
   "metadata": {
    "id": "5668e6c3"
   },
   "outputs": [],
   "source": []
  },
  {
   "cell_type": "code",
   "execution_count": null,
   "id": "8c4364b1",
   "metadata": {
    "id": "be724753"
   },
   "outputs": [],
   "source": []
  }
 ],
 "metadata": {
  "colab": {
   "provenance": []
  },
  "kernelspec": {
   "display_name": "Python 3",
   "language": "python",
   "name": "python3"
  },
  "language_info": {
   "codemirror_mode": {
    "name": "ipython",
    "version": 3
   },
   "file_extension": ".py",
   "mimetype": "text/x-python",
   "name": "python",
   "nbconvert_exporter": "python",
   "pygments_lexer": "ipython3",
   "version": "3.8.3"
  }
 },
 "nbformat": 4,
 "nbformat_minor": 5
}

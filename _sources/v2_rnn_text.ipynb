{
  "nbformat": 4,
  "nbformat_minor": 0,
  "metadata": {
    "colab": {
      "provenance": []
    },
    "kernelspec": {
      "name": "python3",
      "display_name": "Python 3"
    },
    "language_info": {
      "name": "python"
    }
  },
  "cells": [
    {
      "cell_type": "markdown",
      "source": [
        "# Text Classification and Recurrent Neural Networks\n",
        "\n"
      ],
      "metadata": {
        "id": "kkMGC5qF6_Bw"
      }
    },
    {
      "cell_type": "code",
      "source": [
        "import numpy as np\n",
        "import pandas as pd\n",
        "import matplotlib.pyplot as plt\n",
        "import seaborn as sns"
      ],
      "metadata": {
        "id": "6p825gZz1pky"
      },
      "execution_count": 235,
      "outputs": []
    },
    {
      "cell_type": "code",
      "source": [
        "pip install datasets"
      ],
      "metadata": {
        "colab": {
          "base_uri": "https://localhost:8080/"
        },
        "id": "1V3dAQ5T1ph8",
        "outputId": "009b1157-b348-498a-f6e1-3ab6dc7315fe"
      },
      "execution_count": 236,
      "outputs": [
        {
          "output_type": "stream",
          "name": "stdout",
          "text": [
            "Requirement already satisfied: datasets in /usr/local/lib/python3.10/dist-packages (3.1.0)\n",
            "Requirement already satisfied: filelock in /usr/local/lib/python3.10/dist-packages (from datasets) (3.16.1)\n",
            "Requirement already satisfied: numpy>=1.17 in /usr/local/lib/python3.10/dist-packages (from datasets) (1.26.4)\n",
            "Requirement already satisfied: pyarrow>=15.0.0 in /usr/local/lib/python3.10/dist-packages (from datasets) (17.0.0)\n",
            "Requirement already satisfied: dill<0.3.9,>=0.3.0 in /usr/local/lib/python3.10/dist-packages (from datasets) (0.3.8)\n",
            "Requirement already satisfied: pandas in /usr/local/lib/python3.10/dist-packages (from datasets) (2.2.2)\n",
            "Requirement already satisfied: requests>=2.32.2 in /usr/local/lib/python3.10/dist-packages (from datasets) (2.32.3)\n",
            "Requirement already satisfied: tqdm>=4.66.3 in /usr/local/lib/python3.10/dist-packages (from datasets) (4.66.6)\n",
            "Requirement already satisfied: xxhash in /usr/local/lib/python3.10/dist-packages (from datasets) (3.5.0)\n",
            "Requirement already satisfied: multiprocess<0.70.17 in /usr/local/lib/python3.10/dist-packages (from datasets) (0.70.16)\n",
            "Requirement already satisfied: fsspec<=2024.9.0,>=2023.1.0 in /usr/local/lib/python3.10/dist-packages (from fsspec[http]<=2024.9.0,>=2023.1.0->datasets) (2024.9.0)\n",
            "Requirement already satisfied: aiohttp in /usr/local/lib/python3.10/dist-packages (from datasets) (3.11.9)\n",
            "Requirement already satisfied: huggingface-hub>=0.23.0 in /usr/local/lib/python3.10/dist-packages (from datasets) (0.26.3)\n",
            "Requirement already satisfied: packaging in /usr/local/lib/python3.10/dist-packages (from datasets) (24.2)\n",
            "Requirement already satisfied: pyyaml>=5.1 in /usr/local/lib/python3.10/dist-packages (from datasets) (6.0.2)\n",
            "Requirement already satisfied: aiohappyeyeballs>=2.3.0 in /usr/local/lib/python3.10/dist-packages (from aiohttp->datasets) (2.4.4)\n",
            "Requirement already satisfied: aiosignal>=1.1.2 in /usr/local/lib/python3.10/dist-packages (from aiohttp->datasets) (1.3.1)\n",
            "Requirement already satisfied: async-timeout<6.0,>=4.0 in /usr/local/lib/python3.10/dist-packages (from aiohttp->datasets) (4.0.3)\n",
            "Requirement already satisfied: attrs>=17.3.0 in /usr/local/lib/python3.10/dist-packages (from aiohttp->datasets) (24.2.0)\n",
            "Requirement already satisfied: frozenlist>=1.1.1 in /usr/local/lib/python3.10/dist-packages (from aiohttp->datasets) (1.5.0)\n",
            "Requirement already satisfied: multidict<7.0,>=4.5 in /usr/local/lib/python3.10/dist-packages (from aiohttp->datasets) (6.1.0)\n",
            "Requirement already satisfied: propcache>=0.2.0 in /usr/local/lib/python3.10/dist-packages (from aiohttp->datasets) (0.2.1)\n",
            "Requirement already satisfied: yarl<2.0,>=1.17.0 in /usr/local/lib/python3.10/dist-packages (from aiohttp->datasets) (1.18.3)\n",
            "Requirement already satisfied: typing-extensions>=3.7.4.3 in /usr/local/lib/python3.10/dist-packages (from huggingface-hub>=0.23.0->datasets) (4.12.2)\n",
            "Requirement already satisfied: charset-normalizer<4,>=2 in /usr/local/lib/python3.10/dist-packages (from requests>=2.32.2->datasets) (3.4.0)\n",
            "Requirement already satisfied: idna<4,>=2.5 in /usr/local/lib/python3.10/dist-packages (from requests>=2.32.2->datasets) (3.10)\n",
            "Requirement already satisfied: urllib3<3,>=1.21.1 in /usr/local/lib/python3.10/dist-packages (from requests>=2.32.2->datasets) (2.2.3)\n",
            "Requirement already satisfied: certifi>=2017.4.17 in /usr/local/lib/python3.10/dist-packages (from requests>=2.32.2->datasets) (2024.8.30)\n",
            "Requirement already satisfied: python-dateutil>=2.8.2 in /usr/local/lib/python3.10/dist-packages (from pandas->datasets) (2.8.2)\n",
            "Requirement already satisfied: pytz>=2020.1 in /usr/local/lib/python3.10/dist-packages (from pandas->datasets) (2024.2)\n",
            "Requirement already satisfied: tzdata>=2022.7 in /usr/local/lib/python3.10/dist-packages (from pandas->datasets) (2024.2)\n",
            "Requirement already satisfied: six>=1.5 in /usr/local/lib/python3.10/dist-packages (from python-dateutil>=2.8.2->pandas->datasets) (1.16.0)\n"
          ]
        }
      ]
    },
    {
      "cell_type": "code",
      "source": [
        "from datasets import load_dataset\n",
        "\n",
        "ds = load_dataset(\"Paul/hatecheck\")"
      ],
      "metadata": {
        "id": "Var0y0mO1pf8"
      },
      "execution_count": 237,
      "outputs": []
    },
    {
      "cell_type": "code",
      "source": [
        "df = ds['test'].to_pandas()"
      ],
      "metadata": {
        "id": "JCgkDaBR1pcs"
      },
      "execution_count": 238,
      "outputs": []
    },
    {
      "cell_type": "code",
      "source": [
        "df['test_case'].head()"
      ],
      "metadata": {
        "colab": {
          "base_uri": "https://localhost:8080/",
          "height": 240
        },
        "id": "0rGV2gGr1pZ-",
        "outputId": "e6841ba8-2df5-401d-b784-c905b85a1020"
      },
      "execution_count": 239,
      "outputs": [
        {
          "output_type": "execute_result",
          "data": {
            "text/plain": [
              "0              I hate women. \n",
              "1       I hate trans people. \n",
              "2         I hate gay people. \n",
              "3       I hate black people. \n",
              "4    I hate disabled people. \n",
              "Name: test_case, dtype: object"
            ],
            "text/html": [
              "<div>\n",
              "<style scoped>\n",
              "    .dataframe tbody tr th:only-of-type {\n",
              "        vertical-align: middle;\n",
              "    }\n",
              "\n",
              "    .dataframe tbody tr th {\n",
              "        vertical-align: top;\n",
              "    }\n",
              "\n",
              "    .dataframe thead th {\n",
              "        text-align: right;\n",
              "    }\n",
              "</style>\n",
              "<table border=\"1\" class=\"dataframe\">\n",
              "  <thead>\n",
              "    <tr style=\"text-align: right;\">\n",
              "      <th></th>\n",
              "      <th>test_case</th>\n",
              "    </tr>\n",
              "  </thead>\n",
              "  <tbody>\n",
              "    <tr>\n",
              "      <th>0</th>\n",
              "      <td>I hate women.</td>\n",
              "    </tr>\n",
              "    <tr>\n",
              "      <th>1</th>\n",
              "      <td>I hate trans people.</td>\n",
              "    </tr>\n",
              "    <tr>\n",
              "      <th>2</th>\n",
              "      <td>I hate gay people.</td>\n",
              "    </tr>\n",
              "    <tr>\n",
              "      <th>3</th>\n",
              "      <td>I hate black people.</td>\n",
              "    </tr>\n",
              "    <tr>\n",
              "      <th>4</th>\n",
              "      <td>I hate disabled people.</td>\n",
              "    </tr>\n",
              "  </tbody>\n",
              "</table>\n",
              "</div><br><label><b>dtype:</b> object</label>"
            ]
          },
          "metadata": {},
          "execution_count": 239
        }
      ]
    },
    {
      "cell_type": "code",
      "source": [
        "df['label_gold'].value_counts()"
      ],
      "metadata": {
        "colab": {
          "base_uri": "https://localhost:8080/",
          "height": 178
        },
        "id": "CyvCAU_w1pXg",
        "outputId": "969210f9-d831-4a1d-953b-a4296e132693"
      },
      "execution_count": 240,
      "outputs": [
        {
          "output_type": "execute_result",
          "data": {
            "text/plain": [
              "label_gold\n",
              "hateful        2563\n",
              "non-hateful    1165\n",
              "Name: count, dtype: int64"
            ],
            "text/html": [
              "<div>\n",
              "<style scoped>\n",
              "    .dataframe tbody tr th:only-of-type {\n",
              "        vertical-align: middle;\n",
              "    }\n",
              "\n",
              "    .dataframe tbody tr th {\n",
              "        vertical-align: top;\n",
              "    }\n",
              "\n",
              "    .dataframe thead th {\n",
              "        text-align: right;\n",
              "    }\n",
              "</style>\n",
              "<table border=\"1\" class=\"dataframe\">\n",
              "  <thead>\n",
              "    <tr style=\"text-align: right;\">\n",
              "      <th></th>\n",
              "      <th>count</th>\n",
              "    </tr>\n",
              "    <tr>\n",
              "      <th>label_gold</th>\n",
              "      <th></th>\n",
              "    </tr>\n",
              "  </thead>\n",
              "  <tbody>\n",
              "    <tr>\n",
              "      <th>hateful</th>\n",
              "      <td>2563</td>\n",
              "    </tr>\n",
              "    <tr>\n",
              "      <th>non-hateful</th>\n",
              "      <td>1165</td>\n",
              "    </tr>\n",
              "  </tbody>\n",
              "</table>\n",
              "</div><br><label><b>dtype:</b> int64</label>"
            ]
          },
          "metadata": {},
          "execution_count": 240
        }
      ]
    },
    {
      "cell_type": "markdown",
      "source": [
        "### Encoding the Text\n",
        "\n"
      ],
      "metadata": {
        "id": "-JeOT3Un2JnL"
      }
    },
    {
      "cell_type": "code",
      "source": [
        "from sklearn.feature_extraction.text import CountVectorizer"
      ],
      "metadata": {
        "id": "xC5Dl3xX1pVX"
      },
      "execution_count": 241,
      "outputs": []
    },
    {
      "cell_type": "code",
      "source": [
        "cvect = CountVectorizer()"
      ],
      "metadata": {
        "id": "8l-hCCFo1pTL"
      },
      "execution_count": 242,
      "outputs": []
    },
    {
      "cell_type": "code",
      "source": [
        "dtm = cvect.fit_transform(df['test_case'])"
      ],
      "metadata": {
        "id": "X4Kkp-7W1pQT"
      },
      "execution_count": 243,
      "outputs": []
    },
    {
      "cell_type": "code",
      "source": [
        "pd.DataFrame(dtm.toarray(), columns=cvect.get_feature_names_out()).head()"
      ],
      "metadata": {
        "colab": {
          "base_uri": "https://localhost:8080/",
          "height": 235
        },
        "id": "GUAyYobT2ttp",
        "outputId": "e6da105f-8e12-4e5c-fc12-06f4a403130a"
      },
      "execution_count": 244,
      "outputs": [
        {
          "output_type": "execute_result",
          "data": {
            "text/plain": [
              "   2020  4ssholes  abhor  about  absolute  absolutefilth  absolutely  \\\n",
              "0     0         0      0      0         0              0           0   \n",
              "1     0         0      0      0         0              0           0   \n",
              "2     0         0      0      0         0              0           0   \n",
              "3     0         0      0      0         0              0           0   \n",
              "4     0         0      0      0         0              0           0   \n",
              "\n",
              "   academics  accepted  accountants  ...  writing  wrong  yeah  years  you  \\\n",
              "0          0         0            0  ...        0      0     0      0    0   \n",
              "1          0         0            0  ...        0      0     0      0    0   \n",
              "2          0         0            0  ...        0      0     0      0    0   \n",
              "3          0         0            0  ...        0      0     0      0    0   \n",
              "4          0         0            0  ...        0      0     0      0    0   \n",
              "\n",
              "   your  yours  yourself  yourselves  zoo  \n",
              "0     0      0         0           0    0  \n",
              "1     0      0         0           0    0  \n",
              "2     0      0         0           0    0  \n",
              "3     0      0         0           0    0  \n",
              "4     0      0         0           0    0  \n",
              "\n",
              "[5 rows x 1292 columns]"
            ],
            "text/html": [
              "\n",
              "  <div id=\"df-0243d0d0-251f-4f36-ab86-feb32e9cfdab\" class=\"colab-df-container\">\n",
              "    <div>\n",
              "<style scoped>\n",
              "    .dataframe tbody tr th:only-of-type {\n",
              "        vertical-align: middle;\n",
              "    }\n",
              "\n",
              "    .dataframe tbody tr th {\n",
              "        vertical-align: top;\n",
              "    }\n",
              "\n",
              "    .dataframe thead th {\n",
              "        text-align: right;\n",
              "    }\n",
              "</style>\n",
              "<table border=\"1\" class=\"dataframe\">\n",
              "  <thead>\n",
              "    <tr style=\"text-align: right;\">\n",
              "      <th></th>\n",
              "      <th>2020</th>\n",
              "      <th>4ssholes</th>\n",
              "      <th>abhor</th>\n",
              "      <th>about</th>\n",
              "      <th>absolute</th>\n",
              "      <th>absolutefilth</th>\n",
              "      <th>absolutely</th>\n",
              "      <th>academics</th>\n",
              "      <th>accepted</th>\n",
              "      <th>accountants</th>\n",
              "      <th>...</th>\n",
              "      <th>writing</th>\n",
              "      <th>wrong</th>\n",
              "      <th>yeah</th>\n",
              "      <th>years</th>\n",
              "      <th>you</th>\n",
              "      <th>your</th>\n",
              "      <th>yours</th>\n",
              "      <th>yourself</th>\n",
              "      <th>yourselves</th>\n",
              "      <th>zoo</th>\n",
              "    </tr>\n",
              "  </thead>\n",
              "  <tbody>\n",
              "    <tr>\n",
              "      <th>0</th>\n",
              "      <td>0</td>\n",
              "      <td>0</td>\n",
              "      <td>0</td>\n",
              "      <td>0</td>\n",
              "      <td>0</td>\n",
              "      <td>0</td>\n",
              "      <td>0</td>\n",
              "      <td>0</td>\n",
              "      <td>0</td>\n",
              "      <td>0</td>\n",
              "      <td>...</td>\n",
              "      <td>0</td>\n",
              "      <td>0</td>\n",
              "      <td>0</td>\n",
              "      <td>0</td>\n",
              "      <td>0</td>\n",
              "      <td>0</td>\n",
              "      <td>0</td>\n",
              "      <td>0</td>\n",
              "      <td>0</td>\n",
              "      <td>0</td>\n",
              "    </tr>\n",
              "    <tr>\n",
              "      <th>1</th>\n",
              "      <td>0</td>\n",
              "      <td>0</td>\n",
              "      <td>0</td>\n",
              "      <td>0</td>\n",
              "      <td>0</td>\n",
              "      <td>0</td>\n",
              "      <td>0</td>\n",
              "      <td>0</td>\n",
              "      <td>0</td>\n",
              "      <td>0</td>\n",
              "      <td>...</td>\n",
              "      <td>0</td>\n",
              "      <td>0</td>\n",
              "      <td>0</td>\n",
              "      <td>0</td>\n",
              "      <td>0</td>\n",
              "      <td>0</td>\n",
              "      <td>0</td>\n",
              "      <td>0</td>\n",
              "      <td>0</td>\n",
              "      <td>0</td>\n",
              "    </tr>\n",
              "    <tr>\n",
              "      <th>2</th>\n",
              "      <td>0</td>\n",
              "      <td>0</td>\n",
              "      <td>0</td>\n",
              "      <td>0</td>\n",
              "      <td>0</td>\n",
              "      <td>0</td>\n",
              "      <td>0</td>\n",
              "      <td>0</td>\n",
              "      <td>0</td>\n",
              "      <td>0</td>\n",
              "      <td>...</td>\n",
              "      <td>0</td>\n",
              "      <td>0</td>\n",
              "      <td>0</td>\n",
              "      <td>0</td>\n",
              "      <td>0</td>\n",
              "      <td>0</td>\n",
              "      <td>0</td>\n",
              "      <td>0</td>\n",
              "      <td>0</td>\n",
              "      <td>0</td>\n",
              "    </tr>\n",
              "    <tr>\n",
              "      <th>3</th>\n",
              "      <td>0</td>\n",
              "      <td>0</td>\n",
              "      <td>0</td>\n",
              "      <td>0</td>\n",
              "      <td>0</td>\n",
              "      <td>0</td>\n",
              "      <td>0</td>\n",
              "      <td>0</td>\n",
              "      <td>0</td>\n",
              "      <td>0</td>\n",
              "      <td>...</td>\n",
              "      <td>0</td>\n",
              "      <td>0</td>\n",
              "      <td>0</td>\n",
              "      <td>0</td>\n",
              "      <td>0</td>\n",
              "      <td>0</td>\n",
              "      <td>0</td>\n",
              "      <td>0</td>\n",
              "      <td>0</td>\n",
              "      <td>0</td>\n",
              "    </tr>\n",
              "    <tr>\n",
              "      <th>4</th>\n",
              "      <td>0</td>\n",
              "      <td>0</td>\n",
              "      <td>0</td>\n",
              "      <td>0</td>\n",
              "      <td>0</td>\n",
              "      <td>0</td>\n",
              "      <td>0</td>\n",
              "      <td>0</td>\n",
              "      <td>0</td>\n",
              "      <td>0</td>\n",
              "      <td>...</td>\n",
              "      <td>0</td>\n",
              "      <td>0</td>\n",
              "      <td>0</td>\n",
              "      <td>0</td>\n",
              "      <td>0</td>\n",
              "      <td>0</td>\n",
              "      <td>0</td>\n",
              "      <td>0</td>\n",
              "      <td>0</td>\n",
              "      <td>0</td>\n",
              "    </tr>\n",
              "  </tbody>\n",
              "</table>\n",
              "<p>5 rows × 1292 columns</p>\n",
              "</div>\n",
              "    <div class=\"colab-df-buttons\">\n",
              "\n",
              "  <div class=\"colab-df-container\">\n",
              "    <button class=\"colab-df-convert\" onclick=\"convertToInteractive('df-0243d0d0-251f-4f36-ab86-feb32e9cfdab')\"\n",
              "            title=\"Convert this dataframe to an interactive table.\"\n",
              "            style=\"display:none;\">\n",
              "\n",
              "  <svg xmlns=\"http://www.w3.org/2000/svg\" height=\"24px\" viewBox=\"0 -960 960 960\">\n",
              "    <path d=\"M120-120v-720h720v720H120Zm60-500h600v-160H180v160Zm220 220h160v-160H400v160Zm0 220h160v-160H400v160ZM180-400h160v-160H180v160Zm440 0h160v-160H620v160ZM180-180h160v-160H180v160Zm440 0h160v-160H620v160Z\"/>\n",
              "  </svg>\n",
              "    </button>\n",
              "\n",
              "  <style>\n",
              "    .colab-df-container {\n",
              "      display:flex;\n",
              "      gap: 12px;\n",
              "    }\n",
              "\n",
              "    .colab-df-convert {\n",
              "      background-color: #E8F0FE;\n",
              "      border: none;\n",
              "      border-radius: 50%;\n",
              "      cursor: pointer;\n",
              "      display: none;\n",
              "      fill: #1967D2;\n",
              "      height: 32px;\n",
              "      padding: 0 0 0 0;\n",
              "      width: 32px;\n",
              "    }\n",
              "\n",
              "    .colab-df-convert:hover {\n",
              "      background-color: #E2EBFA;\n",
              "      box-shadow: 0px 1px 2px rgba(60, 64, 67, 0.3), 0px 1px 3px 1px rgba(60, 64, 67, 0.15);\n",
              "      fill: #174EA6;\n",
              "    }\n",
              "\n",
              "    .colab-df-buttons div {\n",
              "      margin-bottom: 4px;\n",
              "    }\n",
              "\n",
              "    [theme=dark] .colab-df-convert {\n",
              "      background-color: #3B4455;\n",
              "      fill: #D2E3FC;\n",
              "    }\n",
              "\n",
              "    [theme=dark] .colab-df-convert:hover {\n",
              "      background-color: #434B5C;\n",
              "      box-shadow: 0px 1px 3px 1px rgba(0, 0, 0, 0.15);\n",
              "      filter: drop-shadow(0px 1px 2px rgba(0, 0, 0, 0.3));\n",
              "      fill: #FFFFFF;\n",
              "    }\n",
              "  </style>\n",
              "\n",
              "    <script>\n",
              "      const buttonEl =\n",
              "        document.querySelector('#df-0243d0d0-251f-4f36-ab86-feb32e9cfdab button.colab-df-convert');\n",
              "      buttonEl.style.display =\n",
              "        google.colab.kernel.accessAllowed ? 'block' : 'none';\n",
              "\n",
              "      async function convertToInteractive(key) {\n",
              "        const element = document.querySelector('#df-0243d0d0-251f-4f36-ab86-feb32e9cfdab');\n",
              "        const dataTable =\n",
              "          await google.colab.kernel.invokeFunction('convertToInteractive',\n",
              "                                                    [key], {});\n",
              "        if (!dataTable) return;\n",
              "\n",
              "        const docLinkHtml = 'Like what you see? Visit the ' +\n",
              "          '<a target=\"_blank\" href=https://colab.research.google.com/notebooks/data_table.ipynb>data table notebook</a>'\n",
              "          + ' to learn more about interactive tables.';\n",
              "        element.innerHTML = '';\n",
              "        dataTable['output_type'] = 'display_data';\n",
              "        await google.colab.output.renderOutput(dataTable, element);\n",
              "        const docLink = document.createElement('div');\n",
              "        docLink.innerHTML = docLinkHtml;\n",
              "        element.appendChild(docLink);\n",
              "      }\n",
              "    </script>\n",
              "  </div>\n",
              "\n",
              "\n",
              "<div id=\"df-8f90c03f-c233-4815-a19c-ad762f2b633c\">\n",
              "  <button class=\"colab-df-quickchart\" onclick=\"quickchart('df-8f90c03f-c233-4815-a19c-ad762f2b633c')\"\n",
              "            title=\"Suggest charts\"\n",
              "            style=\"display:none;\">\n",
              "\n",
              "<svg xmlns=\"http://www.w3.org/2000/svg\" height=\"24px\"viewBox=\"0 0 24 24\"\n",
              "     width=\"24px\">\n",
              "    <g>\n",
              "        <path d=\"M19 3H5c-1.1 0-2 .9-2 2v14c0 1.1.9 2 2 2h14c1.1 0 2-.9 2-2V5c0-1.1-.9-2-2-2zM9 17H7v-7h2v7zm4 0h-2V7h2v10zm4 0h-2v-4h2v4z\"/>\n",
              "    </g>\n",
              "</svg>\n",
              "  </button>\n",
              "\n",
              "<style>\n",
              "  .colab-df-quickchart {\n",
              "      --bg-color: #E8F0FE;\n",
              "      --fill-color: #1967D2;\n",
              "      --hover-bg-color: #E2EBFA;\n",
              "      --hover-fill-color: #174EA6;\n",
              "      --disabled-fill-color: #AAA;\n",
              "      --disabled-bg-color: #DDD;\n",
              "  }\n",
              "\n",
              "  [theme=dark] .colab-df-quickchart {\n",
              "      --bg-color: #3B4455;\n",
              "      --fill-color: #D2E3FC;\n",
              "      --hover-bg-color: #434B5C;\n",
              "      --hover-fill-color: #FFFFFF;\n",
              "      --disabled-bg-color: #3B4455;\n",
              "      --disabled-fill-color: #666;\n",
              "  }\n",
              "\n",
              "  .colab-df-quickchart {\n",
              "    background-color: var(--bg-color);\n",
              "    border: none;\n",
              "    border-radius: 50%;\n",
              "    cursor: pointer;\n",
              "    display: none;\n",
              "    fill: var(--fill-color);\n",
              "    height: 32px;\n",
              "    padding: 0;\n",
              "    width: 32px;\n",
              "  }\n",
              "\n",
              "  .colab-df-quickchart:hover {\n",
              "    background-color: var(--hover-bg-color);\n",
              "    box-shadow: 0 1px 2px rgba(60, 64, 67, 0.3), 0 1px 3px 1px rgba(60, 64, 67, 0.15);\n",
              "    fill: var(--button-hover-fill-color);\n",
              "  }\n",
              "\n",
              "  .colab-df-quickchart-complete:disabled,\n",
              "  .colab-df-quickchart-complete:disabled:hover {\n",
              "    background-color: var(--disabled-bg-color);\n",
              "    fill: var(--disabled-fill-color);\n",
              "    box-shadow: none;\n",
              "  }\n",
              "\n",
              "  .colab-df-spinner {\n",
              "    border: 2px solid var(--fill-color);\n",
              "    border-color: transparent;\n",
              "    border-bottom-color: var(--fill-color);\n",
              "    animation:\n",
              "      spin 1s steps(1) infinite;\n",
              "  }\n",
              "\n",
              "  @keyframes spin {\n",
              "    0% {\n",
              "      border-color: transparent;\n",
              "      border-bottom-color: var(--fill-color);\n",
              "      border-left-color: var(--fill-color);\n",
              "    }\n",
              "    20% {\n",
              "      border-color: transparent;\n",
              "      border-left-color: var(--fill-color);\n",
              "      border-top-color: var(--fill-color);\n",
              "    }\n",
              "    30% {\n",
              "      border-color: transparent;\n",
              "      border-left-color: var(--fill-color);\n",
              "      border-top-color: var(--fill-color);\n",
              "      border-right-color: var(--fill-color);\n",
              "    }\n",
              "    40% {\n",
              "      border-color: transparent;\n",
              "      border-right-color: var(--fill-color);\n",
              "      border-top-color: var(--fill-color);\n",
              "    }\n",
              "    60% {\n",
              "      border-color: transparent;\n",
              "      border-right-color: var(--fill-color);\n",
              "    }\n",
              "    80% {\n",
              "      border-color: transparent;\n",
              "      border-right-color: var(--fill-color);\n",
              "      border-bottom-color: var(--fill-color);\n",
              "    }\n",
              "    90% {\n",
              "      border-color: transparent;\n",
              "      border-bottom-color: var(--fill-color);\n",
              "    }\n",
              "  }\n",
              "</style>\n",
              "\n",
              "  <script>\n",
              "    async function quickchart(key) {\n",
              "      const quickchartButtonEl =\n",
              "        document.querySelector('#' + key + ' button');\n",
              "      quickchartButtonEl.disabled = true;  // To prevent multiple clicks.\n",
              "      quickchartButtonEl.classList.add('colab-df-spinner');\n",
              "      try {\n",
              "        const charts = await google.colab.kernel.invokeFunction(\n",
              "            'suggestCharts', [key], {});\n",
              "      } catch (error) {\n",
              "        console.error('Error during call to suggestCharts:', error);\n",
              "      }\n",
              "      quickchartButtonEl.classList.remove('colab-df-spinner');\n",
              "      quickchartButtonEl.classList.add('colab-df-quickchart-complete');\n",
              "    }\n",
              "    (() => {\n",
              "      let quickchartButtonEl =\n",
              "        document.querySelector('#df-8f90c03f-c233-4815-a19c-ad762f2b633c button');\n",
              "      quickchartButtonEl.style.display =\n",
              "        google.colab.kernel.accessAllowed ? 'block' : 'none';\n",
              "    })();\n",
              "  </script>\n",
              "</div>\n",
              "\n",
              "    </div>\n",
              "  </div>\n"
            ],
            "application/vnd.google.colaboratory.intrinsic+json": {
              "type": "dataframe"
            }
          },
          "metadata": {},
          "execution_count": 244
        }
      ]
    },
    {
      "cell_type": "code",
      "source": [
        "X = dtm\n",
        "y = df['label_gold']"
      ],
      "metadata": {
        "id": "xP_yzIBC1pNS"
      },
      "execution_count": 245,
      "outputs": []
    },
    {
      "cell_type": "markdown",
      "source": [
        "### Problem\n",
        "\n",
        "Split the data and build a random forest classifier on the training data.  Compare the train and test scores.  \n",
        "\n",
        "- What words were most important in making the classifications?\n",
        "- What elements of the CountVectorizer might you change or grid search to attempt to improve your model?"
      ],
      "metadata": {
        "id": "CrZ7TjOH2Zak"
      }
    },
    {
      "cell_type": "code",
      "source": [],
      "metadata": {
        "id": "QjOyryQn2ZIB"
      },
      "execution_count": 245,
      "outputs": []
    },
    {
      "cell_type": "code",
      "source": [],
      "metadata": {
        "id": "fl7NA5Ek2ZE6"
      },
      "execution_count": 245,
      "outputs": []
    },
    {
      "cell_type": "code",
      "source": [],
      "metadata": {
        "id": "uwZqNLIv2ZBy"
      },
      "execution_count": 245,
      "outputs": []
    },
    {
      "cell_type": "code",
      "source": [],
      "metadata": {
        "id": "n937sewV2Y-d"
      },
      "execution_count": 245,
      "outputs": []
    },
    {
      "cell_type": "code",
      "source": [],
      "metadata": {
        "id": "p9kzCXAQ2Y7Z"
      },
      "execution_count": 245,
      "outputs": []
    },
    {
      "cell_type": "code",
      "source": [],
      "metadata": {
        "id": "jYVIyq1m2Y4h"
      },
      "execution_count": 245,
      "outputs": []
    },
    {
      "cell_type": "markdown",
      "source": [
        "# Text Classification with Neural Networks"
      ],
      "metadata": {
        "id": "5SQWyog0AAOZ"
      }
    },
    {
      "cell_type": "code",
      "execution_count": 246,
      "metadata": {
        "id": "e0uc39GMhd70"
      },
      "outputs": [],
      "source": [
        "import torch\n",
        "import torch.nn as nn\n",
        "import torch.optim as optim\n",
        "from torch.utils.data import Dataset, DataLoader\n",
        "\n",
        "import numpy as np\n",
        "import pandas as pd"
      ]
    },
    {
      "cell_type": "code",
      "source": [
        "y = np.where(y == 'hateful', 1, 0)"
      ],
      "metadata": {
        "id": "SsI9cVkeLglh"
      },
      "execution_count": 247,
      "outputs": []
    },
    {
      "cell_type": "code",
      "source": [
        "Xt = torch.tensor(X.todense(), dtype = torch.float32)\n",
        "yt = torch.tensor(y, dtype = torch.float32)"
      ],
      "metadata": {
        "id": "WLzaOkDoLGUQ"
      },
      "execution_count": 248,
      "outputs": []
    },
    {
      "cell_type": "code",
      "source": [
        "yt"
      ],
      "metadata": {
        "colab": {
          "base_uri": "https://localhost:8080/"
        },
        "id": "u5t9Sn_vLGI1",
        "outputId": "031a33bc-d6a8-4a77-b031-4321b4946187"
      },
      "execution_count": 249,
      "outputs": [
        {
          "output_type": "execute_result",
          "data": {
            "text/plain": [
              "tensor([1., 1., 1.,  ..., 1., 1., 1.])"
            ]
          },
          "metadata": {},
          "execution_count": 249
        }
      ]
    },
    {
      "cell_type": "code",
      "source": [
        "model = nn.Sequential(nn.Linear(in_features=Xt.shape[1], out_features=1),\n",
        "                      nn.Sigmoid())"
      ],
      "metadata": {
        "id": "rmRBaRuBLGDo"
      },
      "execution_count": 250,
      "outputs": []
    },
    {
      "cell_type": "code",
      "source": [
        "optimizer = optim.Adam(model.parameters(), lr = 0.01)\n",
        "loss_fn = nn.BCELoss()"
      ],
      "metadata": {
        "id": "TO6yoSU2LF-7"
      },
      "execution_count": 251,
      "outputs": []
    },
    {
      "cell_type": "code",
      "source": [
        "for epoch in range(100):\n",
        "  yhat = model(Xt)\n",
        "  loss = loss_fn(yhat, yt.unsqueeze(1))\n",
        "  optimizer.zero_grad()\n",
        "  loss.backward()\n",
        "  optimizer.step()\n",
        "  if epoch % 10 == 0:\n",
        "    print(f'Epoch {epoch} Loss: {loss.item()}')"
      ],
      "metadata": {
        "colab": {
          "base_uri": "https://localhost:8080/"
        },
        "id": "Y0aF8Hx9LF7A",
        "outputId": "0b8ab37d-fcc9-48f0-aa67-e32420456528"
      },
      "execution_count": 252,
      "outputs": [
        {
          "output_type": "stream",
          "name": "stdout",
          "text": [
            "Epoch 0 Loss: 0.6889792680740356\n",
            "Epoch 10 Loss: 0.5407963991165161\n",
            "Epoch 20 Loss: 0.457720011472702\n",
            "Epoch 30 Loss: 0.39816051721572876\n",
            "Epoch 40 Loss: 0.3553771674633026\n",
            "Epoch 50 Loss: 0.3219773471355438\n",
            "Epoch 60 Loss: 0.295131117105484\n",
            "Epoch 70 Loss: 0.27274569869041443\n",
            "Epoch 80 Loss: 0.25362011790275574\n",
            "Epoch 90 Loss: 0.23695124685764313\n"
          ]
        }
      ]
    },
    {
      "cell_type": "code",
      "source": [
        "preds = torch.where(model(Xt) > 0.5, 1, 0)"
      ],
      "metadata": {
        "id": "Pfzj84OiL6CX"
      },
      "execution_count": 253,
      "outputs": []
    },
    {
      "cell_type": "code",
      "source": [
        "(preds.flatten() == yt).sum()/len(yt)"
      ],
      "metadata": {
        "colab": {
          "base_uri": "https://localhost:8080/"
        },
        "id": "9OAgH2kTL6Ap",
        "outputId": "22d68378-d352-49f0-8fbd-d543bd440753"
      },
      "execution_count": 254,
      "outputs": [
        {
          "output_type": "execute_result",
          "data": {
            "text/plain": [
              "tensor(0.9372)"
            ]
          },
          "metadata": {},
          "execution_count": 254
        }
      ]
    },
    {
      "cell_type": "code",
      "source": [],
      "metadata": {
        "id": "s-jE81MaL51b"
      },
      "execution_count": 254,
      "outputs": []
    },
    {
      "cell_type": "code",
      "source": [
        "import tensorflow as tf\n",
        "from tensorflow.keras.preprocessing.text import Tokenizer\n",
        "from tensorflow.keras.preprocessing.sequence import pad_sequences"
      ],
      "metadata": {
        "id": "liI1vRV8hg2F"
      },
      "execution_count": 255,
      "outputs": []
    },
    {
      "cell_type": "code",
      "source": [
        "#create a tokenizer\n",
        "tokenizer = Tokenizer(num_words = 500)"
      ],
      "metadata": {
        "id": "XOqnZA90i0vQ"
      },
      "execution_count": 256,
      "outputs": []
    },
    {
      "cell_type": "code",
      "source": [
        "#fit the tokenizer\n",
        "tokenizer.fit_on_texts(df['test_case'])"
      ],
      "metadata": {
        "id": "XUWmDd-ik7MK"
      },
      "execution_count": 257,
      "outputs": []
    },
    {
      "cell_type": "code",
      "source": [
        "#create document term matrix (binarized)\n",
        "dtm = tokenizer.texts_to_matrix(df['test_case'])"
      ],
      "metadata": {
        "id": "ZIs8UShtsfpg"
      },
      "execution_count": 258,
      "outputs": []
    },
    {
      "cell_type": "code",
      "source": [
        "#take a peek\n",
        "dtm"
      ],
      "metadata": {
        "colab": {
          "base_uri": "https://localhost:8080/"
        },
        "id": "bJc6IxLe8cea",
        "outputId": "f48eab4f-aa99-45d4-ed5e-e4d466e38158"
      },
      "execution_count": 259,
      "outputs": [
        {
          "output_type": "execute_result",
          "data": {
            "text/plain": [
              "array([[0., 0., 0., ..., 0., 0., 0.],\n",
              "       [0., 1., 0., ..., 0., 0., 0.],\n",
              "       [0., 1., 0., ..., 0., 0., 0.],\n",
              "       ...,\n",
              "       [0., 1., 1., ..., 0., 0., 0.],\n",
              "       [0., 0., 1., ..., 0., 0., 0.],\n",
              "       [0., 0., 1., ..., 0., 0., 0.]])"
            ]
          },
          "metadata": {},
          "execution_count": 259
        }
      ]
    },
    {
      "cell_type": "code",
      "source": [
        "df['test_case'][2]"
      ],
      "metadata": {
        "colab": {
          "base_uri": "https://localhost:8080/",
          "height": 35
        },
        "id": "Q_WhuHe2CTPz",
        "outputId": "205ab9ae-6bdc-4824-dd70-60836388f2bc"
      },
      "execution_count": 260,
      "outputs": [
        {
          "output_type": "execute_result",
          "data": {
            "text/plain": [
              "'I hate gay people. '"
            ],
            "application/vnd.google.colaboratory.intrinsic+json": {
              "type": "string"
            }
          },
          "metadata": {},
          "execution_count": 260
        }
      ]
    },
    {
      "cell_type": "code",
      "source": [
        "X = dtm"
      ],
      "metadata": {
        "id": "iDtzLOGbDvwQ"
      },
      "execution_count": 261,
      "outputs": []
    },
    {
      "cell_type": "code",
      "source": [
        "from sklearn.model_selection import train_test_split"
      ],
      "metadata": {
        "id": "sK-ekzymqkc3"
      },
      "execution_count": 262,
      "outputs": []
    },
    {
      "cell_type": "code",
      "source": [
        "X_train, X_test, y_train, y_test = train_test_split(X, y, test_size=.2)"
      ],
      "metadata": {
        "id": "aszcYuSVqkVo"
      },
      "execution_count": 263,
      "outputs": []
    },
    {
      "cell_type": "code",
      "source": [
        "X_train"
      ],
      "metadata": {
        "colab": {
          "base_uri": "https://localhost:8080/"
        },
        "id": "JzIechzNqkR1",
        "outputId": "cb14397d-3d7b-4f45-ec07-a9563de6e310"
      },
      "execution_count": 264,
      "outputs": [
        {
          "output_type": "execute_result",
          "data": {
            "text/plain": [
              "array([[0., 0., 1., ..., 0., 0., 0.],\n",
              "       [0., 1., 1., ..., 0., 0., 0.],\n",
              "       [0., 0., 0., ..., 0., 0., 0.],\n",
              "       ...,\n",
              "       [0., 1., 0., ..., 0., 0., 0.],\n",
              "       [0., 0., 0., ..., 0., 0., 0.],\n",
              "       [0., 0., 0., ..., 0., 0., 0.]])"
            ]
          },
          "metadata": {},
          "execution_count": 264
        }
      ]
    },
    {
      "cell_type": "code",
      "source": [
        "X_train = torch.tensor(X_train, dtype = torch.float)\n",
        "X_test = torch.tensor(X_test, dtype = torch.float)\n",
        "y_train = torch.tensor(y_train, dtype = torch.float)\n",
        "y_test = torch.tensor(y_test, dtype = torch.float)"
      ],
      "metadata": {
        "id": "08tt_Zx3Ot8t"
      },
      "execution_count": 265,
      "outputs": []
    },
    {
      "cell_type": "code",
      "source": [
        "#model definition\n",
        "class TextModel(nn.Module):\n",
        "  def __init__(self):\n",
        "    super().__init__()\n",
        "    self.lin1 = nn.Linear(in_features = 500, out_features = 100)\n",
        "    self.lin2 = nn.Linear(100, 100)\n",
        "    self.lin3 = nn.Linear(100, 1)\n",
        "    self.sigmoid = nn.Sigmoid()\n",
        "    self.act = nn.ReLU()\n",
        "\n",
        "  def forward(self, x):\n",
        "    x = self.act(self.lin1(x))\n",
        "    x = self.act(self.lin2(x))\n",
        "    return self.sigmoid(self.lin3(x))\n",
        "\n",
        "\n"
      ],
      "metadata": {
        "id": "bpsixqUc8emJ"
      },
      "execution_count": 266,
      "outputs": []
    },
    {
      "cell_type": "code",
      "source": [
        "#ingredients\n",
        "model = TextModel()\n",
        "optimizer = optim.Adam(model.parameters(), lr = 0.01)\n",
        "loss_fn = nn.BCELoss()"
      ],
      "metadata": {
        "id": "4h0spe_p8eie"
      },
      "execution_count": 267,
      "outputs": []
    },
    {
      "cell_type": "code",
      "source": [
        "#evaluate\n",
        "for epoch in range(100):\n",
        "  yhat = model(X_train)\n",
        "  y = y_train.reshape(-1, 1)\n",
        "  loss = loss_fn(yhat, y)\n",
        "  optimizer.zero_grad()\n",
        "  loss.backward()\n",
        "  optimizer.step()\n",
        "  if epoch % 10 == 0:\n",
        "    print(f'Epoch {epoch} Loss: {losses}')"
      ],
      "metadata": {
        "colab": {
          "base_uri": "https://localhost:8080/"
        },
        "id": "qXpxaYe88ece",
        "outputId": "3e5ac0b9-a8cb-42f5-bb60-48d63bc8a1fd"
      },
      "execution_count": 268,
      "outputs": [
        {
          "output_type": "stream",
          "name": "stdout",
          "text": [
            "Epoch 0 Loss: 60.102640464901924\n",
            "Epoch 10 Loss: 60.102640464901924\n",
            "Epoch 20 Loss: 60.102640464901924\n",
            "Epoch 30 Loss: 60.102640464901924\n",
            "Epoch 40 Loss: 60.102640464901924\n",
            "Epoch 50 Loss: 60.102640464901924\n",
            "Epoch 60 Loss: 60.102640464901924\n",
            "Epoch 70 Loss: 60.102640464901924\n",
            "Epoch 80 Loss: 60.102640464901924\n",
            "Epoch 90 Loss: 60.102640464901924\n"
          ]
        }
      ]
    },
    {
      "cell_type": "code",
      "source": [
        "Xt = torch.tensor(X_test, dtype = torch.float)"
      ],
      "metadata": {
        "id": "_DcEHs4y8eZn",
        "colab": {
          "base_uri": "https://localhost:8080/"
        },
        "outputId": "9e552cb6-9f84-434d-f08c-0843ddf09cba"
      },
      "execution_count": 269,
      "outputs": [
        {
          "output_type": "stream",
          "name": "stderr",
          "text": [
            "<ipython-input-269-ada0177efcd4>:1: UserWarning: To copy construct from a tensor, it is recommended to use sourceTensor.clone().detach() or sourceTensor.clone().detach().requires_grad_(True), rather than torch.tensor(sourceTensor).\n",
            "  Xt = torch.tensor(X_test, dtype = torch.float)\n"
          ]
        }
      ]
    },
    {
      "cell_type": "code",
      "source": [
        "output = model(Xt) #model predictions"
      ],
      "metadata": {
        "id": "aEy8zfP0HNr5"
      },
      "execution_count": 270,
      "outputs": []
    },
    {
      "cell_type": "code",
      "source": [
        "output[:5]"
      ],
      "metadata": {
        "colab": {
          "base_uri": "https://localhost:8080/"
        },
        "id": "-GVJHCGeqEJM",
        "outputId": "25e56f69-ecd4-495f-ca26-ad40ea2c9ee8",
        "collapsed": true
      },
      "execution_count": 271,
      "outputs": [
        {
          "output_type": "execute_result",
          "data": {
            "text/plain": [
              "tensor([[8.3895e-13],\n",
              "        [6.5180e-06],\n",
              "        [9.9800e-01],\n",
              "        [1.0000e+00],\n",
              "        [6.9652e-16]], grad_fn=<SliceBackward0>)"
            ]
          },
          "metadata": {},
          "execution_count": 271
        }
      ]
    },
    {
      "cell_type": "code",
      "source": [
        "#Converting probabilities to prediction\n",
        "preds = np.where(np.array(output.detach()) >= .5, 1, 0)"
      ],
      "metadata": {
        "id": "DkVQymo1HUui"
      },
      "execution_count": 272,
      "outputs": []
    },
    {
      "cell_type": "code",
      "source": [
        "preds.shape"
      ],
      "metadata": {
        "colab": {
          "base_uri": "https://localhost:8080/"
        },
        "id": "XhEbGWR8HUnh",
        "outputId": "11891fe2-0d3a-4126-a4ef-5b1f6dcb282e"
      },
      "execution_count": 273,
      "outputs": [
        {
          "output_type": "execute_result",
          "data": {
            "text/plain": [
              "(746, 1)"
            ]
          },
          "metadata": {},
          "execution_count": 273
        }
      ]
    },
    {
      "cell_type": "code",
      "source": [
        "y_test.shape"
      ],
      "metadata": {
        "colab": {
          "base_uri": "https://localhost:8080/"
        },
        "id": "pFqddE7iNsRp",
        "outputId": "a2da9e30-036e-4bed-bffa-f20a3d8ee5a8"
      },
      "execution_count": 274,
      "outputs": [
        {
          "output_type": "execute_result",
          "data": {
            "text/plain": [
              "torch.Size([746])"
            ]
          },
          "metadata": {},
          "execution_count": 274
        }
      ]
    },
    {
      "cell_type": "code",
      "source": [
        "(preds.flatten() == y_test.flatten()).sum()/len(y_test)"
      ],
      "metadata": {
        "colab": {
          "base_uri": "https://localhost:8080/"
        },
        "id": "ppU6XUcLHrgv",
        "outputId": "09681a5b-6c10-4c44-c532-67e14d43644f"
      },
      "execution_count": 275,
      "outputs": [
        {
          "output_type": "execute_result",
          "data": {
            "text/plain": [
              "tensor(0.9651)"
            ]
          },
          "metadata": {},
          "execution_count": 275
        }
      ]
    },
    {
      "cell_type": "code",
      "source": [],
      "metadata": {
        "id": "Zy3fuAQiOyVi"
      },
      "execution_count": 275,
      "outputs": []
    },
    {
      "cell_type": "code",
      "source": [],
      "metadata": {
        "id": "8xvnYrodOyQm"
      },
      "execution_count": 275,
      "outputs": []
    },
    {
      "cell_type": "code",
      "source": [],
      "metadata": {
        "id": "g5b32EtLOyNI"
      },
      "execution_count": 275,
      "outputs": []
    },
    {
      "cell_type": "markdown",
      "source": [
        "### Basic RNN\n",
        "\n",
        "![](https://karpathy.github.io/assets/rnn/diags.jpeg)\n",
        "\n",
        "[Source](https://karpathy.github.io/2015/05/21/rnn-effectiveness/)"
      ],
      "metadata": {
        "id": "zajZdySD9Lxl"
      }
    },
    {
      "cell_type": "code",
      "source": [
        "#create sequences\n",
        "sequences = tokenizer.texts_to_sequences(df['test_case'])"
      ],
      "metadata": {
        "id": "14ohZWmqlBXn"
      },
      "execution_count": 276,
      "outputs": []
    },
    {
      "cell_type": "code",
      "source": [
        "#look at first sequence\n",
        "sequences[0]"
      ],
      "metadata": {
        "colab": {
          "base_uri": "https://localhost:8080/"
        },
        "id": "1iAvE73XlGNf",
        "outputId": "48935972-a3a4-4206-cac3-6bc651281470"
      },
      "execution_count": 277,
      "outputs": [
        {
          "output_type": "execute_result",
          "data": {
            "text/plain": [
              "[5, 96, 22]"
            ]
          },
          "metadata": {},
          "execution_count": 277
        }
      ]
    },
    {
      "cell_type": "code",
      "source": [
        "#compare to text\n",
        "df['test_case'].values[1]"
      ],
      "metadata": {
        "colab": {
          "base_uri": "https://localhost:8080/",
          "height": 35
        },
        "id": "WBoD5QfPlK7X",
        "outputId": "48294218-c8fa-43b3-ebc7-8d08f1e6c575"
      },
      "execution_count": 278,
      "outputs": [
        {
          "output_type": "execute_result",
          "data": {
            "text/plain": [
              "'I hate trans people. '"
            ],
            "application/vnd.google.colaboratory.intrinsic+json": {
              "type": "string"
            }
          },
          "metadata": {},
          "execution_count": 278
        }
      ]
    },
    {
      "cell_type": "code",
      "source": [
        "#pad and make all same length\n",
        "sequences = pad_sequences(sequences, maxlen=30)"
      ],
      "metadata": {
        "id": "PmeaiuOAlNGD"
      },
      "execution_count": 279,
      "outputs": []
    },
    {
      "cell_type": "code",
      "source": [
        "#examine results\n",
        "sequences[1].shape"
      ],
      "metadata": {
        "colab": {
          "base_uri": "https://localhost:8080/"
        },
        "id": "JH6zRxhxmlrt",
        "outputId": "9e5707c8-181e-462d-d936-0a27e6076311"
      },
      "execution_count": 280,
      "outputs": [
        {
          "output_type": "execute_result",
          "data": {
            "text/plain": [
              "(30,)"
            ]
          },
          "metadata": {},
          "execution_count": 280
        }
      ]
    },
    {
      "cell_type": "code",
      "source": [
        "sequences[1]"
      ],
      "metadata": {
        "colab": {
          "base_uri": "https://localhost:8080/"
        },
        "id": "dYw2vJpntRVx",
        "outputId": "676e6a47-487d-45d3-9e8a-6bf8275cf77d"
      },
      "execution_count": 281,
      "outputs": [
        {
          "output_type": "execute_result",
          "data": {
            "text/plain": [
              "array([ 0,  0,  0,  0,  0,  0,  0,  0,  0,  0,  0,  0,  0,  0,  0,  0,  0,\n",
              "        0,  0,  0,  0,  0,  0,  0,  0,  0,  5, 96, 15,  1], dtype=int32)"
            ]
          },
          "metadata": {},
          "execution_count": 281
        }
      ]
    },
    {
      "cell_type": "code",
      "source": [
        "#example rnn\n",
        "rnn = nn.RNN(input_size = 30,\n",
        "             hidden_size = 30,\n",
        "             num_layers = 1,\n",
        "             batch_first = True)"
      ],
      "metadata": {
        "id": "7GnZn1epsSEi"
      },
      "execution_count": 282,
      "outputs": []
    },
    {
      "cell_type": "code",
      "source": [
        "#pass data through\n",
        "sample_sequence = torch.tensor(sequences[1],\n",
        "                               dtype = torch.float,\n",
        "                               ).reshape(1, -1)\n",
        "sample_sequence.shape"
      ],
      "metadata": {
        "id": "Fr2mNE_0swQp",
        "colab": {
          "base_uri": "https://localhost:8080/"
        },
        "outputId": "9e9bf6ba-3bae-474e-eb45-27a700767122"
      },
      "execution_count": 283,
      "outputs": [
        {
          "output_type": "execute_result",
          "data": {
            "text/plain": [
              "torch.Size([1, 30])"
            ]
          },
          "metadata": {},
          "execution_count": 283
        }
      ]
    },
    {
      "cell_type": "code",
      "source": [
        "#output\n",
        "output, hidden = rnn(sample_sequence)"
      ],
      "metadata": {
        "id": "97X1o7qHmw5n"
      },
      "execution_count": 284,
      "outputs": []
    },
    {
      "cell_type": "code",
      "source": [
        "#hidden\n",
        "hidden"
      ],
      "metadata": {
        "colab": {
          "base_uri": "https://localhost:8080/"
        },
        "id": "ONbv5VGa2EhR",
        "outputId": "7555d8ba-49bd-4293-ca7b-7ef48df393c0"
      },
      "execution_count": 285,
      "outputs": [
        {
          "output_type": "execute_result",
          "data": {
            "text/plain": [
              "tensor([[ 0.9990, -1.0000,  1.0000, -0.6773, -1.0000, -1.0000, -0.9506, -0.1827,\n",
              "          1.0000, -1.0000, -1.0000, -1.0000,  1.0000,  1.0000,  1.0000, -1.0000,\n",
              "         -0.8065,  0.9974, -0.6964, -1.0000,  0.7627,  1.0000, -1.0000, -1.0000,\n",
              "          1.0000,  0.9879,  1.0000,  1.0000, -1.0000,  1.0000]],\n",
              "       grad_fn=<SqueezeBackward1>)"
            ]
          },
          "metadata": {},
          "execution_count": 285
        }
      ]
    },
    {
      "cell_type": "code",
      "source": [
        "#linear layer\n",
        "output.shape"
      ],
      "metadata": {
        "id": "EyjoR6x1tIRz",
        "colab": {
          "base_uri": "https://localhost:8080/"
        },
        "outputId": "bd7d14c3-42bc-4902-97e8-5adba19ecdb9"
      },
      "execution_count": 286,
      "outputs": [
        {
          "output_type": "execute_result",
          "data": {
            "text/plain": [
              "torch.Size([1, 30])"
            ]
          },
          "metadata": {},
          "execution_count": 286
        }
      ]
    },
    {
      "cell_type": "code",
      "source": [
        "#pass through linear\n",
        "lin1 = nn.Linear(in_features = 30, out_features = 1)"
      ],
      "metadata": {
        "id": "wy86PysZh4yt"
      },
      "execution_count": 287,
      "outputs": []
    },
    {
      "cell_type": "code",
      "source": [
        "#output to probability\n",
        "lin1(output)"
      ],
      "metadata": {
        "colab": {
          "base_uri": "https://localhost:8080/"
        },
        "id": "H-24s8_ZMNQs",
        "outputId": "9e017534-afd6-43d7-b63b-3f32790701c1"
      },
      "execution_count": 288,
      "outputs": [
        {
          "output_type": "execute_result",
          "data": {
            "text/plain": [
              "tensor([[0.8009]], grad_fn=<AddmmBackward0>)"
            ]
          },
          "metadata": {},
          "execution_count": 288
        }
      ]
    },
    {
      "cell_type": "code",
      "source": [
        "torch.sigmoid(lin1(output))"
      ],
      "metadata": {
        "colab": {
          "base_uri": "https://localhost:8080/"
        },
        "id": "a6ix8-cXUZPM",
        "outputId": "e355e743-44a0-4796-87b1-a0adcf3b344b"
      },
      "execution_count": 289,
      "outputs": [
        {
          "output_type": "execute_result",
          "data": {
            "text/plain": [
              "tensor([[0.6902]], grad_fn=<SigmoidBackward0>)"
            ]
          },
          "metadata": {},
          "execution_count": 289
        }
      ]
    },
    {
      "cell_type": "code",
      "source": [
        "X_train.shape"
      ],
      "metadata": {
        "colab": {
          "base_uri": "https://localhost:8080/"
        },
        "id": "_Xs5vNYdUtIW",
        "outputId": "d0f539e0-cd36-4817-fa98-96d7382dbeec"
      },
      "execution_count": 290,
      "outputs": [
        {
          "output_type": "execute_result",
          "data": {
            "text/plain": [
              "torch.Size([2982, 500])"
            ]
          },
          "metadata": {},
          "execution_count": 290
        }
      ]
    },
    {
      "cell_type": "code",
      "source": [
        "y_train.shape"
      ],
      "metadata": {
        "colab": {
          "base_uri": "https://localhost:8080/"
        },
        "id": "jUhR_kGtUtED",
        "outputId": "52fd4a12-822e-479a-bfe7-38983a777149"
      },
      "execution_count": 291,
      "outputs": [
        {
          "output_type": "execute_result",
          "data": {
            "text/plain": [
              "torch.Size([2982])"
            ]
          },
          "metadata": {},
          "execution_count": 291
        }
      ]
    },
    {
      "cell_type": "code",
      "source": [
        "# model = nn.Sequential(nn.RNN(input_size = 30,hidden_size = 30, num_layers = 2, batch_first = True),\n",
        "#                       nn.Linear(in_features = 30, out_features = 1),\n",
        "#                       nn.Sigmoid())"
      ],
      "metadata": {
        "id": "BrtHwnqnPThV"
      },
      "execution_count": 292,
      "outputs": []
    },
    {
      "cell_type": "code",
      "source": [
        "#class\n",
        "class BasicRNN(nn.Module):\n",
        "  def __init__(self):\n",
        "    super().__init__()\n",
        "    self.rnn = nn.RNN(input_size = 30,\n",
        "                    hidden_size = 30,\n",
        "                    num_layers = 3,\n",
        "                    batch_first = False)\n",
        "    self.lin1 = nn.Linear(in_features = 30, out_features=30)\n",
        "    self.lin2 = nn.Linear(30, 100)\n",
        "    self.lin3 = nn.Linear(100, 1)\n",
        "    self.act = nn.ReLU()\n",
        "    self.sigmoid = nn.Sigmoid()\n",
        "\n",
        "  def forward(self, x):\n",
        "    x, _ = self.rnn(x)\n",
        "    x = self.act(self.lin1(x))\n",
        "    x = self.act(self.lin2(x))\n",
        "    x = self.sigmoid(self.lin3(x))\n",
        "    return x\n"
      ],
      "metadata": {
        "id": "x0N9mpg9h5og"
      },
      "execution_count": 315,
      "outputs": []
    },
    {
      "cell_type": "code",
      "source": [
        "y = np.where(df['label_gold'] == 'hateful', 1, 0)"
      ],
      "metadata": {
        "id": "um1Frj5lP7Dj"
      },
      "execution_count": 316,
      "outputs": []
    },
    {
      "cell_type": "code",
      "source": [
        "X.shape"
      ],
      "metadata": {
        "colab": {
          "base_uri": "https://localhost:8080/"
        },
        "id": "CiRbgDMTRQEl",
        "outputId": "025e5421-2b05-40ee-90a4-58d1ef2a6109"
      },
      "execution_count": 317,
      "outputs": [
        {
          "output_type": "execute_result",
          "data": {
            "text/plain": [
              "torch.Size([3728, 30])"
            ]
          },
          "metadata": {},
          "execution_count": 317
        }
      ]
    },
    {
      "cell_type": "code",
      "source": [
        "y.shape"
      ],
      "metadata": {
        "colab": {
          "base_uri": "https://localhost:8080/"
        },
        "id": "FkjaRnv2RS_m",
        "outputId": "9424533a-fcb9-4c40-d84f-24bdf5b431a9"
      },
      "execution_count": 318,
      "outputs": [
        {
          "output_type": "execute_result",
          "data": {
            "text/plain": [
              "(3728,)"
            ]
          },
          "metadata": {},
          "execution_count": 318
        }
      ]
    },
    {
      "cell_type": "code",
      "source": [
        "X = sequences\n",
        "X = torch.tensor(X, dtype = torch.float)\n",
        "y = torch.tensor(y, dtype = torch.float)\n",
        "X_train, X_test, y_train, y_test = train_test_split(X, y, test_size = .2)"
      ],
      "metadata": {
        "id": "Xv1ka2VsUjG1"
      },
      "execution_count": 319,
      "outputs": []
    },
    {
      "cell_type": "code",
      "source": [
        "#optimizer and loss\n",
        "model = BasicRNN()\n",
        "optimizer = optim.Adam(model.parameters(), lr = 0.01)\n",
        "loss_fn = nn.BCELoss()"
      ],
      "metadata": {
        "id": "4ACZI673-RpV"
      },
      "execution_count": 320,
      "outputs": []
    },
    {
      "cell_type": "code",
      "source": [
        "#train\n",
        "for epoch in range(20):\n",
        "    yhat = model(X_train)\n",
        "    y = y_train.reshape(-1, 1)\n",
        "    loss = loss_fn(yhat, y)\n",
        "    optimizer.zero_grad()\n",
        "    loss.backward()\n",
        "    optimizer.step()\n",
        "    losses += loss.item()\n",
        "    if epoch % 10 == 0:\n",
        "      print(f'Epoch {epoch} Loss: {losses}')"
      ],
      "metadata": {
        "colab": {
          "base_uri": "https://localhost:8080/"
        },
        "id": "LLj-NUK5-TeE",
        "outputId": "aeb3d56e-83bf-4618-e24f-20bde0679203"
      },
      "execution_count": 331,
      "outputs": [
        {
          "output_type": "stream",
          "name": "stdout",
          "text": [
            "Epoch 0 Loss: 66.96763409674168\n",
            "Epoch 10 Loss: 72.60977609455585\n"
          ]
        }
      ]
    },
    {
      "cell_type": "code",
      "source": [
        "Xt = torch.tensor(X_test, dtype = torch.float)"
      ],
      "metadata": {
        "id": "M_uQWrJaPRwA",
        "colab": {
          "base_uri": "https://localhost:8080/"
        },
        "outputId": "ab7e20ed-535c-4b4f-c105-5e8b1483b55f"
      },
      "execution_count": 332,
      "outputs": [
        {
          "output_type": "stream",
          "name": "stderr",
          "text": [
            "<ipython-input-332-ada0177efcd4>:1: UserWarning: To copy construct from a tensor, it is recommended to use sourceTensor.clone().detach() or sourceTensor.clone().detach().requires_grad_(True), rather than torch.tensor(sourceTensor).\n",
            "  Xt = torch.tensor(X_test, dtype = torch.float)\n"
          ]
        }
      ]
    },
    {
      "cell_type": "code",
      "source": [
        "output = model(Xt)"
      ],
      "metadata": {
        "id": "T5XcG1OpPZ2T"
      },
      "execution_count": 333,
      "outputs": []
    },
    {
      "cell_type": "code",
      "source": [
        "preds = np.where(np.array(output.detach()) >= .5, 1, 0)"
      ],
      "metadata": {
        "id": "hwS2m5rcPZ2Z"
      },
      "execution_count": 334,
      "outputs": []
    },
    {
      "cell_type": "code",
      "source": [
        "y_test"
      ],
      "metadata": {
        "id": "izZ6GyxHwV2z",
        "colab": {
          "base_uri": "https://localhost:8080/"
        },
        "outputId": "9e071ef4-6fc4-4a00-8a6c-a387ae603e86"
      },
      "execution_count": 336,
      "outputs": [
        {
          "output_type": "execute_result",
          "data": {
            "text/plain": [
              "tensor([1., 1., 1., 1., 1., 1., 0., 0., 1., 1., 1., 0., 0., 1., 1., 0., 1., 0.,\n",
              "        1., 0., 1., 1., 1., 1., 1., 1., 1., 1., 1., 0., 1., 1., 1., 0., 0., 0.,\n",
              "        1., 0., 1., 0., 1., 0., 1., 0., 0., 1., 0., 1., 0., 1., 0., 1., 1., 1.,\n",
              "        1., 0., 1., 1., 1., 0., 1., 1., 0., 0., 0., 1., 1., 0., 1., 1., 1., 0.,\n",
              "        0., 1., 0., 1., 1., 1., 1., 1., 1., 0., 1., 0., 1., 1., 0., 1., 1., 0.,\n",
              "        0., 1., 0., 0., 1., 1., 1., 1., 1., 0., 0., 1., 1., 1., 0., 0., 1., 0.,\n",
              "        1., 0., 1., 0., 1., 1., 1., 1., 1., 1., 0., 0., 1., 1., 1., 0., 0., 0.,\n",
              "        1., 0., 0., 0., 1., 0., 1., 1., 1., 1., 0., 0., 0., 1., 1., 1., 1., 1.,\n",
              "        1., 0., 1., 0., 1., 1., 1., 1., 1., 1., 1., 1., 1., 1., 1., 0., 1., 0.,\n",
              "        1., 1., 1., 1., 1., 0., 0., 0., 1., 0., 1., 1., 0., 0., 1., 1., 0., 1.,\n",
              "        1., 1., 1., 1., 1., 1., 0., 0., 1., 1., 1., 1., 1., 1., 1., 0., 0., 1.,\n",
              "        0., 0., 1., 0., 1., 1., 0., 1., 0., 0., 1., 1., 1., 1., 1., 1., 0., 0.,\n",
              "        1., 1., 1., 1., 1., 1., 1., 0., 1., 0., 0., 1., 1., 1., 1., 1., 0., 1.,\n",
              "        1., 1., 1., 1., 1., 0., 1., 1., 0., 1., 1., 1., 1., 1., 1., 1., 1., 1.,\n",
              "        1., 1., 1., 1., 1., 0., 1., 1., 1., 1., 1., 1., 1., 1., 1., 1., 1., 1.,\n",
              "        1., 1., 0., 1., 1., 1., 1., 0., 1., 1., 1., 1., 1., 1., 0., 0., 1., 1.,\n",
              "        1., 0., 1., 1., 1., 1., 1., 0., 1., 1., 1., 1., 0., 0., 1., 0., 1., 1.,\n",
              "        1., 0., 1., 0., 0., 1., 1., 1., 1., 0., 1., 1., 0., 0., 1., 1., 1., 0.,\n",
              "        1., 1., 1., 1., 0., 1., 1., 1., 1., 1., 1., 0., 1., 1., 0., 1., 1., 1.,\n",
              "        1., 1., 1., 0., 1., 0., 0., 1., 1., 0., 0., 0., 1., 0., 0., 1., 0., 1.,\n",
              "        1., 0., 0., 0., 1., 1., 1., 0., 1., 0., 0., 0., 1., 1., 1., 1., 1., 1.,\n",
              "        0., 0., 1., 0., 1., 1., 1., 1., 1., 1., 1., 0., 1., 1., 1., 1., 1., 1.,\n",
              "        0., 1., 1., 1., 0., 1., 1., 0., 1., 0., 1., 1., 0., 0., 1., 0., 1., 1.,\n",
              "        0., 1., 1., 1., 0., 1., 1., 1., 1., 0., 1., 0., 1., 1., 1., 0., 0., 1.,\n",
              "        1., 1., 1., 1., 1., 1., 1., 0., 1., 0., 1., 1., 1., 1., 0., 1., 0., 0.,\n",
              "        1., 1., 1., 1., 1., 1., 1., 1., 1., 0., 1., 1., 0., 0., 1., 1., 1., 1.,\n",
              "        1., 0., 1., 1., 1., 0., 1., 1., 1., 1., 0., 1., 1., 1., 0., 1., 1., 1.,\n",
              "        1., 1., 0., 0., 0., 1., 1., 1., 0., 0., 1., 1., 1., 1., 0., 1., 1., 1.,\n",
              "        0., 1., 1., 1., 1., 0., 1., 1., 1., 0., 1., 1., 1., 1., 1., 1., 1., 0.,\n",
              "        1., 1., 1., 1., 1., 1., 1., 1., 1., 1., 0., 1., 0., 1., 1., 0., 0., 1.,\n",
              "        0., 1., 1., 1., 0., 0., 1., 1., 1., 0., 1., 1., 1., 1., 1., 1., 0., 1.,\n",
              "        1., 0., 0., 1., 0., 0., 1., 1., 1., 1., 1., 1., 1., 1., 1., 1., 1., 0.,\n",
              "        1., 1., 0., 1., 1., 1., 1., 1., 0., 1., 0., 1., 0., 1., 1., 1., 0., 0.,\n",
              "        0., 0., 1., 0., 1., 0., 1., 1., 1., 1., 0., 1., 0., 1., 0., 0., 1., 0.,\n",
              "        1., 0., 1., 1., 1., 1., 1., 1., 1., 1., 0., 1., 1., 0., 1., 0., 1., 1.,\n",
              "        0., 0., 1., 1., 1., 1., 1., 1., 1., 1., 1., 1., 0., 1., 1., 1., 0., 1.,\n",
              "        0., 1., 1., 0., 0., 1., 0., 1., 1., 1., 1., 1., 0., 0., 1., 1., 1., 1.,\n",
              "        1., 1., 1., 0., 1., 1., 0., 0., 0., 1., 0., 1., 1., 0., 1., 1., 1., 1.,\n",
              "        0., 0., 1., 0., 1., 1., 0., 1., 0., 0., 0., 1., 0., 1., 1., 1., 0., 1.,\n",
              "        1., 0., 1., 1., 1., 1., 1., 0., 1., 0., 1., 1., 0., 1., 1., 1., 1., 1.,\n",
              "        0., 1., 1., 1., 1., 1., 1., 0., 1., 1., 1., 1., 0., 1., 0., 0., 0., 0.,\n",
              "        0., 1., 1., 0., 1., 1., 1., 1.])"
            ]
          },
          "metadata": {},
          "execution_count": 336
        }
      ]
    },
    {
      "cell_type": "code",
      "source": [
        "sum(preds.flatten() == y_test.flatten())/len(y_test)"
      ],
      "metadata": {
        "id": "GEhgDz-9wiP0",
        "colab": {
          "base_uri": "https://localhost:8080/"
        },
        "outputId": "44eb2a1f-bad0-4d59-817b-632c831631d3"
      },
      "execution_count": 337,
      "outputs": [
        {
          "output_type": "execute_result",
          "data": {
            "text/plain": [
              "tensor(0.6139)"
            ]
          },
          "metadata": {},
          "execution_count": 337
        }
      ]
    },
    {
      "cell_type": "markdown",
      "source": [
        "Additional improvements to the RNN include the LSTM and GRU layers -- examples at end of notebook."
      ],
      "metadata": {
        "id": "t0Yof-sAa6cU"
      }
    },
    {
      "cell_type": "markdown",
      "source": [
        "### Pretrained Models and HuggingFace\n",
        "\n",
        "- [Huggingface](https://huggingface.co/)\n",
        "- [Chronos Paper](https://arxiv.org/abs/2403.07815)"
      ],
      "metadata": {
        "id": "ouZw-ftC3tcn"
      }
    },
    {
      "cell_type": "code",
      "source": [
        "pip install git+https://github.com/amazon-science/chronos-forecasting.git"
      ],
      "metadata": {
        "id": "rUfs4IFd3od3"
      },
      "execution_count": null,
      "outputs": []
    },
    {
      "cell_type": "code",
      "source": [
        "import torch\n",
        "from chronos import ChronosPipeline\n",
        "\n",
        "pipeline = ChronosPipeline.from_pretrained(\n",
        "  \"amazon/chronos-t5-large\",\n",
        "  device_map=\"cuda\",\n",
        "  torch_dtype=torch.bfloat16,\n",
        ")\n",
        "\n",
        "df = pd.read_csv(\"https://raw.githubusercontent.com/AileenNielsen/TimeSeriesAnalysisWithPython/master/data/AirPassengers.csv\")\n"
      ],
      "metadata": {
        "id": "1DWaYOa93oRa"
      },
      "execution_count": null,
      "outputs": []
    },
    {
      "cell_type": "code",
      "source": [
        "# context must be either a 1D tensor, a list of 1D tensors,\n",
        "# or a left-padded 2D tensor with batch as the first dimension\n",
        "context = torch.tensor(df[\"#Passengers\"])\n",
        "prediction_length = 12\n",
        "forecast = pipeline.predict(context, prediction_length)  # shape [num_series, num_samples, prediction_length]"
      ],
      "metadata": {
        "id": "np9GE5ch3oNw"
      },
      "execution_count": null,
      "outputs": []
    },
    {
      "cell_type": "code",
      "source": [
        "# visualize the forecast\n",
        "forecast_index = range(len(df), len(df) + prediction_length)\n",
        "low, median, high = np.quantile(forecast[0].numpy(), [0.1, 0.5, 0.9], axis=0)\n",
        "\n",
        "plt.figure(figsize=(8, 4))\n",
        "plt.plot(df[\"#Passengers\"], color=\"royalblue\", label=\"historical data\")\n",
        "plt.plot(forecast_index, median, color=\"tomato\", label=\"median forecast\")\n",
        "plt.fill_between(forecast_index, low, high, color=\"tomato\", alpha=0.3, label=\"80% prediction interval\")\n",
        "plt.legend()\n",
        "plt.grid();"
      ],
      "metadata": {
        "id": "lbH7HgtW3oLS"
      },
      "execution_count": null,
      "outputs": []
    },
    {
      "cell_type": "markdown",
      "source": [
        "### Problem\n",
        "\n",
        "Explore the pretrained models available and try to find one that is either of relevance to your final paper or just of general interest.  Load and use the model in an example -- even just the docs!"
      ],
      "metadata": {
        "id": "FCp8SfBdN4El"
      }
    },
    {
      "cell_type": "code",
      "source": [],
      "metadata": {
        "id": "rfk8Kugz3oHz"
      },
      "execution_count": null,
      "outputs": []
    },
    {
      "cell_type": "code",
      "source": [],
      "metadata": {
        "id": "AtsjogUW3oF6"
      },
      "execution_count": null,
      "outputs": []
    },
    {
      "cell_type": "code",
      "source": [],
      "metadata": {
        "id": "q9agE6Oi3oDU"
      },
      "execution_count": null,
      "outputs": []
    },
    {
      "cell_type": "code",
      "source": [],
      "metadata": {
        "id": "IUystH1u3n_z"
      },
      "execution_count": null,
      "outputs": []
    },
    {
      "cell_type": "code",
      "source": [],
      "metadata": {
        "id": "7O_zuUex3n8A"
      },
      "execution_count": null,
      "outputs": []
    },
    {
      "cell_type": "code",
      "source": [],
      "metadata": {
        "id": "3htNkFVh3n5S"
      },
      "execution_count": null,
      "outputs": []
    },
    {
      "cell_type": "code",
      "source": [],
      "metadata": {
        "id": "YCatlx9z3n1G"
      },
      "execution_count": null,
      "outputs": []
    },
    {
      "cell_type": "markdown",
      "source": [
        "#### LSTM"
      ],
      "metadata": {
        "id": "zGZZTw9s-VxE"
      }
    },
    {
      "cell_type": "code",
      "source": [
        "class TextDataset(Dataset):\n",
        "  def __init__(self, X, y):\n",
        "    super().__init__()\n",
        "    self.x = torch.tensor(X, dtype = torch.float)\n",
        "    self.y = torch.tensor(y, dtype = torch.float)\n",
        "\n",
        "  def __len__(self):\n",
        "    return len(self.y)\n",
        "\n",
        "  def __getitem__(self, idx):\n",
        "    return self.x[idx], self.y[idx]"
      ],
      "metadata": {
        "id": "suaMbV2KXPIR"
      },
      "execution_count": 338,
      "outputs": []
    },
    {
      "cell_type": "code",
      "source": [
        "X_train.shape"
      ],
      "metadata": {
        "colab": {
          "base_uri": "https://localhost:8080/"
        },
        "id": "l-ii9itgX-tD",
        "outputId": "fcd2f94c-d202-44c0-dedc-23483765e51a"
      },
      "execution_count": 350,
      "outputs": [
        {
          "output_type": "execute_result",
          "data": {
            "text/plain": [
              "torch.Size([2982, 30])"
            ]
          },
          "metadata": {},
          "execution_count": 350
        }
      ]
    },
    {
      "cell_type": "code",
      "source": [
        "train_dataset = TextDataset(X_train, y_train)\n",
        "test_dataset = TextDataset(X_test, y_test)"
      ],
      "metadata": {
        "colab": {
          "base_uri": "https://localhost:8080/"
        },
        "id": "BYC2rsL3XONP",
        "outputId": "2e5ab719-c745-47ad-907c-a7934d9def41"
      },
      "execution_count": 339,
      "outputs": [
        {
          "output_type": "stream",
          "name": "stderr",
          "text": [
            "<ipython-input-338-c43d058806c9>:4: UserWarning: To copy construct from a tensor, it is recommended to use sourceTensor.clone().detach() or sourceTensor.clone().detach().requires_grad_(True), rather than torch.tensor(sourceTensor).\n",
            "  self.x = torch.tensor(X, dtype = torch.float)\n",
            "<ipython-input-338-c43d058806c9>:5: UserWarning: To copy construct from a tensor, it is recommended to use sourceTensor.clone().detach() or sourceTensor.clone().detach().requires_grad_(True), rather than torch.tensor(sourceTensor).\n",
            "  self.y = torch.tensor(y, dtype = torch.float)\n"
          ]
        }
      ]
    },
    {
      "cell_type": "code",
      "source": [
        "#dataset and loader\n",
        "trainloader = DataLoader(train_dataset, batch_size = 32)\n",
        "#dataset and loader\n",
        "testloader = DataLoader(test_dataset, batch_size = 32)"
      ],
      "metadata": {
        "id": "0J6l5ERrXOJX"
      },
      "execution_count": 351,
      "outputs": []
    },
    {
      "cell_type": "code",
      "source": [
        "# nn.LSTM()\n",
        "class BasicLSTM(nn.Module):\n",
        "  def __init__(self):\n",
        "    super().__init__()\n",
        "    self.rnn = nn.LSTM(input_size = 30,\n",
        "                    hidden_size = 100,\n",
        "                    num_layers = 1,\n",
        "                    batch_first = True)\n",
        "\n",
        "    self.lin1 = nn.Linear(in_features = 100, out_features=100)\n",
        "    self.lin2 = nn.Linear(in_features = 100, out_features = 1)\n",
        "    self.act = nn.ReLU()\n",
        "    self.sigmoid = nn.Sigmoid()\n",
        "\n",
        "  def forward(self, x):\n",
        "    x, (hn, cn)= self.rnn(x)\n",
        "    x = self.act(self.lin1(x))\n",
        "    x = self.lin2(x)\n",
        "    return self.sigmoid(x)\n",
        "    return x"
      ],
      "metadata": {
        "id": "o6sdapW1-XpK"
      },
      "execution_count": 371,
      "outputs": []
    },
    {
      "cell_type": "code",
      "source": [
        "model = BasicLSTM()\n",
        "optimizer = optim.Adam(model.parameters(), lr = 0.01)\n",
        "loss_fn = nn.BCELoss()"
      ],
      "metadata": {
        "id": "iRFR5kjC-Xlg"
      },
      "execution_count": 378,
      "outputs": []
    },
    {
      "cell_type": "code",
      "source": [
        "#train\n",
        "for epoch in range(10):\n",
        "  losses = 0\n",
        "  for x,y in trainloader:\n",
        "    yhat = model(x)\n",
        "    y = y.reshape(-1, 1)\n",
        "    loss = loss_fn(yhat, y)\n",
        "    optimizer.zero_grad()\n",
        "    loss.backward()\n",
        "    optimizer.step()\n",
        "    losses += loss.item()\n",
        "  if epoch % 10 == 0:\n",
        "    print(f'Epoch {epoch} Loss: {losses}')"
      ],
      "metadata": {
        "id": "5ltm2mqT-Xh3",
        "colab": {
          "base_uri": "https://localhost:8080/"
        },
        "outputId": "b1aebd24-2dd5-426c-fa60-7e554fe48f80"
      },
      "execution_count": 379,
      "outputs": [
        {
          "output_type": "stream",
          "name": "stdout",
          "text": [
            "Epoch 0 Loss: 58.59839341044426\n"
          ]
        }
      ]
    },
    {
      "cell_type": "code",
      "source": [
        "Xt = torch.tensor(X_test, dtype = torch.float)\n",
        "output = model(Xt)\n",
        "preds = np.where(np.array(output.detach()) >= .5, 1, 0)\n",
        "sum(preds[:, 0] == y_test)/len(y_test)"
      ],
      "metadata": {
        "id": "-BAJowK6-Xee",
        "colab": {
          "base_uri": "https://localhost:8080/"
        },
        "outputId": "0544bb9d-005a-4379-d868-7fec8e61c5e2"
      },
      "execution_count": 380,
      "outputs": [
        {
          "output_type": "stream",
          "name": "stderr",
          "text": [
            "<ipython-input-380-c8ba3076ae9b>:1: UserWarning: To copy construct from a tensor, it is recommended to use sourceTensor.clone().detach() or sourceTensor.clone().detach().requires_grad_(True), rather than torch.tensor(sourceTensor).\n",
            "  Xt = torch.tensor(X_test, dtype = torch.float)\n"
          ]
        },
        {
          "output_type": "execute_result",
          "data": {
            "text/plain": [
              "tensor(0.7024)"
            ]
          },
          "metadata": {},
          "execution_count": 380
        }
      ]
    },
    {
      "cell_type": "code",
      "source": [
        "class RNN2(nn.Module):\n",
        "  def __init__(self):\n",
        "    super().__init__()\n",
        "    self.rnn = nn.GRU(input_size = 30,\n",
        "                    hidden_size = 30,\n",
        "                    num_layers = 2,\n",
        "                    batch_first = True)\n",
        "\n",
        "    self.lin1 = nn.Linear(in_features = 30, out_features=100)\n",
        "    self.lin2 = nn.Linear(in_features = 100, out_features = 1)\n",
        "    self.sigmoid = nn.Sigmoid()\n",
        "\n",
        "  def forward(self, x):\n",
        "    x, _ = self.rnn(x)\n",
        "    x = self.lin1(x)\n",
        "    x = self.lin2(x)\n",
        "    return self.sigmoid(x)"
      ],
      "metadata": {
        "id": "6naIG8zXcMHu"
      },
      "execution_count": 387,
      "outputs": []
    },
    {
      "cell_type": "code",
      "source": [
        "model = RNN2()\n",
        "optimizer = optim.Adam(model.parameters(), lr = 0.01)\n",
        "loss_fn = nn.BCELoss()"
      ],
      "metadata": {
        "id": "4rvMTz63cd56"
      },
      "execution_count": 388,
      "outputs": []
    },
    {
      "cell_type": "code",
      "source": [
        "#train\n",
        "for epoch in range(100):\n",
        "  losses = 0\n",
        "  for x,y in trainloader:\n",
        "    yhat = model(x)\n",
        "    y = y.reshape(-1, 1)\n",
        "    loss = loss_fn(yhat, y)\n",
        "    optimizer.zero_grad()\n",
        "    loss.backward()\n",
        "    optimizer.step()\n",
        "    losses += loss.item()\n",
        "  if epoch % 10 == 0:\n",
        "    print(f'Epoch {epoch} Loss: {losses}')"
      ],
      "metadata": {
        "id": "Usld0UXHcpWa",
        "colab": {
          "base_uri": "https://localhost:8080/"
        },
        "outputId": "7039c5bb-ba9b-48f6-bff0-729520c0188d"
      },
      "execution_count": null,
      "outputs": [
        {
          "metadata": {
            "tags": null
          },
          "name": "stdout",
          "output_type": "stream",
          "text": [
            "Epoch 0 Loss: 59.61756247282028\n",
            "Epoch 10 Loss: 57.20614293217659\n",
            "Epoch 20 Loss: 55.79645165801048\n",
            "Epoch 30 Loss: 55.00879901647568\n",
            "Epoch 40 Loss: 55.988073855638504\n",
            "Epoch 50 Loss: 54.665479958057404\n",
            "Epoch 60 Loss: 53.79632553458214\n"
          ]
        }
      ]
    },
    {
      "cell_type": "code",
      "source": [
        "# Xt = torch.tensor(sequences, dtype = torch.float)\n",
        "output = model(X_test)\n",
        "preds = np.where(np.array(output.detach()) >= .5, 1, 0)\n",
        "sum(preds[:, 0] == y_test.flatten())/len(y_test)"
      ],
      "metadata": {
        "id": "7oxNBjhtcsoH",
        "colab": {
          "base_uri": "https://localhost:8080/"
        },
        "outputId": "c95e9dd9-a4a9-4452-8e96-251210b0572a"
      },
      "execution_count": 386,
      "outputs": [
        {
          "output_type": "execute_result",
          "data": {
            "text/plain": [
              "tensor(0.6689)"
            ]
          },
          "metadata": {},
          "execution_count": 386
        }
      ]
    },
    {
      "cell_type": "code",
      "source": [],
      "metadata": {
        "id": "uG-M5_QSd_Le"
      },
      "execution_count": null,
      "outputs": []
    }
  ]
}
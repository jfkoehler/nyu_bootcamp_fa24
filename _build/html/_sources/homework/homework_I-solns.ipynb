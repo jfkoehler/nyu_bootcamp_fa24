{
 "cells": [
  {
   "cell_type": "markdown",
   "metadata": {},
   "source": [
    "### Assignment 1\n",
    "\n",
    "**Topics**\n",
    "\n",
    "- Numbers and operations\n",
    "- Strings \n",
    "- Lists \n",
    "- Dictionaries \n",
    "- Loops\n",
    "- Functions\n",
    "\n",
    "For each of the problems below use either a code or markdown cell to answer.  "
   ]
  },
  {
   "cell_type": "markdown",
   "metadata": {},
   "source": [
    "### Number and Operation\n",
    "\n",
    "In the problems below, compute the appropriate numerical operations and assign your solution to the given variable."
   ]
  },
  {
   "cell_type": "markdown",
   "metadata": {},
   "source": [
    "**Problem 1**: Sum the first 10 integers.  Assign your solution to `ans1` below."
   ]
  },
  {
   "cell_type": "code",
   "execution_count": 1,
   "metadata": {},
   "outputs": [
    {
     "name": "stdout",
     "output_type": "stream",
     "text": [
      "55\n"
     ]
    }
   ],
   "source": [
    "### addition\n",
    "ans1 = sum(range(1, 11))\n",
    "ans1 = sum([1, 2, 3, 4, 5, 6, 7, 8, 9, 10])\n",
    "print(ans1)"
   ]
  },
  {
   "cell_type": "markdown",
   "metadata": {},
   "source": [
    "**Problem 2**: Multiply 1, 2, 3, 4, and 5.  Assign your solution to `ans2` below."
   ]
  },
  {
   "cell_type": "code",
   "execution_count": 2,
   "metadata": {},
   "outputs": [
    {
     "name": "stdout",
     "output_type": "stream",
     "text": [
      "120\n"
     ]
    }
   ],
   "source": [
    "### multiplicatin\n",
    "ans2 = 1*2*3*4*5\n",
    "print(ans2)"
   ]
  },
  {
   "cell_type": "markdown",
   "metadata": {},
   "source": [
    "**Problem 3**: Divide 9 by 3.  Assign your solution to `ans3` below."
   ]
  },
  {
   "cell_type": "code",
   "execution_count": 3,
   "metadata": {},
   "outputs": [
    {
     "name": "stdout",
     "output_type": "stream",
     "text": [
      "3.0\n"
     ]
    }
   ],
   "source": [
    "### division\n",
    "ans3 = 9/3\n",
    "print(ans3)"
   ]
  },
  {
   "cell_type": "markdown",
   "metadata": {},
   "source": [
    "**Problem 4**: What is the remainder when 7 is divided by 3?  Use the `%` operator to determine this.  Assign your solution to `ans4` below."
   ]
  },
  {
   "cell_type": "code",
   "execution_count": 4,
   "metadata": {},
   "outputs": [
    {
     "name": "stdout",
     "output_type": "stream",
     "text": [
      "1\n"
     ]
    }
   ],
   "source": [
    "### modulus\n",
    "ans4 = 7%3\n",
    "print(ans4)"
   ]
  },
  {
   "cell_type": "markdown",
   "metadata": {},
   "source": [
    "**Problem 5**: What is the integer of the quotient when 12 is divided by 5?  Use the `//` operator to determine this.  Assign your solution to `ans5` below.\n"
   ]
  },
  {
   "cell_type": "code",
   "execution_count": 5,
   "metadata": {},
   "outputs": [
    {
     "name": "stdout",
     "output_type": "stream",
     "text": [
      "2\n"
     ]
    }
   ],
   "source": [
    "### floor\n",
    "ans5 = 12//5\n",
    "print(ans5)"
   ]
  },
  {
   "cell_type": "markdown",
   "metadata": {},
   "source": [
    "### Strings and their methods"
   ]
  },
  {
   "cell_type": "markdown",
   "metadata": {},
   "source": [
    "**Problem 6**: Create a string named `firstname` below with your first name.  "
   ]
  },
  {
   "cell_type": "code",
   "execution_count": 6,
   "metadata": {},
   "outputs": [
    {
     "name": "stdout",
     "output_type": "stream",
     "text": [
      "Lenny\n"
     ]
    }
   ],
   "source": [
    "### define a string\n",
    "firstname = 'Lenny'\n",
    "print(firstname)"
   ]
  },
  {
   "cell_type": "markdown",
   "metadata": {},
   "source": [
    "**Problem 7**:   Use the `.upper()` method to uppercase the string `firstname`. Assign your solution to `ans7` below."
   ]
  },
  {
   "cell_type": "code",
   "execution_count": 7,
   "metadata": {},
   "outputs": [
    {
     "name": "stdout",
     "output_type": "stream",
     "text": [
      "LENNY\n"
     ]
    }
   ],
   "source": [
    "### upper\n",
    "ans7 = firstname.upper()\n",
    "print(ans7)"
   ]
  },
  {
   "cell_type": "markdown",
   "metadata": {},
   "source": [
    "**Problem 8**: Below, the lyrics from the song Black Site by the American hardcore-punk band Ammo [discography](https://www.discogs.com/artist/6688148-Ammo-15).  Use the split method to split the lyrics and assign them to a variable `tokens`. "
   ]
  },
  {
   "cell_type": "code",
   "execution_count": 8,
   "metadata": {},
   "outputs": [
    {
     "data": {
      "text/plain": [
       "['Enhanced',\n",
       " 'interrogation',\n",
       " 'Secret',\n",
       " 'strangulation',\n",
       " 'Thirst',\n",
       " 'for',\n",
       " 'information',\n",
       " 'Human',\n",
       " 'ruination']"
      ]
     },
     "execution_count": 8,
     "metadata": {},
     "output_type": "execute_result"
    }
   ],
   "source": [
    "### split\n",
    "lyrics = '''\n",
    "Enhanced interrogation\n",
    "Secret strangulation\n",
    "Thirst for information\n",
    "Human ruination\n",
    "'''\n",
    "tokens = lyrics.split()\n",
    "tokens"
   ]
  },
  {
   "cell_type": "markdown",
   "metadata": {},
   "source": [
    "**Problem 9**: Use the list `tokens` to extract every other word from the lyrics and combine these to be a new string using the `.join()` function.  Assign your answer as `new_lyrics` below. "
   ]
  },
  {
   "cell_type": "code",
   "execution_count": 9,
   "metadata": {},
   "outputs": [
    {
     "name": "stdout",
     "output_type": "stream",
     "text": [
      "Enhanced Secret Thirst information ruination\n"
     ]
    }
   ],
   "source": [
    "### slice\n",
    "new_lyrics = ' '.join(tokens[::2])\n",
    "print(new_lyrics)"
   ]
  },
  {
   "cell_type": "markdown",
   "metadata": {},
   "source": [
    "### Lists\n",
    "\n",
    "The questions below focus on the use of [list](https://docs.python.org/3/tutorial/datastructures.html) objects. Also, they will introduce you to Ann Peebles song *Trouble, Heartaches, and Sadness* from the [album](https://www.discogs.com/master/137000-Ann-Peebles-Straight-From-The-Heart), whose lyrics are assigned to `trouble_heartaches_and_sadness` below. "
   ]
  },
  {
   "cell_type": "code",
   "execution_count": 10,
   "metadata": {},
   "outputs": [],
   "source": [
    "### create\n",
    "trouble_heartaches_and_sadness = '''\n",
    "Whoa\n",
    "Old man trouble\n",
    "Stop knockin' at my door\n",
    "You used to be a good friend of mine\n",
    "But you can't hang around me no more\n",
    "\n",
    "Heartache\n",
    "(heartache)\n",
    "Stop knockin' at my window\n",
    "I don't wanna hear what you have to say\n",
    "You can go join Mister Trouble\n",
    "And be on your merry way\n",
    "\n",
    "\n",
    "'Cause I've found the love\n",
    "I needed all the time\n",
    "I've found the love\n",
    "Help me ease my troubled mind\n",
    "\n",
    "Dark clouds\n",
    "Hanging over my head\n",
    "Aw, but this time\n",
    "Sure won't rain on me\n",
    "He's my sunshine\n",
    "And the love he gives\n",
    "Gonna set me free\n",
    "Yeah\n",
    "\n",
    "Mmm\n",
    "Sadness\n",
    "I have no more use for you\n",
    "I know you can easily\n",
    "Find you another friend\n",
    "Cos I've found someone\n",
    "To take away my trouble\n",
    "Bring my sadness to an end\n",
    "\n",
    "I've found the love\n",
    "I needed all the time\n",
    "I've found the love\n",
    "Help me ease my troubled mind\n",
    "'''"
   ]
  },
  {
   "cell_type": "markdown",
   "metadata": {},
   "source": [
    "**Problem 10**: Create a list of tokens from the lyrics and assign to the variable `peebles_lyrics` below.  Extract the last word of the lyrics and assign to `last_word`. "
   ]
  },
  {
   "cell_type": "code",
   "execution_count": 11,
   "metadata": {},
   "outputs": [
    {
     "name": "stdout",
     "output_type": "stream",
     "text": [
      "['Whoa', 'Old', 'man', 'trouble', 'Stop', \"knockin'\", 'at', 'my', 'door', 'You']\n",
      "mind\n"
     ]
    }
   ],
   "source": [
    "### index\n",
    "peebles_lyrics = trouble_heartaches_and_sadness.split()\n",
    "last_word = peebles_lyrics[-1]\n",
    "print(peebles_lyrics[:10])\n",
    "print(last_word)"
   ]
  },
  {
   "cell_type": "markdown",
   "metadata": {},
   "source": [
    "**Problem 11**: Use the list `peebles_lyrics` to determine the number of characters in the lyrics. Assign your results to `num_words` below."
   ]
  },
  {
   "cell_type": "code",
   "execution_count": 12,
   "metadata": {},
   "outputs": [
    {
     "data": {
      "text/plain": [
       "154"
      ]
     },
     "execution_count": 12,
     "metadata": {},
     "output_type": "execute_result"
    }
   ],
   "source": [
    "### length\n",
    "len(peebles_lyrics)"
   ]
  },
  {
   "cell_type": "markdown",
   "metadata": {},
   "source": [
    "**Problem 12**: There is a kind of collection that we didn't discuss in class -- that of a `set`.  Read the documentation [here](https://docs.python.org/3/tutorial/datastructures.html#sets), and create a set of words from `peebles_lyrics`.  Assign the length of this set to `num_unique_words` below."
   ]
  },
  {
   "cell_type": "code",
   "execution_count": 13,
   "metadata": {},
   "outputs": [],
   "source": [
    "### set\n",
    "num_unique_words = set(peebles_lyrics)"
   ]
  },
  {
   "cell_type": "markdown",
   "metadata": {},
   "source": [
    "**Problem 13**: One way to understand the notion of lexical diversity is as the percent of unique words in a text.  What is the lexical diversity of *Trouble, Heartaches, and Sadness*?  Assign your answer as `lexical_diversity` below."
   ]
  },
  {
   "cell_type": "code",
   "execution_count": 14,
   "metadata": {},
   "outputs": [
    {
     "name": "stdout",
     "output_type": "stream",
     "text": [
      "0.6103896103896104\n"
     ]
    }
   ],
   "source": [
    "### lexical diversity\n",
    "lexical_diversity = len(num_unique_words)/len(peebles_lyrics)\n",
    "print(lexical_diversity)"
   ]
  },
  {
   "cell_type": "markdown",
   "metadata": {},
   "source": [
    "**Problem 14**:  Perhaps you want to compare a different song and its lexical diversity.  For this, you are to create a function `lex_div` that takes in a string, and return the lexical diversity of that string.  Use the pseudocode to assist you in the function body."
   ]
  },
  {
   "cell_type": "code",
   "execution_count": 15,
   "metadata": {},
   "outputs": [],
   "source": [
    "### function\n",
    "def lex_div(lyrics_string):\n",
    "    '''\n",
    "    This function takes in a string\n",
    "    and returns the percent of unique words in \n",
    "    the string.\n",
    "    '''\n",
    "    ### create a list of lyrics\n",
    "    lyr = lyrics_string.split()\n",
    "    ### create a set of lyrics\n",
    "    unique = set(lyr)\n",
    "    ### return the quotient of appropriate lengths\n",
    "    return len(unique)/len(lyr)\n"
   ]
  },
  {
   "cell_type": "markdown",
   "metadata": {},
   "source": [
    "**Problem 15**: Use your function to compare the lexical diversity of *Troubles, Heartaches, and Sadness* to that of the [Drake]() single *Hotline Bling*, assigned to the variable `hotline_bling` below.  Use the `lex_div` function to determine the lexical diversity and decide if *Drake* or *Anne Peebles* song had a higher lexical diversity."
   ]
  },
  {
   "cell_type": "code",
   "execution_count": 16,
   "metadata": {},
   "outputs": [],
   "source": [
    "hotline_bling = '''\n",
    "You used to call me on my\n",
    "You used to, you used to\n",
    "Yeah\n",
    "\n",
    "You used to call me on my cell phone\n",
    "Late-night when you need my love\n",
    "Call me on my cell phone\n",
    "Late-night when you need my love\n",
    "And I know when that hotline bling\n",
    "That can only mean one thing\n",
    "I know when that hotline bling\n",
    "That can only mean one thing\n",
    "\n",
    "\n",
    "Ever since I left the city, you\n",
    "Got a reputation for yourself now\n",
    "Everybody knows and I feel left out\n",
    "Girl, you got me down, you got me stressed out\n",
    "'Cause ever since I left the city, you\n",
    "Started wearing less and goin' out more\n",
    "Glasses of champagne out on the dance floor\n",
    "Hangin' with some girls I never seen before\n",
    "\n",
    "\n",
    "You used to call me on my cell phone\n",
    "Late-night when you need my love\n",
    "Call me on my cell phone\n",
    "Late-night when you need my love\n",
    "I know when that hotline bling\n",
    "That can only mean one thing\n",
    "I know when that hotline bling\n",
    "That can only mean one thing\n",
    "\n",
    "\n",
    "Ever since I left the city, you, you, you\n",
    "You and me, we just don't get along\n",
    "You make me feel like I did you wrong\n",
    "Going places where you don't belong\n",
    "Ever since I left the city, you\n",
    "You got exactly what you asked for\n",
    "Running out of pages in your passport\n",
    "Hangin' with some girls I've never seen before\n",
    "'''"
   ]
  },
  {
   "cell_type": "code",
   "execution_count": 17,
   "metadata": {},
   "outputs": [
    {
     "name": "stdout",
     "output_type": "stream",
     "text": [
      "0.38493723849372385\n",
      "0.6103896103896104\n"
     ]
    }
   ],
   "source": [
    "print(lex_div(hotline_bling))\n",
    "print(lex_div(trouble_heartaches_and_sadness))"
   ]
  },
  {
   "cell_type": "markdown",
   "metadata": {},
   "source": [
    "**Problem 16**: Do you think this is a fair comparison?  Why or why not?  How might we improve this?"
   ]
  },
  {
   "cell_type": "code",
   "execution_count": 18,
   "metadata": {},
   "outputs": [],
   "source": [
    "#maybe, maybe because one song is longer than the other it makes more time for diversity"
   ]
  },
  {
   "cell_type": "markdown",
   "metadata": {},
   "source": [
    "### Dictionaries"
   ]
  },
  {
   "cell_type": "markdown",
   "metadata": {},
   "source": [
    "**Problem 17**: Create a dictionary with keys `heartache` and `hotline` with values as the string representation of the lyrics from the respective songs above.  Assign your solution to `lyrics_dict` below."
   ]
  },
  {
   "cell_type": "code",
   "execution_count": 19,
   "metadata": {},
   "outputs": [
    {
     "name": "stdout",
     "output_type": "stream",
     "text": [
      "dict_keys(['heartache', 'hotline'])\n"
     ]
    }
   ],
   "source": [
    "### create lyrics dictionary\n",
    "lyrics_dict = {'heartache': trouble_heartaches_and_sadness,\n",
    "              'hotline': hotline_bling}\n",
    "print(lyrics_dict.keys())"
   ]
  },
  {
   "cell_type": "markdown",
   "metadata": {},
   "source": [
    "**Problem 18**: Add a third entry to the dictionary using the [Band of Horses]() song *The Funeral* assigned to the string `the_funeral` below.  Use the key `funeral` to add these to `lyrics_dict`.  "
   ]
  },
  {
   "cell_type": "code",
   "execution_count": 20,
   "metadata": {},
   "outputs": [],
   "source": [
    "the_funeral = '''\n",
    "I'm coming up only to hold you under\n",
    "And coming up only to show you're wrong\n",
    "And to know you is hard, we wonder\n",
    "To know you all wrong, we were\n",
    "\n",
    "Ooh, ooh\n",
    "Ooh, ooh\n",
    "\n",
    "Really too late to call, so we wait for\n",
    "Morning to wake you is all we got\n",
    "But to know me as hardly golden\n",
    "Is to know me all wrong, they were\n",
    "\n",
    "At every occasion, I'll be ready for the funeral\n",
    "At every occasion once more, it's called the funeral\n",
    "At every occasion, oh, I'm ready for the funeral\n",
    "At every occasion of one billion day funeral\n",
    "\n",
    "I'm coming up only to you show you down for\n",
    "And coming up only to you show you're wrong\n",
    "To the outside, the dead leaves lay on the lawn\n",
    "'Fore they died, and had trees to hang there upon\n",
    "\n",
    "Ooh, ooh\n",
    "Ooh, ooh\n",
    "\n",
    "At every occasion, I'll be ready for the funeral\n",
    "At every occasion once more, it's called the funeral\n",
    "At every occasion, oh, I'm ready for the funeral\n",
    "At every occasion of one billion day funeral\n",
    "'''"
   ]
  },
  {
   "cell_type": "code",
   "execution_count": 21,
   "metadata": {},
   "outputs": [],
   "source": [
    "lyrics_dict['funeral'] = the_funeral"
   ]
  },
  {
   "cell_type": "markdown",
   "metadata": {},
   "source": [
    "**Problem 19**: Loop over the `lyrics_dict` and print the lexical diversity of each of the three songs.  "
   ]
  },
  {
   "cell_type": "code",
   "execution_count": 22,
   "metadata": {},
   "outputs": [
    {
     "name": "stdout",
     "output_type": "stream",
     "text": [
      "0.6103896103896104\n",
      "0.38493723849372385\n",
      "0.40555555555555556\n"
     ]
    }
   ],
   "source": [
    "### looping over dictionary\n",
    "for song in lyrics_dict:\n",
    "    print(lex_div(lyrics_dict[song]))"
   ]
  },
  {
   "cell_type": "markdown",
   "metadata": {},
   "source": [
    "**Problem 20**: Write a function `lexical_div_from_dict` that takes in a dictionary with keys that represent the song name and values that are the lyrics of the song -- like `lyrics_dict` -- and returns a dictionary of song names and their respective lexical diversity."
   ]
  },
  {
   "cell_type": "code",
   "execution_count": 23,
   "metadata": {},
   "outputs": [],
   "source": [
    "### lexical function for dictionaries\n",
    "def lexical_div_from_dict(lyrics_dict):\n",
    "    '''\n",
    "    The function accepts a dictionary of lyrics \n",
    "    --\n",
    "    (keys song name and values string of lyrics)\n",
    "    --\n",
    "    and returns a dictionary with the songs lexical diversity.\n",
    "    '''\n",
    "    ans = {}\n",
    "    for song in lyrics_dict:\n",
    "        ans[song] = lex_div(lyrics_dict[song])\n",
    "    return ans"
   ]
  },
  {
   "cell_type": "code",
   "execution_count": 24,
   "metadata": {},
   "outputs": [
    {
     "data": {
      "text/plain": [
       "{'heartache': 0.6103896103896104,\n",
       " 'hotline': 0.38493723849372385,\n",
       " 'funeral': 0.40555555555555556}"
      ]
     },
     "execution_count": 24,
     "metadata": {},
     "output_type": "execute_result"
    }
   ],
   "source": [
    "lexical_div_from_dict(lyrics_dict)"
   ]
  },
  {
   "cell_type": "markdown",
   "metadata": {},
   "source": [
    "### Loops"
   ]
  },
  {
   "cell_type": "markdown",
   "metadata": {},
   "source": [
    "**Problem 21**: Below, two lists are given to represent albums and reviews from the magazine *Pitchfork*.  Loop over each of these and print:\n",
    "\n",
    "```\n",
    "The album {album_name} by {artist} received a score of {review_score}\n",
    "```\n",
    "\n",
    "Be sure to use an f-string for this. \n",
    "\n",
    "**Hint**: You should use the `zip` function for this.  Checkout the documentation [here](https://docs.python.org/3/library/functions.html#zip)."
   ]
  },
  {
   "cell_type": "code",
   "execution_count": 25,
   "metadata": {},
   "outputs": [],
   "source": [
    "albums = ['God Did', 'Black Vladimir', 'Pulse of the Early Brain', '11:11']\n",
    "artists = ['DJ Khaled', 'Meyhem Lauren/Daringer', 'Stereolab', 'Regina Spektor']\n",
    "ratings = [4.0, 7.1, 6.6, 7.7]"
   ]
  },
  {
   "cell_type": "code",
   "execution_count": 26,
   "metadata": {},
   "outputs": [
    {
     "name": "stdout",
     "output_type": "stream",
     "text": [
      "The album God Did by DJ Khaled received a score of 4.0.\n",
      "The album Black Vladimir by Meyhem Lauren/Daringer received a score of 7.1.\n",
      "The album Pulse of the Early Brain by Stereolab received a score of 6.6.\n",
      "The album 11:11 by Regina Spektor received a score of 7.7.\n"
     ]
    }
   ],
   "source": [
    "### loop over lists and print\n",
    "for album, artist, rating in zip(albums, artists, ratings):\n",
    "    print(f'The album {album} by {artist} received a score of {rating}.')\n"
   ]
  },
  {
   "cell_type": "markdown",
   "metadata": {},
   "source": [
    "### Functions\n",
    "\n",
    "The problems below review functions."
   ]
  },
  {
   "cell_type": "markdown",
   "metadata": {},
   "source": [
    "**Problem 22**: Write a function that takes in a number n and returns the sum of the numbers 1 through n."
   ]
  },
  {
   "cell_type": "code",
   "execution_count": 27,
   "metadata": {},
   "outputs": [
    {
     "data": {
      "text/plain": [
       "210"
      ]
     },
     "execution_count": 27,
     "metadata": {},
     "output_type": "execute_result"
    }
   ],
   "source": [
    "def adder(n):\n",
    "    return sum(range(n+1))\n",
    "\n",
    "adder(20)"
   ]
  },
  {
   "cell_type": "markdown",
   "metadata": {},
   "source": [
    "**Problem 23**: Write a function that takes a number (a person's height) and returns \"Tall enough\" if they are at least 5 feet (60 inches) or \"Too short\" if they are below 5 feet.\n",
    "\n",
    "- Example: `is_tall(72) => \"Tall enough\"`\n",
    "- Example: `is_tall(52) => \"Too short\"`"
   ]
  },
  {
   "cell_type": "code",
   "execution_count": 28,
   "metadata": {},
   "outputs": [],
   "source": [
    "def is_tall(height):\n",
    "    if height > 60:\n",
    "        return \"Tall Enough\"\n",
    "    return \"Too short\""
   ]
  },
  {
   "cell_type": "code",
   "execution_count": 29,
   "metadata": {},
   "outputs": [
    {
     "data": {
      "text/plain": [
       "'Tall Enough'"
      ]
     },
     "execution_count": 29,
     "metadata": {},
     "output_type": "execute_result"
    }
   ],
   "source": [
    "is_tall(72)"
   ]
  },
  {
   "cell_type": "code",
   "execution_count": 30,
   "metadata": {},
   "outputs": [
    {
     "data": {
      "text/plain": [
       "'Too short'"
      ]
     },
     "execution_count": 30,
     "metadata": {},
     "output_type": "execute_result"
    }
   ],
   "source": [
    "is_tall(52)"
   ]
  },
  {
   "cell_type": "markdown",
   "metadata": {},
   "source": [
    "**Problem 24**: Write a function that takes in a numeric grade (0 to 100) and returns the letter grade (no pluses or minuses). In a traditional rubric, that would be as follows:\n",
    "\n",
    "- 90 or above = A\n",
    "- 80 - 89 = B\n",
    "- 70 - 79 = C\n",
    "- 60 - 69 = D\n",
    "- 59 or below = F\n",
    "\n",
    "Example: `letter_grade(85) => \"B\"`"
   ]
  },
  {
   "cell_type": "code",
   "execution_count": 31,
   "metadata": {},
   "outputs": [
    {
     "data": {
      "text/plain": [
       "'B'"
      ]
     },
     "execution_count": 31,
     "metadata": {},
     "output_type": "execute_result"
    }
   ],
   "source": [
    "def letter_grade(grade):\n",
    "    if grade >= 90:\n",
    "        return \"A\"\n",
    "    elif grade >= 80:\n",
    "        return \"B\"\n",
    "    elif grade >= 70:\n",
    "        return \"C\"\n",
    "    elif grade >= 60:\n",
    "        return \"D\"\n",
    "    else:\n",
    "        return \"F\"\n",
    "    \n",
    "letter_grade(85)"
   ]
  },
  {
   "cell_type": "markdown",
   "metadata": {},
   "source": [
    "**Problem 25**: Write a function that takes in a string and returns that string with its vowels removed.\n",
    "\n",
    "Example: `disemvowel(\"Python is my favorite language\") => \"Pythn s my fvrt lngg\"`"
   ]
  },
  {
   "cell_type": "code",
   "execution_count": 32,
   "metadata": {},
   "outputs": [
    {
     "data": {
      "text/plain": [
       "'Pythn s my fvrt lngg'"
      ]
     },
     "execution_count": 32,
     "metadata": {},
     "output_type": "execute_result"
    }
   ],
   "source": [
    "def disemvowel(sent):\n",
    "    new_string = ''\n",
    "    vowels = ('a', 'e', 'i', 'o', 'u')\n",
    "    for letter in sent:\n",
    "        if letter.lower() not in vowels:\n",
    "            new_string += letter\n",
    "    return new_string\n",
    "\n",
    "disemvowel(\"Python is my favorite language\")"
   ]
  },
  {
   "cell_type": "markdown",
   "metadata": {},
   "source": [
    "### Further Problems\n",
    "\n",
    "One great resource for practice are sites like [code wars](https://www.codewars.com/).  They have problems organized by difficulty in *Kata*'s.  Head over to code wars and get set up to practice.  Explore some different problems and locate two that you understand and are able to solve.  State the problems and their solutions below."
   ]
  },
  {
   "cell_type": "markdown",
   "metadata": {},
   "source": [
    "**Problem 26**:  Code Wars Problem I"
   ]
  },
  {
   "cell_type": "code",
   "execution_count": null,
   "metadata": {},
   "outputs": [],
   "source": []
  },
  {
   "cell_type": "markdown",
   "metadata": {},
   "source": [
    "**Problem 27**: Code Wars Problem II"
   ]
  },
  {
   "cell_type": "code",
   "execution_count": null,
   "metadata": {},
   "outputs": [],
   "source": []
  }
 ],
 "metadata": {
  "kernelspec": {
   "display_name": "Python 3",
   "language": "python",
   "name": "python3"
  },
  "language_info": {
   "codemirror_mode": {
    "name": "ipython",
    "version": 3
   },
   "file_extension": ".py",
   "mimetype": "text/x-python",
   "name": "python",
   "nbconvert_exporter": "python",
   "pygments_lexer": "ipython3",
   "version": "3.12.0"
  }
 },
 "nbformat": 4,
 "nbformat_minor": 4
}
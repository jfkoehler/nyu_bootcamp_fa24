{
  "nbformat": 4,
  "nbformat_minor": 0,
  "metadata": {
    "colab": {
      "provenance": []
    },
    "kernelspec": {
      "name": "python3",
      "display_name": "Python 3"
    },
    "language_info": {
      "name": "python"
    }
  },
  "cells": [
    {
      "cell_type": "markdown",
      "source": [
        "# Text Classification and Recurrent Neural Networks\n",
        "\n"
      ],
      "metadata": {
        "id": "kkMGC5qF6_Bw"
      }
    },
    {
      "cell_type": "code",
      "source": [
        "import numpy as np\n",
        "import pandas as pd\n",
        "import matplotlib.pyplot as plt\n",
        "import seaborn as sns"
      ],
      "metadata": {
        "id": "6p825gZz1pky"
      },
      "execution_count": null,
      "outputs": []
    },
    {
      "cell_type": "code",
      "source": [
        "pip install datasets"
      ],
      "metadata": {
        "id": "1V3dAQ5T1ph8"
      },
      "execution_count": null,
      "outputs": []
    },
    {
      "cell_type": "code",
      "source": [
        "from datasets import load_dataset\n",
        "\n",
        "ds = load_dataset(\"Paul/hatecheck\")"
      ],
      "metadata": {
        "id": "Var0y0mO1pf8"
      },
      "execution_count": null,
      "outputs": []
    },
    {
      "cell_type": "code",
      "source": [
        "df = ds['test'].to_pandas()"
      ],
      "metadata": {
        "id": "JCgkDaBR1pcs"
      },
      "execution_count": null,
      "outputs": []
    },
    {
      "cell_type": "code",
      "source": [
        "df['test_case'].head()"
      ],
      "metadata": {
        "id": "0rGV2gGr1pZ-"
      },
      "execution_count": null,
      "outputs": []
    },
    {
      "cell_type": "code",
      "source": [
        "df['label_gold'].value_counts()"
      ],
      "metadata": {
        "id": "CyvCAU_w1pXg"
      },
      "execution_count": null,
      "outputs": []
    },
    {
      "cell_type": "markdown",
      "source": [
        "### Encoding the Text\n",
        "\n"
      ],
      "metadata": {
        "id": "-JeOT3Un2JnL"
      }
    },
    {
      "cell_type": "code",
      "source": [
        "from sklearn.feature_extraction.text import CountVectorizer"
      ],
      "metadata": {
        "id": "xC5Dl3xX1pVX"
      },
      "execution_count": 1,
      "outputs": []
    },
    {
      "cell_type": "code",
      "source": [
        "cvect = CountVectorizer()"
      ],
      "metadata": {
        "id": "8l-hCCFo1pTL"
      },
      "execution_count": null,
      "outputs": []
    },
    {
      "cell_type": "code",
      "source": [
        "dtm = cvect.fit_transform(df['test_case'])"
      ],
      "metadata": {
        "id": "X4Kkp-7W1pQT"
      },
      "execution_count": null,
      "outputs": []
    },
    {
      "cell_type": "code",
      "source": [
        "pd.DataFrame(dtm.toarray(), columns=cvect.get_feature_names_out()).head()"
      ],
      "metadata": {
        "id": "GUAyYobT2ttp"
      },
      "execution_count": null,
      "outputs": []
    },
    {
      "cell_type": "code",
      "source": [
        "X = dtm\n",
        "y = df['label_gold']"
      ],
      "metadata": {
        "id": "xP_yzIBC1pNS"
      },
      "execution_count": null,
      "outputs": []
    },
    {
      "cell_type": "markdown",
      "source": [
        "### Problem\n",
        "\n",
        "Split the data and build a random forest classifier on the training data.  Compare the train and test scores.  \n",
        "\n",
        "- What words were most important in making the classifications?\n",
        "- What elements of the CountVectorizer might you change or grid search to attempt to improve your model?"
      ],
      "metadata": {
        "id": "CrZ7TjOH2Zak"
      }
    },
    {
      "cell_type": "code",
      "source": [],
      "metadata": {
        "id": "QjOyryQn2ZIB"
      },
      "execution_count": null,
      "outputs": []
    },
    {
      "cell_type": "code",
      "source": [],
      "metadata": {
        "id": "fl7NA5Ek2ZE6"
      },
      "execution_count": null,
      "outputs": []
    },
    {
      "cell_type": "code",
      "source": [],
      "metadata": {
        "id": "uwZqNLIv2ZBy"
      },
      "execution_count": null,
      "outputs": []
    },
    {
      "cell_type": "code",
      "source": [],
      "metadata": {
        "id": "n937sewV2Y-d"
      },
      "execution_count": null,
      "outputs": []
    },
    {
      "cell_type": "code",
      "source": [],
      "metadata": {
        "id": "p9kzCXAQ2Y7Z"
      },
      "execution_count": null,
      "outputs": []
    },
    {
      "cell_type": "code",
      "source": [],
      "metadata": {
        "id": "jYVIyq1m2Y4h"
      },
      "execution_count": null,
      "outputs": []
    },
    {
      "cell_type": "markdown",
      "source": [
        "# Text Classification with Neural Networks"
      ],
      "metadata": {
        "id": "5SQWyog0AAOZ"
      }
    },
    {
      "cell_type": "code",
      "execution_count": null,
      "metadata": {
        "id": "e0uc39GMhd70"
      },
      "outputs": [],
      "source": [
        "import torch\n",
        "import torch.nn as nn\n",
        "import torch.optim as optim\n",
        "from torch.utils.data import Dataset, DataLoader\n",
        "\n",
        "import numpy as np\n",
        "import pandas as pd"
      ]
    },
    {
      "cell_type": "code",
      "source": [
        "import tensorflow as tf\n",
        "from tensorflow.keras.preprocessing.text import Tokenizer\n",
        "from tensorflow.keras.preprocessing.sequence import pad_sequences"
      ],
      "metadata": {
        "id": "liI1vRV8hg2F"
      },
      "execution_count": null,
      "outputs": []
    },
    {
      "cell_type": "markdown",
      "source": [
        "#### Classifying Spam"
      ],
      "metadata": {
        "id": "uAI5zZVn8Cp1"
      }
    },
    {
      "cell_type": "code",
      "source": [
        "#read in data\n",
        "spam = pd.read_csv('sms_spam.csv')"
      ],
      "metadata": {
        "id": "c7ifGrEZhkoD"
      },
      "execution_count": null,
      "outputs": []
    },
    {
      "cell_type": "code",
      "source": [
        "#take a peek\n",
        "spam.head()"
      ],
      "metadata": {
        "colab": {
          "base_uri": "https://localhost:8080/",
          "height": 206
        },
        "id": "X_Qo7jH1hmeZ",
        "outputId": "abd21b76-0e39-4042-ee1e-3262aa456a73"
      },
      "execution_count": null,
      "outputs": [
        {
          "output_type": "execute_result",
          "data": {
            "text/plain": [
              "   type                                               text\n",
              "0   ham  Hope you are having a good week. Just checking in\n",
              "1   ham                            K..give back my thanks.\n",
              "2   ham        Am also doing in cbe only. But have to pay.\n",
              "3  spam  complimentary 4 STAR Ibiza Holiday or £10,000 ...\n",
              "4  spam  okmail: Dear Dave this is your final notice to..."
            ],
            "text/html": [
              "\n",
              "  <div id=\"df-d6fda6c5-c00c-4c56-8b0e-065659d2f36b\" class=\"colab-df-container\">\n",
              "    <div>\n",
              "<style scoped>\n",
              "    .dataframe tbody tr th:only-of-type {\n",
              "        vertical-align: middle;\n",
              "    }\n",
              "\n",
              "    .dataframe tbody tr th {\n",
              "        vertical-align: top;\n",
              "    }\n",
              "\n",
              "    .dataframe thead th {\n",
              "        text-align: right;\n",
              "    }\n",
              "</style>\n",
              "<table border=\"1\" class=\"dataframe\">\n",
              "  <thead>\n",
              "    <tr style=\"text-align: right;\">\n",
              "      <th></th>\n",
              "      <th>type</th>\n",
              "      <th>text</th>\n",
              "    </tr>\n",
              "  </thead>\n",
              "  <tbody>\n",
              "    <tr>\n",
              "      <th>0</th>\n",
              "      <td>ham</td>\n",
              "      <td>Hope you are having a good week. Just checking in</td>\n",
              "    </tr>\n",
              "    <tr>\n",
              "      <th>1</th>\n",
              "      <td>ham</td>\n",
              "      <td>K..give back my thanks.</td>\n",
              "    </tr>\n",
              "    <tr>\n",
              "      <th>2</th>\n",
              "      <td>ham</td>\n",
              "      <td>Am also doing in cbe only. But have to pay.</td>\n",
              "    </tr>\n",
              "    <tr>\n",
              "      <th>3</th>\n",
              "      <td>spam</td>\n",
              "      <td>complimentary 4 STAR Ibiza Holiday or £10,000 ...</td>\n",
              "    </tr>\n",
              "    <tr>\n",
              "      <th>4</th>\n",
              "      <td>spam</td>\n",
              "      <td>okmail: Dear Dave this is your final notice to...</td>\n",
              "    </tr>\n",
              "  </tbody>\n",
              "</table>\n",
              "</div>\n",
              "    <div class=\"colab-df-buttons\">\n",
              "\n",
              "  <div class=\"colab-df-container\">\n",
              "    <button class=\"colab-df-convert\" onclick=\"convertToInteractive('df-d6fda6c5-c00c-4c56-8b0e-065659d2f36b')\"\n",
              "            title=\"Convert this dataframe to an interactive table.\"\n",
              "            style=\"display:none;\">\n",
              "\n",
              "  <svg xmlns=\"http://www.w3.org/2000/svg\" height=\"24px\" viewBox=\"0 -960 960 960\">\n",
              "    <path d=\"M120-120v-720h720v720H120Zm60-500h600v-160H180v160Zm220 220h160v-160H400v160Zm0 220h160v-160H400v160ZM180-400h160v-160H180v160Zm440 0h160v-160H620v160ZM180-180h160v-160H180v160Zm440 0h160v-160H620v160Z\"/>\n",
              "  </svg>\n",
              "    </button>\n",
              "\n",
              "  <style>\n",
              "    .colab-df-container {\n",
              "      display:flex;\n",
              "      gap: 12px;\n",
              "    }\n",
              "\n",
              "    .colab-df-convert {\n",
              "      background-color: #E8F0FE;\n",
              "      border: none;\n",
              "      border-radius: 50%;\n",
              "      cursor: pointer;\n",
              "      display: none;\n",
              "      fill: #1967D2;\n",
              "      height: 32px;\n",
              "      padding: 0 0 0 0;\n",
              "      width: 32px;\n",
              "    }\n",
              "\n",
              "    .colab-df-convert:hover {\n",
              "      background-color: #E2EBFA;\n",
              "      box-shadow: 0px 1px 2px rgba(60, 64, 67, 0.3), 0px 1px 3px 1px rgba(60, 64, 67, 0.15);\n",
              "      fill: #174EA6;\n",
              "    }\n",
              "\n",
              "    .colab-df-buttons div {\n",
              "      margin-bottom: 4px;\n",
              "    }\n",
              "\n",
              "    [theme=dark] .colab-df-convert {\n",
              "      background-color: #3B4455;\n",
              "      fill: #D2E3FC;\n",
              "    }\n",
              "\n",
              "    [theme=dark] .colab-df-convert:hover {\n",
              "      background-color: #434B5C;\n",
              "      box-shadow: 0px 1px 3px 1px rgba(0, 0, 0, 0.15);\n",
              "      filter: drop-shadow(0px 1px 2px rgba(0, 0, 0, 0.3));\n",
              "      fill: #FFFFFF;\n",
              "    }\n",
              "  </style>\n",
              "\n",
              "    <script>\n",
              "      const buttonEl =\n",
              "        document.querySelector('#df-d6fda6c5-c00c-4c56-8b0e-065659d2f36b button.colab-df-convert');\n",
              "      buttonEl.style.display =\n",
              "        google.colab.kernel.accessAllowed ? 'block' : 'none';\n",
              "\n",
              "      async function convertToInteractive(key) {\n",
              "        const element = document.querySelector('#df-d6fda6c5-c00c-4c56-8b0e-065659d2f36b');\n",
              "        const dataTable =\n",
              "          await google.colab.kernel.invokeFunction('convertToInteractive',\n",
              "                                                    [key], {});\n",
              "        if (!dataTable) return;\n",
              "\n",
              "        const docLinkHtml = 'Like what you see? Visit the ' +\n",
              "          '<a target=\"_blank\" href=https://colab.research.google.com/notebooks/data_table.ipynb>data table notebook</a>'\n",
              "          + ' to learn more about interactive tables.';\n",
              "        element.innerHTML = '';\n",
              "        dataTable['output_type'] = 'display_data';\n",
              "        await google.colab.output.renderOutput(dataTable, element);\n",
              "        const docLink = document.createElement('div');\n",
              "        docLink.innerHTML = docLinkHtml;\n",
              "        element.appendChild(docLink);\n",
              "      }\n",
              "    </script>\n",
              "  </div>\n",
              "\n",
              "\n",
              "<div id=\"df-16e822ff-56ca-4d15-82d6-75a866912738\">\n",
              "  <button class=\"colab-df-quickchart\" onclick=\"quickchart('df-16e822ff-56ca-4d15-82d6-75a866912738')\"\n",
              "            title=\"Suggest charts\"\n",
              "            style=\"display:none;\">\n",
              "\n",
              "<svg xmlns=\"http://www.w3.org/2000/svg\" height=\"24px\"viewBox=\"0 0 24 24\"\n",
              "     width=\"24px\">\n",
              "    <g>\n",
              "        <path d=\"M19 3H5c-1.1 0-2 .9-2 2v14c0 1.1.9 2 2 2h14c1.1 0 2-.9 2-2V5c0-1.1-.9-2-2-2zM9 17H7v-7h2v7zm4 0h-2V7h2v10zm4 0h-2v-4h2v4z\"/>\n",
              "    </g>\n",
              "</svg>\n",
              "  </button>\n",
              "\n",
              "<style>\n",
              "  .colab-df-quickchart {\n",
              "      --bg-color: #E8F0FE;\n",
              "      --fill-color: #1967D2;\n",
              "      --hover-bg-color: #E2EBFA;\n",
              "      --hover-fill-color: #174EA6;\n",
              "      --disabled-fill-color: #AAA;\n",
              "      --disabled-bg-color: #DDD;\n",
              "  }\n",
              "\n",
              "  [theme=dark] .colab-df-quickchart {\n",
              "      --bg-color: #3B4455;\n",
              "      --fill-color: #D2E3FC;\n",
              "      --hover-bg-color: #434B5C;\n",
              "      --hover-fill-color: #FFFFFF;\n",
              "      --disabled-bg-color: #3B4455;\n",
              "      --disabled-fill-color: #666;\n",
              "  }\n",
              "\n",
              "  .colab-df-quickchart {\n",
              "    background-color: var(--bg-color);\n",
              "    border: none;\n",
              "    border-radius: 50%;\n",
              "    cursor: pointer;\n",
              "    display: none;\n",
              "    fill: var(--fill-color);\n",
              "    height: 32px;\n",
              "    padding: 0;\n",
              "    width: 32px;\n",
              "  }\n",
              "\n",
              "  .colab-df-quickchart:hover {\n",
              "    background-color: var(--hover-bg-color);\n",
              "    box-shadow: 0 1px 2px rgba(60, 64, 67, 0.3), 0 1px 3px 1px rgba(60, 64, 67, 0.15);\n",
              "    fill: var(--button-hover-fill-color);\n",
              "  }\n",
              "\n",
              "  .colab-df-quickchart-complete:disabled,\n",
              "  .colab-df-quickchart-complete:disabled:hover {\n",
              "    background-color: var(--disabled-bg-color);\n",
              "    fill: var(--disabled-fill-color);\n",
              "    box-shadow: none;\n",
              "  }\n",
              "\n",
              "  .colab-df-spinner {\n",
              "    border: 2px solid var(--fill-color);\n",
              "    border-color: transparent;\n",
              "    border-bottom-color: var(--fill-color);\n",
              "    animation:\n",
              "      spin 1s steps(1) infinite;\n",
              "  }\n",
              "\n",
              "  @keyframes spin {\n",
              "    0% {\n",
              "      border-color: transparent;\n",
              "      border-bottom-color: var(--fill-color);\n",
              "      border-left-color: var(--fill-color);\n",
              "    }\n",
              "    20% {\n",
              "      border-color: transparent;\n",
              "      border-left-color: var(--fill-color);\n",
              "      border-top-color: var(--fill-color);\n",
              "    }\n",
              "    30% {\n",
              "      border-color: transparent;\n",
              "      border-left-color: var(--fill-color);\n",
              "      border-top-color: var(--fill-color);\n",
              "      border-right-color: var(--fill-color);\n",
              "    }\n",
              "    40% {\n",
              "      border-color: transparent;\n",
              "      border-right-color: var(--fill-color);\n",
              "      border-top-color: var(--fill-color);\n",
              "    }\n",
              "    60% {\n",
              "      border-color: transparent;\n",
              "      border-right-color: var(--fill-color);\n",
              "    }\n",
              "    80% {\n",
              "      border-color: transparent;\n",
              "      border-right-color: var(--fill-color);\n",
              "      border-bottom-color: var(--fill-color);\n",
              "    }\n",
              "    90% {\n",
              "      border-color: transparent;\n",
              "      border-bottom-color: var(--fill-color);\n",
              "    }\n",
              "  }\n",
              "</style>\n",
              "\n",
              "  <script>\n",
              "    async function quickchart(key) {\n",
              "      const quickchartButtonEl =\n",
              "        document.querySelector('#' + key + ' button');\n",
              "      quickchartButtonEl.disabled = true;  // To prevent multiple clicks.\n",
              "      quickchartButtonEl.classList.add('colab-df-spinner');\n",
              "      try {\n",
              "        const charts = await google.colab.kernel.invokeFunction(\n",
              "            'suggestCharts', [key], {});\n",
              "      } catch (error) {\n",
              "        console.error('Error during call to suggestCharts:', error);\n",
              "      }\n",
              "      quickchartButtonEl.classList.remove('colab-df-spinner');\n",
              "      quickchartButtonEl.classList.add('colab-df-quickchart-complete');\n",
              "    }\n",
              "    (() => {\n",
              "      let quickchartButtonEl =\n",
              "        document.querySelector('#df-16e822ff-56ca-4d15-82d6-75a866912738 button');\n",
              "      quickchartButtonEl.style.display =\n",
              "        google.colab.kernel.accessAllowed ? 'block' : 'none';\n",
              "    })();\n",
              "  </script>\n",
              "</div>\n",
              "\n",
              "    </div>\n",
              "  </div>\n"
            ],
            "application/vnd.google.colaboratory.intrinsic+json": {
              "type": "dataframe",
              "variable_name": "spam",
              "summary": "{\n  \"name\": \"spam\",\n  \"rows\": 5559,\n  \"fields\": [\n    {\n      \"column\": \"type\",\n      \"properties\": {\n        \"dtype\": \"category\",\n        \"num_unique_values\": 2,\n        \"samples\": [\n          \"spam\",\n          \"ham\"\n        ],\n        \"semantic_type\": \"\",\n        \"description\": \"\"\n      }\n    },\n    {\n      \"column\": \"text\",\n      \"properties\": {\n        \"dtype\": \"string\",\n        \"num_unique_values\": 5156,\n        \"samples\": [\n          \"Thnx dude. u guys out 2nite?\",\n          \"How i noe... She's in da car now... Later then c lar... I'm wearing shorts...\"\n        ],\n        \"semantic_type\": \"\",\n        \"description\": \"\"\n      }\n    }\n  ]\n}"
            }
          },
          "metadata": {},
          "execution_count": 4
        }
      ]
    },
    {
      "cell_type": "code",
      "source": [
        "#create a tokenizer\n",
        "tokenizer = Tokenizer(num_words = 500)"
      ],
      "metadata": {
        "id": "XOqnZA90i0vQ"
      },
      "execution_count": null,
      "outputs": []
    },
    {
      "cell_type": "code",
      "source": [
        "#fit the tokenizer\n",
        "tokenizer.fit_on_texts(spam['text'].values)"
      ],
      "metadata": {
        "id": "XUWmDd-ik7MK"
      },
      "execution_count": null,
      "outputs": []
    },
    {
      "cell_type": "code",
      "source": [
        "#look at tokenizer\n",
        "tokenizer.num_words"
      ],
      "metadata": {
        "id": "30pDdCd1sfsq",
        "colab": {
          "base_uri": "https://localhost:8080/"
        },
        "outputId": "0bcf807e-75ff-460e-dddb-7a2e80740d4d"
      },
      "execution_count": null,
      "outputs": [
        {
          "output_type": "execute_result",
          "data": {
            "text/plain": [
              "500"
            ]
          },
          "metadata": {},
          "execution_count": 7
        }
      ]
    },
    {
      "cell_type": "code",
      "source": [
        "#create document term matrix (binarized)\n",
        "dtm = tokenizer.texts_to_matrix(spam['text'].values)"
      ],
      "metadata": {
        "id": "ZIs8UShtsfpg"
      },
      "execution_count": null,
      "outputs": []
    },
    {
      "cell_type": "code",
      "source": [
        "#take a peek\n",
        "dtm"
      ],
      "metadata": {
        "colab": {
          "base_uri": "https://localhost:8080/"
        },
        "id": "bJc6IxLe8cea",
        "outputId": "025f7fa7-d00b-4d60-cbc3-cb1fbddf2533"
      },
      "execution_count": null,
      "outputs": [
        {
          "output_type": "execute_result",
          "data": {
            "text/plain": [
              "array([[0., 0., 0., ..., 0., 0., 0.],\n",
              "       [0., 0., 0., ..., 0., 0., 0.],\n",
              "       [0., 0., 1., ..., 0., 0., 0.],\n",
              "       ...,\n",
              "       [0., 0., 1., ..., 0., 0., 0.],\n",
              "       [0., 0., 0., ..., 0., 0., 0.],\n",
              "       [0., 0., 0., ..., 0., 0., 0.]])"
            ]
          },
          "metadata": {},
          "execution_count": 9
        }
      ]
    },
    {
      "cell_type": "code",
      "source": [
        "spam['text'][2]"
      ],
      "metadata": {
        "colab": {
          "base_uri": "https://localhost:8080/",
          "height": 35
        },
        "id": "Q_WhuHe2CTPz",
        "outputId": "5cd43d63-75f0-49ea-8b94-4cee36283aa7"
      },
      "execution_count": null,
      "outputs": [
        {
          "output_type": "execute_result",
          "data": {
            "text/plain": [
              "'Am also doing in cbe only. But have to pay.'"
            ],
            "application/vnd.google.colaboratory.intrinsic+json": {
              "type": "string"
            }
          },
          "metadata": {},
          "execution_count": 10
        }
      ]
    },
    {
      "cell_type": "code",
      "source": [
        "class TextDataset(Dataset):\n",
        "  def __init__(self, X, y):\n",
        "    super().__init__()\n",
        "    self.x = torch.tensor(X, dtype = torch.float)\n",
        "    self.y = torch.tensor(y, dtype = torch.float)\n",
        "\n",
        "  def __len__(self):\n",
        "    return len(self.y)\n",
        "\n",
        "  def __getitem__(self, idx):\n",
        "    return self.x[idx], self.y[idx]"
      ],
      "metadata": {
        "id": "ARFZcDfPCNnR"
      },
      "execution_count": null,
      "outputs": []
    },
    {
      "cell_type": "code",
      "source": [
        "X = dtm\n",
        "y = np.where(spam['type'] == 'ham', 0, 1)"
      ],
      "metadata": {
        "id": "iDtzLOGbDvwQ"
      },
      "execution_count": null,
      "outputs": []
    },
    {
      "cell_type": "code",
      "source": [
        "from sklearn.model_selection import train_test_split"
      ],
      "metadata": {
        "id": "sK-ekzymqkc3"
      },
      "execution_count": null,
      "outputs": []
    },
    {
      "cell_type": "code",
      "source": [
        "X_train, X_test, y_train, y_test = train_test_split(X, y, test_size=.2)"
      ],
      "metadata": {
        "id": "aszcYuSVqkVo"
      },
      "execution_count": null,
      "outputs": []
    },
    {
      "cell_type": "code",
      "source": [
        "X_train"
      ],
      "metadata": {
        "colab": {
          "base_uri": "https://localhost:8080/"
        },
        "id": "JzIechzNqkR1",
        "outputId": "9e9c2d24-86eb-4463-c45c-9849ad9be859"
      },
      "execution_count": null,
      "outputs": [
        {
          "output_type": "execute_result",
          "data": {
            "text/plain": [
              "array([[0., 1., 0., ..., 1., 0., 0.],\n",
              "       [0., 0., 0., ..., 0., 0., 0.],\n",
              "       [0., 0., 0., ..., 0., 0., 0.],\n",
              "       ...,\n",
              "       [0., 0., 0., ..., 0., 0., 0.],\n",
              "       [0., 0., 0., ..., 0., 0., 0.],\n",
              "       [0., 0., 1., ..., 0., 0., 0.]])"
            ]
          },
          "metadata": {},
          "execution_count": 15
        }
      ]
    },
    {
      "cell_type": "code",
      "source": [],
      "metadata": {
        "id": "P3kirParqkNg"
      },
      "execution_count": null,
      "outputs": []
    },
    {
      "cell_type": "code",
      "source": [
        "#create data class\n",
        "train_dataset = TextDataset(X_train, y_train)\n",
        "test_dataset = TextDataset(X_test, y_test)"
      ],
      "metadata": {
        "id": "T5qkcKgO8et8"
      },
      "execution_count": null,
      "outputs": []
    },
    {
      "cell_type": "code",
      "source": [
        "#dataset and loader\n",
        "trainloader = DataLoader(train_dataset, batch_size = 32)\n",
        "#dataset and loader\n",
        "testloader = DataLoader(test_dataset, batch_size = 32)"
      ],
      "metadata": {
        "id": "MYZ6Jbws8eqS"
      },
      "execution_count": null,
      "outputs": []
    },
    {
      "cell_type": "code",
      "source": [
        "#loss and optimizer\n",
        "class TextModel(nn.Module):\n",
        "  def __init__(self):\n",
        "    super().__init__()\n",
        "    self.lin1 = nn.Linear(in_features = 500, out_features = 100)\n",
        "    self.lin2 = nn.Linear(100, 100)\n",
        "    self.lin3 = nn.Linear(100, 1)\n",
        "    self.sigmoid = nn.Sigmoid()\n",
        "    self.act = nn.ReLU()\n",
        "\n",
        "  def forward(self, x):\n",
        "    x = self.act(self.lin1(x))\n",
        "    x = self.act(self.lin2(x))\n",
        "    return self.sigmoid(self.lin3(x))\n",
        "\n",
        "\n"
      ],
      "metadata": {
        "id": "bpsixqUc8emJ"
      },
      "execution_count": null,
      "outputs": []
    },
    {
      "cell_type": "code",
      "source": [
        "#training function\n",
        "model = TextModel()\n",
        "optimizer = optim.Adam(model.parameters(), lr = 0.01)\n",
        "loss_fn = nn.BCELoss()"
      ],
      "metadata": {
        "id": "4h0spe_p8eie"
      },
      "execution_count": null,
      "outputs": []
    },
    {
      "cell_type": "code",
      "source": [
        "#evaluate\n",
        "for epoch in range(100):\n",
        "  losses = 0\n",
        "  for x,y in trainloader:\n",
        "    yhat = model(x)\n",
        "    y = y.reshape(-1, 1)\n",
        "    loss = loss_fn(yhat, y)\n",
        "    optimizer.zero_grad()\n",
        "    loss.backward()\n",
        "    optimizer.step()\n",
        "    losses += loss.item()\n",
        "  if epoch % 10 == 0:\n",
        "    print(f'Epoch {epoch} Loss: {losses}')"
      ],
      "metadata": {
        "colab": {
          "base_uri": "https://localhost:8080/"
        },
        "id": "qXpxaYe88ece",
        "outputId": "bae31b17-ee29-497d-b3dd-b21f7db6541d"
      },
      "execution_count": null,
      "outputs": [
        {
          "output_type": "stream",
          "name": "stdout",
          "text": [
            "Epoch 0 Loss: 17.463785945263226\n",
            "Epoch 10 Loss: 0.3230317887267802\n",
            "Epoch 20 Loss: 0.1858880319979619\n",
            "Epoch 30 Loss: 0.18419960872658825\n",
            "Epoch 40 Loss: 0.19837459240657174\n",
            "Epoch 50 Loss: 0.18659224085559767\n",
            "Epoch 60 Loss: 45.2216811845803\n",
            "Epoch 70 Loss: 6.432060421328064\n",
            "Epoch 80 Loss: 6.417951953306446\n",
            "Epoch 90 Loss: 6.412450148929762\n"
          ]
        }
      ]
    },
    {
      "cell_type": "code",
      "source": [
        "Xt = torch.tensor(X_test, dtype = torch.float)"
      ],
      "metadata": {
        "id": "_DcEHs4y8eZn"
      },
      "execution_count": null,
      "outputs": []
    },
    {
      "cell_type": "code",
      "source": [
        "\n",
        "output = model(Xt) #model predictions"
      ],
      "metadata": {
        "id": "aEy8zfP0HNr5"
      },
      "execution_count": null,
      "outputs": []
    },
    {
      "cell_type": "code",
      "source": [
        "output"
      ],
      "metadata": {
        "colab": {
          "base_uri": "https://localhost:8080/"
        },
        "id": "-GVJHCGeqEJM",
        "outputId": "34039b4c-d9d0-40cf-d537-cc19920592ef"
      },
      "execution_count": null,
      "outputs": [
        {
          "output_type": "execute_result",
          "data": {
            "text/plain": [
              "tensor([[2.1603e-23],\n",
              "        [4.3468e-08],\n",
              "        [2.5849e-02],\n",
              "        ...,\n",
              "        [0.0000e+00],\n",
              "        [0.0000e+00],\n",
              "        [1.3465e-31]], grad_fn=<SigmoidBackward0>)"
            ]
          },
          "metadata": {},
          "execution_count": 23
        }
      ]
    },
    {
      "cell_type": "code",
      "source": [
        "#Converting probabilities to prediction\n",
        "preds = np.where(np.array(output.detach()) >= .5, 1, 0)"
      ],
      "metadata": {
        "id": "DkVQymo1HUui"
      },
      "execution_count": null,
      "outputs": []
    },
    {
      "cell_type": "code",
      "source": [
        "preds.shape"
      ],
      "metadata": {
        "colab": {
          "base_uri": "https://localhost:8080/"
        },
        "id": "XhEbGWR8HUnh",
        "outputId": "417f614c-a9ce-4f1e-eb54-3f3d8444495b"
      },
      "execution_count": null,
      "outputs": [
        {
          "output_type": "execute_result",
          "data": {
            "text/plain": [
              "(1112, 1)"
            ]
          },
          "metadata": {},
          "execution_count": 25
        }
      ]
    },
    {
      "cell_type": "code",
      "source": [
        "y = np.where(spam['type'] == 'ham', 0, 1)"
      ],
      "metadata": {
        "id": "UONO0UuHHUi1"
      },
      "execution_count": null,
      "outputs": []
    },
    {
      "cell_type": "code",
      "source": [
        "sum(preds[:, 0] == y_test)/len(y_test)"
      ],
      "metadata": {
        "colab": {
          "base_uri": "https://localhost:8080/"
        },
        "id": "ppU6XUcLHrgv",
        "outputId": "0f4650ae-35b4-4432-bd4b-bbb4d0a5cd1a"
      },
      "execution_count": null,
      "outputs": [
        {
          "output_type": "execute_result",
          "data": {
            "text/plain": [
              "0.9784172661870504"
            ]
          },
          "metadata": {},
          "execution_count": 27
        }
      ]
    },
    {
      "cell_type": "code",
      "source": [
        "np.unique(y_test, return_counts = True)"
      ],
      "metadata": {
        "colab": {
          "base_uri": "https://localhost:8080/"
        },
        "id": "UPX_vybFrdkU",
        "outputId": "4a9031e9-e266-4b67-ee84-6ad14efaeeda"
      },
      "execution_count": null,
      "outputs": [
        {
          "output_type": "execute_result",
          "data": {
            "text/plain": [
              "(array([0, 1]), array([972, 140]))"
            ]
          },
          "metadata": {},
          "execution_count": 28
        }
      ]
    },
    {
      "cell_type": "code",
      "source": [
        "951/(951 + 161)"
      ],
      "metadata": {
        "colab": {
          "base_uri": "https://localhost:8080/"
        },
        "id": "Suftvk62rkFe",
        "outputId": "a70d9da2-dcd1-4b8c-b834-3e12f2655b35"
      },
      "execution_count": null,
      "outputs": [
        {
          "output_type": "execute_result",
          "data": {
            "text/plain": [
              "0.8552158273381295"
            ]
          },
          "metadata": {},
          "execution_count": 29
        }
      ]
    },
    {
      "cell_type": "markdown",
      "source": [
        "### Basic RNN\n",
        "\n",
        "![](https://upload.wikimedia.org/wikipedia/commons/thumb/b/b5/Recurrent_neural_network_unfold.svg/440px-Recurrent_neural_network_unfold.svg.png)"
      ],
      "metadata": {
        "id": "zajZdySD9Lxl"
      }
    },
    {
      "cell_type": "code",
      "source": [
        "#create sequences\n",
        "sequences = tokenizer.texts_to_sequences(spam['text'].values)"
      ],
      "metadata": {
        "id": "14ohZWmqlBXn"
      },
      "execution_count": null,
      "outputs": []
    },
    {
      "cell_type": "code",
      "source": [
        "#look at first sequence\n",
        "sequences[0]"
      ],
      "metadata": {
        "colab": {
          "base_uri": "https://localhost:8080/"
        },
        "id": "1iAvE73XlGNf",
        "outputId": "41bd6e8e-6b39-43f1-849d-4f41a79377f3"
      },
      "execution_count": null,
      "outputs": [
        {
          "output_type": "execute_result",
          "data": {
            "text/plain": [
              "[122, 3, 22, 313, 4, 53, 110, 37, 8]"
            ]
          },
          "metadata": {},
          "execution_count": 31
        }
      ]
    },
    {
      "cell_type": "code",
      "source": [
        "#compare to text\n",
        "spam['text'].values[1]"
      ],
      "metadata": {
        "colab": {
          "base_uri": "https://localhost:8080/",
          "height": 35
        },
        "id": "WBoD5QfPlK7X",
        "outputId": "628dbe30-56d1-4c5c-a944-4d79702c3f8e"
      },
      "execution_count": null,
      "outputs": [
        {
          "output_type": "execute_result",
          "data": {
            "text/plain": [
              "'K..give back my thanks.'"
            ],
            "application/vnd.google.colaboratory.intrinsic+json": {
              "type": "string"
            }
          },
          "metadata": {},
          "execution_count": 32
        }
      ]
    },
    {
      "cell_type": "code",
      "source": [
        "#pad and make all same length\n",
        "sequences = pad_sequences(sequences, maxlen=100)"
      ],
      "metadata": {
        "id": "PmeaiuOAlNGD"
      },
      "execution_count": null,
      "outputs": []
    },
    {
      "cell_type": "code",
      "source": [
        "#examine results\n",
        "sequences[1].shape"
      ],
      "metadata": {
        "colab": {
          "base_uri": "https://localhost:8080/"
        },
        "id": "JH6zRxhxmlrt",
        "outputId": "68bb1f02-f055-4318-9435-04e954a2f8e9"
      },
      "execution_count": null,
      "outputs": [
        {
          "output_type": "execute_result",
          "data": {
            "text/plain": [
              "(100,)"
            ]
          },
          "metadata": {},
          "execution_count": 34
        }
      ]
    },
    {
      "cell_type": "code",
      "source": [
        "sequences[1]"
      ],
      "metadata": {
        "colab": {
          "base_uri": "https://localhost:8080/"
        },
        "id": "dYw2vJpntRVx",
        "outputId": "dfbd1822-5ef5-4b92-b90b-ba93a4bec456"
      },
      "execution_count": null,
      "outputs": [
        {
          "output_type": "execute_result",
          "data": {
            "text/plain": [
              "array([  0,   0,   0,   0,   0,   0,   0,   0,   0,   0,   0,   0,   0,\n",
              "         0,   0,   0,   0,   0,   0,   0,   0,   0,   0,   0,   0,   0,\n",
              "         0,   0,   0,   0,   0,   0,   0,   0,   0,   0,   0,   0,   0,\n",
              "         0,   0,   0,   0,   0,   0,   0,   0,   0,   0,   0,   0,   0,\n",
              "         0,   0,   0,   0,   0,   0,   0,   0,   0,   0,   0,   0,   0,\n",
              "         0,   0,   0,   0,   0,   0,   0,   0,   0,   0,   0,   0,   0,\n",
              "         0,   0,   0,   0,   0,   0,   0,   0,   0,   0,   0,   0,   0,\n",
              "         0,   0,   0,   0,  92, 134,  86,  11, 170], dtype=int32)"
            ]
          },
          "metadata": {},
          "execution_count": 35
        }
      ]
    },
    {
      "cell_type": "code",
      "source": [
        "#example rnn\n",
        "rnn = nn.RNN(input_size = 100,\n",
        "             hidden_size = 30,\n",
        "             num_layers = 1,\n",
        "             batch_first = True)"
      ],
      "metadata": {
        "id": "7GnZn1epsSEi"
      },
      "execution_count": null,
      "outputs": []
    },
    {
      "cell_type": "code",
      "source": [
        "#pass data through\n",
        "sample_sequence = torch.tensor(sequences[1],\n",
        "                               dtype = torch.float,\n",
        "                               ).reshape(1, -1)\n",
        "sample_sequence.shape"
      ],
      "metadata": {
        "id": "Fr2mNE_0swQp",
        "colab": {
          "base_uri": "https://localhost:8080/"
        },
        "outputId": "1e81dafa-9a4b-4ef3-901e-0809c606d10d"
      },
      "execution_count": null,
      "outputs": [
        {
          "output_type": "execute_result",
          "data": {
            "text/plain": [
              "torch.Size([1, 100])"
            ]
          },
          "metadata": {},
          "execution_count": 40
        }
      ]
    },
    {
      "cell_type": "code",
      "source": [
        "#output\n",
        "output, hidden = rnn(sample_sequence)"
      ],
      "metadata": {
        "id": "97X1o7qHmw5n"
      },
      "execution_count": null,
      "outputs": []
    },
    {
      "cell_type": "code",
      "source": [
        "#hidden\n",
        "hidden"
      ],
      "metadata": {
        "colab": {
          "base_uri": "https://localhost:8080/"
        },
        "id": "ONbv5VGa2EhR",
        "outputId": "7d4321ec-fab8-4904-fa20-e569679975d8"
      },
      "execution_count": null,
      "outputs": [
        {
          "output_type": "execute_result",
          "data": {
            "text/plain": [
              "tensor([[ 1.0000, -1.0000,  1.0000, -1.0000, -1.0000, -1.0000, -1.0000, -0.9969,\n",
              "          1.0000,  1.0000,  1.0000,  0.9927, -0.9988,  1.0000,  1.0000, -1.0000,\n",
              "         -1.0000,  0.9980, -0.9968,  1.0000,  0.8639, -1.0000, -1.0000,  0.9869,\n",
              "          1.0000,  0.7625,  1.0000,  0.6461, -1.0000, -0.9947]],\n",
              "       grad_fn=<SqueezeBackward1>)"
            ]
          },
          "metadata": {},
          "execution_count": 42
        }
      ]
    },
    {
      "cell_type": "code",
      "source": [
        "#linear layer\n",
        "output.shape"
      ],
      "metadata": {
        "id": "EyjoR6x1tIRz",
        "colab": {
          "base_uri": "https://localhost:8080/"
        },
        "outputId": "8c2df8df-df0c-4516-e129-6aa3952c9a17"
      },
      "execution_count": null,
      "outputs": [
        {
          "output_type": "execute_result",
          "data": {
            "text/plain": [
              "torch.Size([1, 30])"
            ]
          },
          "metadata": {},
          "execution_count": 43
        }
      ]
    },
    {
      "cell_type": "code",
      "source": [
        "#pass through linear\n",
        "lin1 = nn.Linear(in_features = 30, out_features = 1)"
      ],
      "metadata": {
        "id": "wy86PysZh4yt"
      },
      "execution_count": null,
      "outputs": []
    },
    {
      "cell_type": "code",
      "source": [
        "lin1(output)"
      ],
      "metadata": {
        "colab": {
          "base_uri": "https://localhost:8080/"
        },
        "id": "H-24s8_ZMNQs",
        "outputId": "d2ece9af-1873-4375-8f9c-e82156c5dca4"
      },
      "execution_count": null,
      "outputs": [
        {
          "output_type": "execute_result",
          "data": {
            "text/plain": [
              "tensor([[0.1402]], grad_fn=<AddmmBackward0>)"
            ]
          },
          "metadata": {},
          "execution_count": 45
        }
      ]
    },
    {
      "cell_type": "code",
      "source": [
        "for x, y in trainloader:\n",
        "  print(x.shape)\n",
        "  break"
      ],
      "metadata": {
        "colab": {
          "base_uri": "https://localhost:8080/"
        },
        "id": "SsLIq2RpMoe5",
        "outputId": "ce333b5e-e947-485c-fafd-277c6f90a4e9"
      },
      "execution_count": null,
      "outputs": [
        {
          "output_type": "stream",
          "name": "stdout",
          "text": [
            "torch.Size([32, 500])\n"
          ]
        }
      ]
    },
    {
      "cell_type": "code",
      "source": [
        "class TextDataset(Dataset):\n",
        "  def __init__(self, X, y):\n",
        "    super().__init__()\n",
        "    self.x = torch.tensor(X, dtype = torch.float)\n",
        "    self.y = torch.tensor(y, dtype = torch.float)\n",
        "\n",
        "  def __len__(self):\n",
        "    return len(self.y)\n",
        "\n",
        "  def __getitem__(self, idx):\n",
        "    return self.x[idx], self.y[idx]"
      ],
      "metadata": {
        "id": "Kss5sft0OosZ"
      },
      "execution_count": null,
      "outputs": []
    },
    {
      "cell_type": "code",
      "source": [
        "#class\n",
        "class BasicRNN(nn.Module):\n",
        "  def __init__(self):\n",
        "    super().__init__()\n",
        "    self.rnn = nn.RNN(input_size = 100,\n",
        "                    hidden_size = 100,\n",
        "                    num_layers = 3,\n",
        "                    batch_first = True)\n",
        "    self.lin1 = nn.Linear(in_features = 100, out_features=1000)\n",
        "    self.lin2 = nn.Linear(1000, 100)\n",
        "    self.lin3 = nn.Linear(100, 1)\n",
        "    self.act = nn.ReLU()\n",
        "    self.sigmoid = nn.Sigmoid()\n",
        "\n",
        "  def forward(self, x):\n",
        "    x, _ = self.rnn(x)\n",
        "    x = self.act(self.lin1(x))\n",
        "    x = self.act(self.lin2(x))\n",
        "    x = self.sigmoid(self.lin3(x))\n",
        "    return x\n"
      ],
      "metadata": {
        "id": "x0N9mpg9h5og"
      },
      "execution_count": null,
      "outputs": []
    },
    {
      "cell_type": "code",
      "source": [
        "#data\n",
        "X = sequences\n",
        "y = np.where(spam['type'] == 'spam', 1, 0)\n",
        "X_train, X_test, y_train, y_test = train_test_split(X, y, test_size = .2)\n",
        "traindata = TextDataset(X_train, y_train)\n",
        "trainloader = DataLoader(traindata, batch_size = 32)"
      ],
      "metadata": {
        "id": "stjsLaxj5k40"
      },
      "execution_count": null,
      "outputs": []
    },
    {
      "cell_type": "code",
      "source": [
        "#optimizer and loss\n",
        "model = BasicRNN()\n",
        "optimizer = optim.Adam(model.parameters(), lr = 0.01)\n",
        "loss_fn = nn.BCELoss()"
      ],
      "metadata": {
        "id": "4ACZI673-RpV"
      },
      "execution_count": null,
      "outputs": []
    },
    {
      "cell_type": "code",
      "source": [
        "#train\n",
        "for epoch in range(100):\n",
        "  losses = 0\n",
        "  for x,y in trainloader:\n",
        "    yhat = model(x)\n",
        "    y = y.reshape(-1, 1)\n",
        "    loss = loss_fn(yhat, y)\n",
        "    optimizer.zero_grad()\n",
        "    loss.backward()\n",
        "    optimizer.step()\n",
        "    losses += loss.item()\n",
        "  if epoch % 10 == 0:\n",
        "    print(f'Epoch {epoch} Loss: {losses}')"
      ],
      "metadata": {
        "colab": {
          "base_uri": "https://localhost:8080/"
        },
        "id": "LLj-NUK5-TeE",
        "outputId": "cf947eb2-936d-4c06-c4f6-696e71c0c5cf"
      },
      "execution_count": null,
      "outputs": [
        {
          "output_type": "stream",
          "name": "stdout",
          "text": [
            "Epoch 0 Loss: 54.333703458309174\n",
            "Epoch 10 Loss: 49.14352545142174\n",
            "Epoch 20 Loss: 50.294177405536175\n",
            "Epoch 30 Loss: 54.339055240154266\n",
            "Epoch 40 Loss: 54.340724781155586\n",
            "Epoch 50 Loss: 54.34115116298199\n",
            "Epoch 60 Loss: 54.34125591814518\n",
            "Epoch 70 Loss: 54.341282427310944\n",
            "Epoch 80 Loss: 54.34128923714161\n",
            "Epoch 90 Loss: 54.34129001200199\n"
          ]
        }
      ]
    },
    {
      "cell_type": "code",
      "source": [
        "Xt = torch.tensor(X_test, dtype = torch.float)"
      ],
      "metadata": {
        "id": "M_uQWrJaPRwA"
      },
      "execution_count": null,
      "outputs": []
    },
    {
      "cell_type": "code",
      "source": [
        "output = model(Xt)"
      ],
      "metadata": {
        "id": "T5XcG1OpPZ2T"
      },
      "execution_count": null,
      "outputs": []
    },
    {
      "cell_type": "code",
      "source": [
        "preds = np.where(np.array(output.detach()) >= .5, 1, 0)"
      ],
      "metadata": {
        "id": "hwS2m5rcPZ2Z"
      },
      "execution_count": null,
      "outputs": []
    },
    {
      "cell_type": "code",
      "source": [
        "#preds = output.argmax(axis = 1)"
      ],
      "metadata": {
        "id": "eZgcoSgzM3Xt"
      },
      "execution_count": null,
      "outputs": []
    },
    {
      "cell_type": "code",
      "source": [
        "y_test"
      ],
      "metadata": {
        "colab": {
          "base_uri": "https://localhost:8080/"
        },
        "id": "izZ6GyxHwV2z",
        "outputId": "b49adcd4-e2d8-4df3-c413-c8d366e678d5"
      },
      "execution_count": null,
      "outputs": [
        {
          "output_type": "execute_result",
          "data": {
            "text/plain": [
              "array([0, 0, 0, ..., 0, 0, 1])"
            ]
          },
          "metadata": {},
          "execution_count": 56
        }
      ]
    },
    {
      "cell_type": "code",
      "source": [
        "# y = np.where(spam['type'] == 'ham', 0, 1)"
      ],
      "metadata": {
        "id": "J8BeML_qPZ2Z"
      },
      "execution_count": null,
      "outputs": []
    },
    {
      "cell_type": "code",
      "source": [
        "# y.shape"
      ],
      "metadata": {
        "id": "YtBc83hINEL4"
      },
      "execution_count": null,
      "outputs": []
    },
    {
      "cell_type": "code",
      "source": [
        "sum(preds.reshape(1112,) == y_test)/len(y_test)"
      ],
      "metadata": {
        "colab": {
          "base_uri": "https://localhost:8080/"
        },
        "id": "GEhgDz-9wiP0",
        "outputId": "a49d8882-3221-461a-8355-d71a8b4c0a7a"
      },
      "execution_count": null,
      "outputs": [
        {
          "output_type": "execute_result",
          "data": {
            "text/plain": [
              "0.8588129496402878"
            ]
          },
          "metadata": {},
          "execution_count": 59
        }
      ]
    },
    {
      "cell_type": "markdown",
      "source": [
        "### Pretrained Models and HuggingFace\n",
        "\n",
        "- [Huggingface](https://huggingface.co/)\n",
        "- [Chronos Paper](https://arxiv.org/abs/2403.07815)"
      ],
      "metadata": {
        "id": "ouZw-ftC3tcn"
      }
    },
    {
      "cell_type": "code",
      "source": [
        "pip install git+https://github.com/amazon-science/chronos-forecasting.git"
      ],
      "metadata": {
        "id": "rUfs4IFd3od3"
      },
      "execution_count": null,
      "outputs": []
    },
    {
      "cell_type": "code",
      "source": [
        "import torch\n",
        "from chronos import ChronosPipeline\n",
        "\n",
        "pipeline = ChronosPipeline.from_pretrained(\n",
        "  \"amazon/chronos-t5-large\",\n",
        "  device_map=\"cuda\",\n",
        "  torch_dtype=torch.bfloat16,\n",
        ")\n",
        "\n",
        "df = pd.read_csv(\"https://raw.githubusercontent.com/AileenNielsen/TimeSeriesAnalysisWithPython/master/data/AirPassengers.csv\")\n"
      ],
      "metadata": {
        "id": "1DWaYOa93oRa"
      },
      "execution_count": null,
      "outputs": []
    },
    {
      "cell_type": "code",
      "source": [
        "# context must be either a 1D tensor, a list of 1D tensors,\n",
        "# or a left-padded 2D tensor with batch as the first dimension\n",
        "context = torch.tensor(df[\"#Passengers\"])\n",
        "prediction_length = 12\n",
        "forecast = pipeline.predict(context, prediction_length)  # shape [num_series, num_samples, prediction_length]"
      ],
      "metadata": {
        "id": "np9GE5ch3oNw"
      },
      "execution_count": null,
      "outputs": []
    },
    {
      "cell_type": "code",
      "source": [
        "# visualize the forecast\n",
        "forecast_index = range(len(df), len(df) + prediction_length)\n",
        "low, median, high = np.quantile(forecast[0].numpy(), [0.1, 0.5, 0.9], axis=0)\n",
        "\n",
        "plt.figure(figsize=(8, 4))\n",
        "plt.plot(df[\"#Passengers\"], color=\"royalblue\", label=\"historical data\")\n",
        "plt.plot(forecast_index, median, color=\"tomato\", label=\"median forecast\")\n",
        "plt.fill_between(forecast_index, low, high, color=\"tomato\", alpha=0.3, label=\"80% prediction interval\")\n",
        "plt.legend()\n",
        "plt.grid();"
      ],
      "metadata": {
        "id": "lbH7HgtW3oLS"
      },
      "execution_count": null,
      "outputs": []
    },
    {
      "cell_type": "markdown",
      "source": [
        "### Problem\n",
        "\n",
        "Explore the pretrained models available and try to find one that is either of relevance to your final paper or just of general interest.  Load and use the model in an example -- even just the docs!"
      ],
      "metadata": {
        "id": "FCp8SfBdN4El"
      }
    },
    {
      "cell_type": "code",
      "source": [],
      "metadata": {
        "id": "rfk8Kugz3oHz"
      },
      "execution_count": null,
      "outputs": []
    },
    {
      "cell_type": "code",
      "source": [],
      "metadata": {
        "id": "AtsjogUW3oF6"
      },
      "execution_count": null,
      "outputs": []
    },
    {
      "cell_type": "code",
      "source": [],
      "metadata": {
        "id": "q9agE6Oi3oDU"
      },
      "execution_count": null,
      "outputs": []
    },
    {
      "cell_type": "code",
      "source": [],
      "metadata": {
        "id": "IUystH1u3n_z"
      },
      "execution_count": null,
      "outputs": []
    },
    {
      "cell_type": "code",
      "source": [],
      "metadata": {
        "id": "7O_zuUex3n8A"
      },
      "execution_count": null,
      "outputs": []
    },
    {
      "cell_type": "code",
      "source": [],
      "metadata": {
        "id": "3htNkFVh3n5S"
      },
      "execution_count": null,
      "outputs": []
    },
    {
      "cell_type": "code",
      "source": [],
      "metadata": {
        "id": "YCatlx9z3n1G"
      },
      "execution_count": null,
      "outputs": []
    },
    {
      "cell_type": "markdown",
      "source": [
        "#### LSTM"
      ],
      "metadata": {
        "id": "zGZZTw9s-VxE"
      }
    },
    {
      "cell_type": "code",
      "source": [
        "# nn.LSTM()\n",
        "class BasicLSTM(nn.Module):\n",
        "  def __init__(self):\n",
        "    super().__init__()\n",
        "    self.rnn = nn.LSTM(input_size = 100,\n",
        "                    hidden_size = 100,\n",
        "                    num_layers = 1,\n",
        "                    batch_first = True)\n",
        "\n",
        "    self.lin1 = nn.Linear(in_features = 100, out_features=100)\n",
        "    self.lin2 = nn.Linear(in_features = 100, out_features = 1)\n",
        "    self.act = nn.ReLU()\n",
        "    self.sigmoid = nn.Sigmoid()\n",
        "\n",
        "  def forward(self, x):\n",
        "    x, _ = self.rnn(x)\n",
        "    x = self.act(self.lin1(x))\n",
        "    x = self.lin2(x)\n",
        "    return self.sigmoid(x)"
      ],
      "metadata": {
        "id": "o6sdapW1-XpK"
      },
      "execution_count": null,
      "outputs": []
    },
    {
      "cell_type": "code",
      "source": [
        "model = BasicLSTM()\n",
        "optimizer = optim.Adam(model.parameters(), lr = 0.01)\n",
        "loss_fn = nn.BCELoss()"
      ],
      "metadata": {
        "id": "iRFR5kjC-Xlg"
      },
      "execution_count": null,
      "outputs": []
    },
    {
      "cell_type": "code",
      "source": [
        "#train\n",
        "for epoch in range(10):\n",
        "  losses = 0\n",
        "  for x,y in trainloader:\n",
        "    yhat = model(x)\n",
        "    y = y.reshape(-1, 1)\n",
        "    loss = loss_fn(yhat, y)\n",
        "    optimizer.zero_grad()\n",
        "    loss.backward()\n",
        "    optimizer.step()\n",
        "    losses += loss.item()\n",
        "  if epoch % 10 == 0:\n",
        "    print(f'Epoch {epoch} Loss: {losses}')"
      ],
      "metadata": {
        "id": "5ltm2mqT-Xh3",
        "colab": {
          "base_uri": "https://localhost:8080/"
        },
        "outputId": "f16974e7-e7be-4988-8c39-3ba6bfdeade9"
      },
      "execution_count": null,
      "outputs": [
        {
          "output_type": "stream",
          "name": "stdout",
          "text": [
            "Epoch 0 Loss: 49.52611651271582\n"
          ]
        }
      ]
    },
    {
      "cell_type": "code",
      "source": [
        "Xt = torch.tensor(X_test, dtype = torch.float)\n",
        "output = model(Xt)\n",
        "preds = np.where(np.array(output.detach()) >= .5, 1, 0)\n",
        "sum(preds[:, 0] == y_test)/len(y_test)"
      ],
      "metadata": {
        "id": "-BAJowK6-Xee"
      },
      "execution_count": null,
      "outputs": []
    },
    {
      "cell_type": "code",
      "source": [
        "#pad and make all same length\n",
        "sequences = pad_sequences(sequences, maxlen=30)"
      ],
      "metadata": {
        "id": "k63sNp5Q-Xa1"
      },
      "execution_count": null,
      "outputs": []
    },
    {
      "cell_type": "code",
      "source": [
        "sequences[0]"
      ],
      "metadata": {
        "id": "FEAht9gg-XWJ"
      },
      "execution_count": null,
      "outputs": []
    },
    {
      "cell_type": "code",
      "source": [
        "X = sequences\n",
        "y = np.where(spam['type'] == 'spam', 1, 0)\n",
        "data = TextDataset(X, y)\n",
        "loader = DataLoader(data, batch_size = 32)"
      ],
      "metadata": {
        "id": "RPTeRZtq-UM_"
      },
      "execution_count": null,
      "outputs": []
    },
    {
      "cell_type": "code",
      "source": [
        "class RNN2(nn.Module):\n",
        "  def __init__(self):\n",
        "    super().__init__()\n",
        "    self.rnn = nn.LSTM(input_size = 30,\n",
        "                    hidden_size = 30,\n",
        "                    num_layers = 2,\n",
        "                    batch_first = True)\n",
        "\n",
        "    self.lin1 = nn.Linear(in_features = 30, out_features=100)\n",
        "    self.lin2 = nn.Linear(in_features = 100, out_features = 1)\n",
        "    self.sigmoid = nn.Sigmoid()\n",
        "\n",
        "  def forward(self, x):\n",
        "    x, _ = self.rnn(x)\n",
        "    x = self.lin1(x)\n",
        "    x = self.lin2(x)\n",
        "    return self.sigmoid(x)"
      ],
      "metadata": {
        "id": "6naIG8zXcMHu"
      },
      "execution_count": null,
      "outputs": []
    },
    {
      "cell_type": "code",
      "source": [
        "model = RNN2()\n",
        "optimizer = optim.Adam(model.parameters(), lr = 0.01)\n",
        "loss_fn = nn.BCELoss()"
      ],
      "metadata": {
        "id": "4rvMTz63cd56"
      },
      "execution_count": null,
      "outputs": []
    },
    {
      "cell_type": "code",
      "source": [
        "#train\n",
        "for epoch in range(100):\n",
        "  losses = 0\n",
        "  for x,y in loader:\n",
        "    yhat = model(x)\n",
        "    y = y.reshape(-1, 1)\n",
        "    loss = loss_fn(yhat, y)\n",
        "    optimizer.zero_grad()\n",
        "    loss.backward()\n",
        "    optimizer.step()\n",
        "    losses += loss.item()\n",
        "  if epoch % 10 == 0:\n",
        "    print(f'Epoch {epoch} Loss: {losses}')"
      ],
      "metadata": {
        "id": "Usld0UXHcpWa"
      },
      "execution_count": null,
      "outputs": []
    },
    {
      "cell_type": "code",
      "source": [
        "Xt = torch.tensor(sequences, dtype = torch.float)\n",
        "output = model(Xt)\n",
        "preds = np.where(np.array(output.detach()) >= .5, 1, 0)\n",
        "y = np.where(spam['type'] == 'ham', 0, 1)\n",
        "sum(preds[:, 0] == y)/len(y)"
      ],
      "metadata": {
        "id": "7oxNBjhtcsoH"
      },
      "execution_count": null,
      "outputs": []
    },
    {
      "cell_type": "code",
      "source": [
        "y"
      ],
      "metadata": {
        "id": "ac4PZ4Fec1U4"
      },
      "execution_count": null,
      "outputs": []
    },
    {
      "cell_type": "code",
      "source": [
        "output"
      ],
      "metadata": {
        "id": "4JYGtpLBeITS"
      },
      "execution_count": null,
      "outputs": []
    },
    {
      "cell_type": "code",
      "source": [
        "spam['type']"
      ],
      "metadata": {
        "id": "j8oxkm34d0Ct"
      },
      "execution_count": null,
      "outputs": []
    },
    {
      "cell_type": "code",
      "source": [
        "preds.sum()"
      ],
      "metadata": {
        "id": "O2YyLU30d1_F"
      },
      "execution_count": null,
      "outputs": []
    },
    {
      "cell_type": "code",
      "source": [
        "(y == 1).sum()"
      ],
      "metadata": {
        "id": "SF5ZdD7id6pl"
      },
      "execution_count": null,
      "outputs": []
    },
    {
      "cell_type": "code",
      "source": [],
      "metadata": {
        "id": "uG-M5_QSd_Le"
      },
      "execution_count": null,
      "outputs": []
    }
  ]
}
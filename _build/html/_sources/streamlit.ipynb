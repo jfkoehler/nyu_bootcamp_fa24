{
 "cells": [
  {
   "cell_type": "markdown",
   "id": "cd4ca1d9",
   "metadata": {},
   "source": [
    "# Streamlit\n",
    "\n",
    "**OBJECTIVES**\n",
    "\n",
    "- Save objects with the `pickle` module\n",
    "- Save `sklearn` models as `.pkl` files\n",
    "- Build and deploy basic streamlit applications"
   ]
  },
  {
   "cell_type": "code",
   "execution_count": 1,
   "id": "68769b1b-868b-48ab-a3db-89215dcebc13",
   "metadata": {},
   "outputs": [],
   "source": [
    "import warnings\n",
    "warnings.filterwarnings('ignore')"
   ]
  },
  {
   "cell_type": "markdown",
   "id": "517f966c-1ba1-4e44-9fbe-fcfd2bd8c302",
   "metadata": {},
   "source": [
    "## Serialization and `pickle`\n",
    "\n",
    "One approach to writing python objects out is to serialize, or create a byte stream. This is done using the `pickle` module, though other options exist. **Note**: Pickle files are not secure and you should not trust unknown sources of pickled files."
   ]
  },
  {
   "cell_type": "code",
   "execution_count": 2,
   "id": "62c86cae-2353-40d9-a471-3b065b711803",
   "metadata": {},
   "outputs": [],
   "source": [
    "import pickle"
   ]
  },
  {
   "cell_type": "code",
   "execution_count": 3,
   "id": "ade330f1-5e2a-4afc-9136-4068c5ad9d51",
   "metadata": {},
   "outputs": [],
   "source": [
    "v1 = [1, 2, 3]"
   ]
  },
  {
   "cell_type": "code",
   "execution_count": 4,
   "id": "4b2a67e6-7306-450c-ac2a-8fedcc7f0be5",
   "metadata": {},
   "outputs": [],
   "source": [
    "with open('simple_list.pkl', 'wb') as f:\n",
    "    pickle.dump(v1, f)"
   ]
  },
  {
   "cell_type": "code",
   "execution_count": 5,
   "id": "a19e8e83-2ea2-4727-8200-3c826026dcd1",
   "metadata": {},
   "outputs": [],
   "source": [
    "with open('simple_list.pkl', 'rb') as f:\n",
    "    v2 = pickle.load(f)"
   ]
  },
  {
   "cell_type": "code",
   "execution_count": 6,
   "id": "4bf9d628-ae76-4632-b87e-10d007c4f8ee",
   "metadata": {},
   "outputs": [
    {
     "data": {
      "text/plain": [
       "[1, 2, 3]"
      ]
     },
     "execution_count": 6,
     "metadata": {},
     "output_type": "execute_result"
    }
   ],
   "source": [
    "v2"
   ]
  },
  {
   "cell_type": "markdown",
   "id": "e3206419-3262-4ee1-b5d4-79302c6859a2",
   "metadata": {},
   "source": [
    "### Example: Regression Model\n",
    "\n",
    "Below we build and save a pipeline to share with our streamlit app.  `Pipeline` objects will make input and transformations easy and are able to be pickled.  There are security issues with `pickle` and some alternative ideas if looking to use unknown sources for models such as [skops](https://skops.readthedocs.io/en/stable/index.html)."
   ]
  },
  {
   "cell_type": "code",
   "execution_count": null,
   "id": "4c609c6a-d6a8-4c16-a47c-5b8744db01d9",
   "metadata": {},
   "outputs": [],
   "source": [
    "from sklearn.datasets import fetch_openml\n",
    "from sklearn.linear_model import LinearRegression\n",
    "from sklearn.pipeline import Pipeline\n",
    "from sklearn.preprocessing import OneHotEncoder\n",
    "from sklearn.compose import make_column_transformer\n",
    "\n",
    "houses = fetch_openml(data_id = 43926)\n",
    "data = houses.frame\n",
    "# data.head()\n",
    "X = data[['Gr_Liv_Area', 'Overall_Qual', 'Sale_Condition', 'Lot_Area']]\n",
    "y = data['Sale_Price']\n",
    "transformer = make_column_transformer((OneHotEncoder(), X.select_dtypes('category').columns.tolist()),\n",
    "                                      remainder = 'passthrough')\n",
    "model = LinearRegression()\n",
    "pipeline = Pipeline([('transformer', transformer), ('model', model)])\n",
    "pipeline.fit(X, y)"
   ]
  },
  {
   "cell_type": "code",
   "execution_count": 16,
   "id": "3293614f-50f3-4a85-95c4-2503efd4a56a",
   "metadata": {},
   "outputs": [
    {
     "data": {
      "text/html": [
       "<div>\n",
       "<style scoped>\n",
       "    .dataframe tbody tr th:only-of-type {\n",
       "        vertical-align: middle;\n",
       "    }\n",
       "\n",
       "    .dataframe tbody tr th {\n",
       "        vertical-align: top;\n",
       "    }\n",
       "\n",
       "    .dataframe thead th {\n",
       "        text-align: right;\n",
       "    }\n",
       "</style>\n",
       "<table border=\"1\" class=\"dataframe\">\n",
       "  <thead>\n",
       "    <tr style=\"text-align: right;\">\n",
       "      <th></th>\n",
       "      <th>Gr_Liv_Area</th>\n",
       "      <th>Overall_Qual</th>\n",
       "      <th>Sale_Condition</th>\n",
       "      <th>Lot_Area</th>\n",
       "    </tr>\n",
       "  </thead>\n",
       "  <tbody>\n",
       "    <tr>\n",
       "      <th>0</th>\n",
       "      <td>1656</td>\n",
       "      <td>Above_Average</td>\n",
       "      <td>Normal</td>\n",
       "      <td>31770</td>\n",
       "    </tr>\n",
       "    <tr>\n",
       "      <th>1</th>\n",
       "      <td>896</td>\n",
       "      <td>Average</td>\n",
       "      <td>Normal</td>\n",
       "      <td>11622</td>\n",
       "    </tr>\n",
       "    <tr>\n",
       "      <th>2</th>\n",
       "      <td>1329</td>\n",
       "      <td>Above_Average</td>\n",
       "      <td>Normal</td>\n",
       "      <td>14267</td>\n",
       "    </tr>\n",
       "    <tr>\n",
       "      <th>3</th>\n",
       "      <td>2110</td>\n",
       "      <td>Good</td>\n",
       "      <td>Normal</td>\n",
       "      <td>11160</td>\n",
       "    </tr>\n",
       "    <tr>\n",
       "      <th>4</th>\n",
       "      <td>1629</td>\n",
       "      <td>Average</td>\n",
       "      <td>Normal</td>\n",
       "      <td>13830</td>\n",
       "    </tr>\n",
       "  </tbody>\n",
       "</table>\n",
       "</div>"
      ],
      "text/plain": [
       "   Gr_Liv_Area   Overall_Qual Sale_Condition  Lot_Area\n",
       "0         1656  Above_Average         Normal     31770\n",
       "1          896        Average         Normal     11622\n",
       "2         1329  Above_Average         Normal     14267\n",
       "3         2110           Good         Normal     11160\n",
       "4         1629        Average         Normal     13830"
      ]
     },
     "execution_count": 16,
     "metadata": {},
     "output_type": "execute_result"
    }
   ],
   "source": [
    "X.head()"
   ]
  },
  {
   "cell_type": "code",
   "execution_count": 17,
   "id": "f086bcf1-75b1-4404-a857-a36a69522449",
   "metadata": {},
   "outputs": [],
   "source": [
    "with open('lr_model.pkl', 'wb') as f:\n",
    "    pickle.dump(pipeline, f)"
   ]
  },
  {
   "cell_type": "code",
   "execution_count": 18,
   "id": "09aaf649-76b2-455b-a10a-e1d47d16f4a9",
   "metadata": {},
   "outputs": [
    {
     "data": {
      "text/plain": [
       "['Above_Average', 'Average', 'Good', 'Very_Good', 'Excellent', 'Below_Average', 'Fair', 'Poor', 'Very_Excellent', 'Very_Poor']\n",
       "Categories (10, object): ['Above_Average', 'Average', 'Below_Average', 'Excellent', ..., 'Poor', 'Very_Excellent', 'Very_Good', 'Very_Poor']"
      ]
     },
     "execution_count": 18,
     "metadata": {},
     "output_type": "execute_result"
    }
   ],
   "source": [
    "X['Overall_Qual'].unique()"
   ]
  },
  {
   "cell_type": "code",
   "execution_count": null,
   "id": "2bc5b566-feed-412c-84b5-10a800eba97f",
   "metadata": {},
   "outputs": [],
   "source": []
  },
  {
   "cell_type": "code",
   "execution_count": 19,
   "id": "3bfd6d7a-fda2-4dfb-b4fc-ee0d8312049f",
   "metadata": {},
   "outputs": [
    {
     "data": {
      "text/plain": [
       "['Normal', 'Partial', 'Family', 'Abnorml', 'Alloca', 'AdjLand']\n",
       "Categories (6, object): ['Abnorml', 'AdjLand', 'Alloca', 'Family', 'Normal', 'Partial']"
      ]
     },
     "execution_count": 19,
     "metadata": {},
     "output_type": "execute_result"
    }
   ],
   "source": [
    "X['Sale_Condition'].unique()"
   ]
  },
  {
   "cell_type": "markdown",
   "id": "bdf9b14c-98be-49f3-8f2c-9f5bb80ff650",
   "metadata": {},
   "source": [
    "### Moving the model to Streamlit\n",
    "\n",
    "Now we will create a basic application using the Streamlit library [docs](https://docs.streamlit.io/). To do so, we will first create a virtual environment for the project.  Over to VSCode."
   ]
  },
  {
   "cell_type": "code",
   "execution_count": null,
   "id": "d8dbd5df-48f6-4017-ac34-d4ee4113f130",
   "metadata": {},
   "outputs": [],
   "source": []
  },
  {
   "cell_type": "code",
   "execution_count": null,
   "id": "aa7e76b6-2da8-4dfc-9ba0-f01424dd8dd1",
   "metadata": {},
   "outputs": [],
   "source": []
  },
  {
   "cell_type": "markdown",
   "id": "bb202f7c-68e6-48a3-af6b-c3713ddb7e90",
   "metadata": {},
   "source": [
    "```python\n",
    "import streamlit as st \n",
    "import pickle\n",
    "import pandas as pd\n",
    "### regression model\n",
    "from sklearn.datasets import fetch_openml\n",
    "from sklearn.linear_model import LinearRegression\n",
    "from sklearn.pipeline import Pipeline\n",
    "from sklearn.preprocessing import OneHotEncoder\n",
    "from sklearn.compose import make_column_transformer\n",
    "\n",
    "houses = fetch_openml(data_id = 43926)\n",
    "data = houses.frame\n",
    "X = data[['Gr_Liv_Area', 'Overall_Qual', 'Sale_Condition', 'Lot_Area']]\n",
    "y = data['Sale_Price']\n",
    "transformer = make_column_transformer((OneHotEncoder(), X.select_dtypes('category').columns.tolist()),\n",
    "                                      remainder = 'passthrough')\n",
    "model = LinearRegression()\n",
    "pipeline = Pipeline([('transformer', transformer), ('model', model)])\n",
    "pipeline.fit(X, y)\n",
    "\n",
    "\n",
    "\n",
    "\n",
    "\n",
    "\n",
    "st.header('Regression App')\n",
    "\n",
    "gr_area = st.number_input('What is the above ground living area:')\n",
    "lot_area = st.slider('What is the total lot area:')\n",
    "over_qual = st.selectbox('What was the quality?', \n",
    "                         ('Above_Average', 'Average', 'Good', 'Very_Good', 'Excellent', 'Below_Average', 'Fair', 'Poor', 'Very_Excellent', 'Very_Poor'))\n",
    "sale_cond = st.selectbox(\"Condition at sale?\",\n",
    "                         ('Normal', 'Partial', 'Family', 'Abnorml', 'Alloca', 'AdjLand'))\n",
    "#bring in our model\n",
    "# with open('lr_model.pkl', 'rb') as f:\n",
    "#     model = pickle.load(f)\n",
    "    \n",
    "X = pd.DataFrame({'Gr_Liv_Area': gr_area,\n",
    "                  'Overall_Qual': over_qual,\n",
    "                  'Sale_Condition': sale_cond,\n",
    "                  'Lot_Area': lot_area}, index = [0])\n",
    "\n",
    "pred = model.predict(X)\n",
    "st.write(pred)\n",
    "    \n",
    "\n",
    "```"
   ]
  },
  {
   "cell_type": "code",
   "execution_count": null,
   "id": "ad347ced-6732-4942-bbc7-b6a1e9b0d20d",
   "metadata": {},
   "outputs": [],
   "source": []
  },
  {
   "cell_type": "code",
   "execution_count": null,
   "id": "f6005407-9f69-4527-9266-484e8d325489",
   "metadata": {},
   "outputs": [],
   "source": []
  }
 ],
 "metadata": {
  "kernelspec": {
   "display_name": "Python 3 (ipykernel)",
   "language": "python",
   "name": "python3"
  },
  "language_info": {
   "codemirror_mode": {
    "name": "ipython",
    "version": 3
   },
   "file_extension": ".py",
   "mimetype": "text/x-python",
   "name": "python",
   "nbconvert_exporter": "python",
   "pygments_lexer": "ipython3",
   "version": "3.12.0"
  }
 },
 "nbformat": 4,
 "nbformat_minor": 5
}

{
 "cells": [
  {
   "cell_type": "markdown",
   "metadata": {
    "colab_type": "text",
    "id": "view-in-github"
   },
   "source": [
    "<a href=\"https://colab.research.google.com/github/jfkoehler/nyu_bootcamp_fa24/blob/main/homework/regression_hw_solns.ipynb\" target=\"_parent\"><img src=\"https://colab.research.google.com/assets/colab-badge.svg\" alt=\"Open In Colab\"/></a>"
   ]
  },
  {
   "cell_type": "markdown",
   "metadata": {
    "id": "auFXqWETIgFL"
   },
   "source": [
    "### A Regression Model for Wages\n",
    "\n",
    "This homework assignment works through creating a regression model to predict the wage of an individual given some basic demographic information.  The dataset is from the openml data repository and was culled from Census data -- see information [here](https://www.openml.org/search?type=data&sort=runs&id=534&status=active).  "
   ]
  },
  {
   "cell_type": "code",
   "execution_count": 1,
   "metadata": {
    "id": "E0BCUKZ3IgFM"
   },
   "outputs": [],
   "source": [
    "from sklearn.datasets import fetch_openml"
   ]
  },
  {
   "cell_type": "code",
   "execution_count": 2,
   "metadata": {
    "id": "SzFRoJiBIgFN"
   },
   "outputs": [],
   "source": [
    "survey = fetch_openml(data_id=534, as_frame=True)"
   ]
  },
  {
   "cell_type": "code",
   "execution_count": 3,
   "metadata": {
    "colab": {
     "base_uri": "https://localhost:8080/",
     "height": 206
    },
    "id": "5QBrSkhEIgFN",
    "outputId": "983af6f4-28f3-4852-8c6b-008dc3a81d68"
   },
   "outputs": [
    {
     "data": {
      "text/html": [
       "<div>\n",
       "<style scoped>\n",
       "    .dataframe tbody tr th:only-of-type {\n",
       "        vertical-align: middle;\n",
       "    }\n",
       "\n",
       "    .dataframe tbody tr th {\n",
       "        vertical-align: top;\n",
       "    }\n",
       "\n",
       "    .dataframe thead th {\n",
       "        text-align: right;\n",
       "    }\n",
       "</style>\n",
       "<table border=\"1\" class=\"dataframe\">\n",
       "  <thead>\n",
       "    <tr style=\"text-align: right;\">\n",
       "      <th></th>\n",
       "      <th>EDUCATION</th>\n",
       "      <th>SOUTH</th>\n",
       "      <th>SEX</th>\n",
       "      <th>EXPERIENCE</th>\n",
       "      <th>UNION</th>\n",
       "      <th>WAGE</th>\n",
       "      <th>AGE</th>\n",
       "      <th>RACE</th>\n",
       "      <th>OCCUPATION</th>\n",
       "      <th>SECTOR</th>\n",
       "      <th>MARR</th>\n",
       "    </tr>\n",
       "  </thead>\n",
       "  <tbody>\n",
       "    <tr>\n",
       "      <th>0</th>\n",
       "      <td>8</td>\n",
       "      <td>no</td>\n",
       "      <td>female</td>\n",
       "      <td>21</td>\n",
       "      <td>not_member</td>\n",
       "      <td>5.10</td>\n",
       "      <td>35</td>\n",
       "      <td>Hispanic</td>\n",
       "      <td>Other</td>\n",
       "      <td>Manufacturing</td>\n",
       "      <td>Married</td>\n",
       "    </tr>\n",
       "    <tr>\n",
       "      <th>1</th>\n",
       "      <td>9</td>\n",
       "      <td>no</td>\n",
       "      <td>female</td>\n",
       "      <td>42</td>\n",
       "      <td>not_member</td>\n",
       "      <td>4.95</td>\n",
       "      <td>57</td>\n",
       "      <td>White</td>\n",
       "      <td>Other</td>\n",
       "      <td>Manufacturing</td>\n",
       "      <td>Married</td>\n",
       "    </tr>\n",
       "    <tr>\n",
       "      <th>2</th>\n",
       "      <td>12</td>\n",
       "      <td>no</td>\n",
       "      <td>male</td>\n",
       "      <td>1</td>\n",
       "      <td>not_member</td>\n",
       "      <td>6.67</td>\n",
       "      <td>19</td>\n",
       "      <td>White</td>\n",
       "      <td>Other</td>\n",
       "      <td>Manufacturing</td>\n",
       "      <td>Unmarried</td>\n",
       "    </tr>\n",
       "    <tr>\n",
       "      <th>3</th>\n",
       "      <td>12</td>\n",
       "      <td>no</td>\n",
       "      <td>male</td>\n",
       "      <td>4</td>\n",
       "      <td>not_member</td>\n",
       "      <td>4.00</td>\n",
       "      <td>22</td>\n",
       "      <td>White</td>\n",
       "      <td>Other</td>\n",
       "      <td>Other</td>\n",
       "      <td>Unmarried</td>\n",
       "    </tr>\n",
       "    <tr>\n",
       "      <th>4</th>\n",
       "      <td>12</td>\n",
       "      <td>no</td>\n",
       "      <td>male</td>\n",
       "      <td>17</td>\n",
       "      <td>not_member</td>\n",
       "      <td>7.50</td>\n",
       "      <td>35</td>\n",
       "      <td>White</td>\n",
       "      <td>Other</td>\n",
       "      <td>Other</td>\n",
       "      <td>Married</td>\n",
       "    </tr>\n",
       "  </tbody>\n",
       "</table>\n",
       "</div>"
      ],
      "text/plain": [
       "   EDUCATION SOUTH     SEX  EXPERIENCE       UNION  WAGE  AGE      RACE  \\\n",
       "0          8    no  female          21  not_member  5.10   35  Hispanic   \n",
       "1          9    no  female          42  not_member  4.95   57     White   \n",
       "2         12    no    male           1  not_member  6.67   19     White   \n",
       "3         12    no    male           4  not_member  4.00   22     White   \n",
       "4         12    no    male          17  not_member  7.50   35     White   \n",
       "\n",
       "  OCCUPATION         SECTOR       MARR  \n",
       "0      Other  Manufacturing    Married  \n",
       "1      Other  Manufacturing    Married  \n",
       "2      Other  Manufacturing  Unmarried  \n",
       "3      Other          Other  Unmarried  \n",
       "4      Other          Other    Married  "
      ]
     },
     "execution_count": 3,
     "metadata": {},
     "output_type": "execute_result"
    }
   ],
   "source": [
    "df = survey.frame\n",
    "df.head()"
   ]
  },
  {
   "cell_type": "markdown",
   "metadata": {
    "id": "g7n0IXusIgFO"
   },
   "source": [
    "**PROBLEM 1: Splitting the data.**\n",
    "\n",
    "Use the `train_test_split` function to create a train and test dataset for all features and the target column `WAGE`.  Your test set should be comprised of 20% of the total data."
   ]
  },
  {
   "cell_type": "code",
   "execution_count": 4,
   "metadata": {
    "id": "jk-McYlyIgFO"
   },
   "outputs": [],
   "source": [
    "X = df.drop('WAGE', axis = 1)\n",
    "y = df['WAGE']"
   ]
  },
  {
   "cell_type": "code",
   "execution_count": 5,
   "metadata": {
    "id": "kACxYzj7IgFO"
   },
   "outputs": [],
   "source": [
    "from sklearn.model_selection import train_test_split\n",
    "X_train, X_test, y_train, y_test = train_test_split(X, y)"
   ]
  },
  {
   "cell_type": "markdown",
   "metadata": {
    "id": "nwztnOgBIgFO"
   },
   "source": [
    "**PROBLEM 2: Checking Assumptions**\n",
    "\n",
    "One assumption of the Linear Regression model is that the target feature is roughly normally distributed.  Is this assumption met?  If yes move on, if no consider transforming the target using `np.log` and compare the distribution of the logarithm of wages.  If the logarithm is more \"normal\", use this as your target."
   ]
  },
  {
   "cell_type": "code",
   "execution_count": 6,
   "metadata": {
    "id": "e8l5_bwIJCPJ"
   },
   "outputs": [],
   "source": [
    "import matplotlib.pyplot as plt"
   ]
  },
  {
   "cell_type": "code",
   "execution_count": 7,
   "metadata": {
    "colab": {
     "base_uri": "https://localhost:8080/",
     "height": 501
    },
    "id": "9LyYXb3OIgFO",
    "outputId": "8a4f28a9-f6eb-4d30-cabe-a621a580866f"
   },
   "outputs": [
    {
     "data": {
      "text/plain": [
       "(array([138., 208., 119.,  35.,  22.,  11.,   0.,   0.,   0.,   1.]),\n",
       " array([ 1.  ,  5.35,  9.7 , 14.05, 18.4 , 22.75, 27.1 , 31.45, 35.8 ,\n",
       "        40.15, 44.5 ]),\n",
       " <BarContainer object of 10 artists>)"
      ]
     },
     "execution_count": 7,
     "metadata": {},
     "output_type": "execute_result"
    },
    {
     "data": {
      "image/png": "[encoded data removed]",
      "text/plain": [
       "<Figure size 640x480 with 1 Axes>"
      ]
     },
     "metadata": {},
     "output_type": "display_data"
    }
   ],
   "source": [
    "plt.hist(y)"
   ]
  },
  {
   "cell_type": "code",
   "execution_count": 8,
   "metadata": {
    "id": "ZupC1JSkJJBI"
   },
   "outputs": [],
   "source": [
    "import numpy as np"
   ]
  },
  {
   "cell_type": "code",
   "execution_count": 9,
   "metadata": {
    "colab": {
     "base_uri": "https://localhost:8080/",
     "height": 519
    },
    "id": "sKcn5xpwJFz3",
    "outputId": "8649aa05-6449-41d7-b65a-0f7a46ca94a9"
   },
   "outputs": [
    {
     "data": {
      "text/plain": [
       "(array([  1.,   2.,   3.,  88., 122., 132., 118.,  47.,  20.,   1.]),\n",
       " array([0.        , 0.37954892, 0.75909784, 1.13864676, 1.51819568,\n",
       "        1.89774459, 2.27729351, 2.65684243, 3.03639135, 3.41594027,\n",
       "        3.79548919]),\n",
       " <BarContainer object of 10 artists>)"
      ]
     },
     "execution_count": 9,
     "metadata": {},
     "output_type": "execute_result"
    },
    {
     "data": {
      "image/png": "[encoded data removed]",
      "text/plain": [
       "<Figure size 640x480 with 1 Axes>"
      ]
     },
     "metadata": {},
     "output_type": "display_data"
    }
   ],
   "source": [
    "plt.hist(np.log(y))"
   ]
  },
  {
   "cell_type": "code",
   "execution_count": 10,
   "metadata": {
    "id": "oM033zZRJO28"
   },
   "outputs": [],
   "source": [
    "X_train, X_test, y_train, y_test = train_test_split(X, np.log(y))"
   ]
  },
  {
   "cell_type": "markdown",
   "metadata": {
    "id": "a1GtpzsyIgFO"
   },
   "source": [
    "**PROBLEM 3: Preparing the Data**\n",
    "\n",
    "For the categorical features, use the `OneHotEncoder` to encode the different categorical variables and eliminate any reduntant information using the `drop = 'if_binary'` argument."
   ]
  },
  {
   "cell_type": "code",
   "execution_count": 11,
   "metadata": {
    "id": "IEQbNLMtIgFP"
   },
   "outputs": [],
   "source": [
    "from sklearn.preprocessing import OneHotEncoder"
   ]
  },
  {
   "cell_type": "code",
   "execution_count": 12,
   "metadata": {
    "id": "rV4KhLXUIgFP"
   },
   "outputs": [],
   "source": [
    "ohe = OneHotEncoder(drop = 'if_binary')"
   ]
  },
  {
   "cell_type": "markdown",
   "metadata": {
    "id": "Qnr7XLhVIgFP"
   },
   "source": [
    "**PROBLEM 4: Using `make_column_transformer`**\n",
    "\n",
    "Rather than taking just the categorical features, transforming these, and merging the dummied data with the other numeric features -- `make_column_transformer` will accomplish this for us.  Look over the user guide [here](https://scikit-learn.org/stable/modules/compose.html#make-column-transformer) and use this to transform the categorical features with `OneHotEncoder` and leave the remaining features as is.  Be sure to transform both your training and test datasets correctly and assign as `X_train_encoded` and `X_test_encoded` below."
   ]
  },
  {
   "cell_type": "code",
   "execution_count": 13,
   "metadata": {
    "id": "JJw1qNt7Js9D"
   },
   "outputs": [],
   "source": [
    "from sklearn.compose import make_column_transformer"
   ]
  },
  {
   "cell_type": "code",
   "execution_count": 14,
   "metadata": {
    "colab": {
     "base_uri": "https://localhost:8080/"
    },
    "id": "axwDsoTeJ2KC",
    "outputId": "3ba9e182-a21b-48b2-8ca8-efc06cd7c30e"
   },
   "outputs": [
    {
     "name": "stdout",
     "output_type": "stream",
     "text": [
      "<class 'pandas.core.frame.DataFrame'>\n",
      "RangeIndex: 534 entries, 0 to 533\n",
      "Data columns (total 10 columns):\n",
      " #   Column      Non-Null Count  Dtype   \n",
      "---  ------      --------------  -----   \n",
      " 0   EDUCATION   534 non-null    int64   \n",
      " 1   SOUTH       534 non-null    category\n",
      " 2   SEX         534 non-null    category\n",
      " 3   EXPERIENCE  534 non-null    int64   \n",
      " 4   UNION       534 non-null    category\n",
      " 5   AGE         534 non-null    int64   \n",
      " 6   RACE        534 non-null    category\n",
      " 7   OCCUPATION  534 non-null    category\n",
      " 8   SECTOR      534 non-null    category\n",
      " 9   MARR        534 non-null    category\n",
      "dtypes: category(7), int64(3)\n",
      "memory usage: 17.3 KB\n"
     ]
    }
   ],
   "source": [
    "X.info()"
   ]
  },
  {
   "cell_type": "code",
   "execution_count": 15,
   "metadata": {
    "id": "OtNr5of7JxdE"
   },
   "outputs": [],
   "source": [
    "transformer = make_column_transformer((ohe, X.select_dtypes('category').columns),\n",
    "                                      remainder = 'passthrough')"
   ]
  },
  {
   "cell_type": "code",
   "execution_count": 16,
   "metadata": {
    "id": "aycO_vLRIgFP"
   },
   "outputs": [],
   "source": [
    "X_train_encoded = transformer.fit_transform(X_train)\n",
    "X_test_encoded = transformer.transform(X_test)"
   ]
  },
  {
   "cell_type": "code",
   "execution_count": 17,
   "metadata": {
    "colab": {
     "base_uri": "https://localhost:8080/"
    },
    "id": "D3Al8uTnIgFP",
    "outputId": "ed36a5f9-1b3b-4cb3-c8f3-96d21e94603c"
   },
   "outputs": [
    {
     "data": {
      "text/plain": [
       "array([[ 0.,  0.,  1., ..., 12., 14., 32.],\n",
       "       [ 1.,  1.,  0., ..., 11., 18., 35.],\n",
       "       [ 0.,  1.,  0., ..., 13.,  8., 27.],\n",
       "       ...,\n",
       "       [ 0.,  0.,  1., ..., 14., 32., 52.],\n",
       "       [ 1.,  0.,  1., ..., 16.,  2., 24.],\n",
       "       [ 0.,  1.,  0., ..., 12., 19., 37.]])"
      ]
     },
     "execution_count": 17,
     "metadata": {},
     "output_type": "execute_result"
    }
   ],
   "source": [
    "X_train_encoded"
   ]
  },
  {
   "cell_type": "code",
   "execution_count": null,
   "metadata": {
    "id": "qcECo-WYIgFP"
   },
   "outputs": [],
   "source": []
  },
  {
   "cell_type": "markdown",
   "metadata": {
    "id": "8ioyORcSIgFP"
   },
   "source": [
    "**PROBLEM 5: Building the model**\n",
    "\n",
    "Now that your data is prepared, build a regression model with the appropriate input and target values.  "
   ]
  },
  {
   "cell_type": "code",
   "execution_count": 18,
   "metadata": {
    "id": "IhrPyzJGIgFP"
   },
   "outputs": [],
   "source": [
    "from sklearn.linear_model import LinearRegression"
   ]
  },
  {
   "cell_type": "code",
   "execution_count": 19,
   "metadata": {
    "id": "KpvPvYxkIgFP"
   },
   "outputs": [],
   "source": [
    "lr = LinearRegression().fit(X_train_encoded, y_train)"
   ]
  },
  {
   "cell_type": "markdown",
   "metadata": {
    "id": "DatxJUYNIgFP"
   },
   "source": [
    "**PROBLEM 6: Scoring the Model**\n",
    "\n",
    "Now, evaluate the **Mean Squared Error** of your model on both the train and test data.  Compare this with a baseline prediction **Mean Squared Error**.  Did you model perform better than the baseline?"
   ]
  },
  {
   "cell_type": "code",
   "execution_count": 20,
   "metadata": {
    "id": "pG2nc_ioKZKT"
   },
   "outputs": [],
   "source": [
    "from sklearn.metrics import mean_squared_error"
   ]
  },
  {
   "cell_type": "code",
   "execution_count": 21,
   "metadata": {
    "colab": {
     "base_uri": "https://localhost:8080/"
    },
    "id": "X3ln6BJWIgFP",
    "outputId": "79ad9b23-6923-4e74-9395-7f60fb790381"
   },
   "outputs": [
    {
     "data": {
      "text/plain": [
       "0.18309550724261178"
      ]
     },
     "execution_count": 21,
     "metadata": {},
     "output_type": "execute_result"
    }
   ],
   "source": [
    "mean_squared_error(y_train, lr.predict(X_train_encoded))"
   ]
  },
  {
   "cell_type": "code",
   "execution_count": 22,
   "metadata": {
    "colab": {
     "base_uri": "https://localhost:8080/"
    },
    "id": "5bTI1koDIgFQ",
    "outputId": "1c4f3764-887f-4dff-a82e-daa4f64efdd4"
   },
   "outputs": [
    {
     "data": {
      "text/plain": [
       "0.16477003540274918"
      ]
     },
     "execution_count": 22,
     "metadata": {},
     "output_type": "execute_result"
    }
   ],
   "source": [
    "mean_squared_error(y_test, lr.predict(X_test_encoded))"
   ]
  },
  {
   "cell_type": "code",
   "execution_count": 23,
   "metadata": {
    "colab": {
     "base_uri": "https://localhost:8080/"
    },
    "id": "GSWerTV4Kmpk",
    "outputId": "05e90a71-8ef4-4ffa-a6e9-605746008f12"
   },
   "outputs": [
    {
     "data": {
      "text/plain": [
       "2.063315032947671"
      ]
     },
     "execution_count": 23,
     "metadata": {},
     "output_type": "execute_result"
    }
   ],
   "source": [
    "y_train.mean()"
   ]
  },
  {
   "cell_type": "code",
   "execution_count": 24,
   "metadata": {
    "colab": {
     "base_uri": "https://localhost:8080/"
    },
    "id": "fgtjy2OAKsB9",
    "outputId": "e7e6443e-ad22-4815-c2db-f1e6baea9e76"
   },
   "outputs": [
    {
     "data": {
      "text/plain": [
       "0.2785655066847971"
      ]
     },
     "execution_count": 24,
     "metadata": {},
     "output_type": "execute_result"
    }
   ],
   "source": [
    "mean_squared_error(y_train, y_train.mean()*np.ones(len(y_train)))"
   ]
  },
  {
   "cell_type": "code",
   "execution_count": 25,
   "metadata": {
    "colab": {
     "base_uri": "https://localhost:8080/"
    },
    "id": "ED2r2y0dKr-i",
    "outputId": "4f4ee04d-9f7a-41a7-9568-b16932c1ec99"
   },
   "outputs": [
    {
     "data": {
      "text/plain": [
       "0.27607071944037787"
      ]
     },
     "execution_count": 25,
     "metadata": {},
     "output_type": "execute_result"
    }
   ],
   "source": [
    "mean_squared_error(y_test, y_test.mean()*np.ones(len(y_test)))"
   ]
  },
  {
   "cell_type": "markdown",
   "metadata": {
    "id": "2CP3PDjKIgFQ"
   },
   "source": [
    "**PROBLEM 7: Interpreting Coefficients**\n",
    "\n",
    "Examine your coefficients for the model.  Using complete sentences explain which of the features seem to lead to increases in wages, and which seem to lead to a decrease in wage."
   ]
  },
  {
   "cell_type": "code",
   "execution_count": 26,
   "metadata": {
    "id": "y2A_-8GULOm3"
   },
   "outputs": [],
   "source": [
    "import pandas as pd"
   ]
  },
  {
   "cell_type": "code",
   "execution_count": 27,
   "metadata": {
    "colab": {
     "base_uri": "https://localhost:8080/",
     "height": 645
    },
    "id": "YqmYRnFLIgFQ",
    "outputId": "8a0c2b16-9af5-4415-a116-d6f6717305d3"
   },
   "outputs": [
    {
     "data": {
      "text/html": [
       "<div>\n",
       "<style scoped>\n",
       "    .dataframe tbody tr th:only-of-type {\n",
       "        vertical-align: middle;\n",
       "    }\n",
       "\n",
       "    .dataframe tbody tr th {\n",
       "        vertical-align: top;\n",
       "    }\n",
       "\n",
       "    .dataframe thead th {\n",
       "        text-align: right;\n",
       "    }\n",
       "</style>\n",
       "<table border=\"1\" class=\"dataframe\">\n",
       "  <thead>\n",
       "    <tr style=\"text-align: right;\">\n",
       "      <th></th>\n",
       "      <th>coef</th>\n",
       "    </tr>\n",
       "  </thead>\n",
       "  <tbody>\n",
       "    <tr>\n",
       "      <th>onehotencoder__UNION_not_member</th>\n",
       "      <td>-0.197940</td>\n",
       "    </tr>\n",
       "    <tr>\n",
       "      <th>onehotencoder__OCCUPATION_Service</th>\n",
       "      <td>-0.157127</td>\n",
       "    </tr>\n",
       "    <tr>\n",
       "      <th>onehotencoder__SECTOR_Other</th>\n",
       "      <td>-0.105116</td>\n",
       "    </tr>\n",
       "    <tr>\n",
       "      <th>onehotencoder__OCCUPATION_Sales</th>\n",
       "      <td>-0.094698</td>\n",
       "    </tr>\n",
       "    <tr>\n",
       "      <th>onehotencoder__SOUTH_yes</th>\n",
       "      <td>-0.075580</td>\n",
       "    </tr>\n",
       "    <tr>\n",
       "      <th>remainder__AGE</th>\n",
       "      <td>-0.064934</td>\n",
       "    </tr>\n",
       "    <tr>\n",
       "      <th>onehotencoder__OCCUPATION_Other</th>\n",
       "      <td>-0.062482</td>\n",
       "    </tr>\n",
       "    <tr>\n",
       "      <th>onehotencoder__MARR_Unmarried</th>\n",
       "      <td>-0.060643</td>\n",
       "    </tr>\n",
       "    <tr>\n",
       "      <th>onehotencoder__RACE_Hispanic</th>\n",
       "      <td>-0.048283</td>\n",
       "    </tr>\n",
       "    <tr>\n",
       "      <th>onehotencoder__OCCUPATION_Clerical</th>\n",
       "      <td>-0.010488</td>\n",
       "    </tr>\n",
       "    <tr>\n",
       "      <th>onehotencoder__RACE_Other</th>\n",
       "      <td>0.002120</td>\n",
       "    </tr>\n",
       "    <tr>\n",
       "      <th>onehotencoder__SECTOR_Manufacturing</th>\n",
       "      <td>0.035014</td>\n",
       "    </tr>\n",
       "    <tr>\n",
       "      <th>onehotencoder__RACE_White</th>\n",
       "      <td>0.046162</td>\n",
       "    </tr>\n",
       "    <tr>\n",
       "      <th>onehotencoder__SECTOR_Construction</th>\n",
       "      <td>0.070102</td>\n",
       "    </tr>\n",
       "    <tr>\n",
       "      <th>remainder__EXPERIENCE</th>\n",
       "      <td>0.074475</td>\n",
       "    </tr>\n",
       "    <tr>\n",
       "      <th>onehotencoder__OCCUPATION_Professional</th>\n",
       "      <td>0.129879</td>\n",
       "    </tr>\n",
       "    <tr>\n",
       "      <th>remainder__EDUCATION</th>\n",
       "      <td>0.136220</td>\n",
       "    </tr>\n",
       "    <tr>\n",
       "      <th>onehotencoder__OCCUPATION_Management</th>\n",
       "      <td>0.194918</td>\n",
       "    </tr>\n",
       "    <tr>\n",
       "      <th>onehotencoder__SEX_male</th>\n",
       "      <td>0.198618</td>\n",
       "    </tr>\n",
       "  </tbody>\n",
       "</table>\n",
       "</div>"
      ],
      "text/plain": [
       "                                            coef\n",
       "onehotencoder__UNION_not_member        -0.197940\n",
       "onehotencoder__OCCUPATION_Service      -0.157127\n",
       "onehotencoder__SECTOR_Other            -0.105116\n",
       "onehotencoder__OCCUPATION_Sales        -0.094698\n",
       "onehotencoder__SOUTH_yes               -0.075580\n",
       "remainder__AGE                         -0.064934\n",
       "onehotencoder__OCCUPATION_Other        -0.062482\n",
       "onehotencoder__MARR_Unmarried          -0.060643\n",
       "onehotencoder__RACE_Hispanic           -0.048283\n",
       "onehotencoder__OCCUPATION_Clerical     -0.010488\n",
       "onehotencoder__RACE_Other               0.002120\n",
       "onehotencoder__SECTOR_Manufacturing     0.035014\n",
       "onehotencoder__RACE_White               0.046162\n",
       "onehotencoder__SECTOR_Construction      0.070102\n",
       "remainder__EXPERIENCE                   0.074475\n",
       "onehotencoder__OCCUPATION_Professional  0.129879\n",
       "remainder__EDUCATION                    0.136220\n",
       "onehotencoder__OCCUPATION_Management    0.194918\n",
       "onehotencoder__SEX_male                 0.198618"
      ]
     },
     "execution_count": 27,
     "metadata": {},
     "output_type": "execute_result"
    }
   ],
   "source": [
    "pd.DataFrame(lr.coef_, index = transformer.get_feature_names_out(), columns = ['coef']).sort_values('coef')"
   ]
  },
  {
   "cell_type": "code",
   "execution_count": null,
   "metadata": {
    "id": "_hwL7fytIgFQ"
   },
   "outputs": [],
   "source": []
  },
  {
   "cell_type": "markdown",
   "metadata": {
    "id": "Z5FqkKXEIgFQ"
   },
   "source": [
    "**PROBLEM 8: Polynomial Features**\n",
    "\n",
    "After building a basic model using all the features, compare this to a model using a quadratic polynomial.  Use `PolynomialFeatures` to create the features and score the train and test data as before.  Did this model perform better than the baseline or linear model?"
   ]
  },
  {
   "cell_type": "code",
   "execution_count": 28,
   "metadata": {
    "id": "Pa-NOBR6IgFQ"
   },
   "outputs": [],
   "source": [
    "from sklearn.preprocessing import PolynomialFeatures"
   ]
  },
  {
   "cell_type": "code",
   "execution_count": 29,
   "metadata": {
    "id": "PMUDr2xPIgFQ"
   },
   "outputs": [],
   "source": [
    "transformer = make_column_transformer((ohe, X.select_dtypes('category').columns),\n",
    "                                      remainder = PolynomialFeatures())"
   ]
  },
  {
   "cell_type": "code",
   "execution_count": 30,
   "metadata": {
    "id": "hH3gGrK0LvGY"
   },
   "outputs": [],
   "source": [
    "X_train_encoded = transformer.fit_transform(X_train)\n",
    "X_test_encoded = transformer.transform(X_test)"
   ]
  },
  {
   "cell_type": "code",
   "execution_count": 31,
   "metadata": {
    "colab": {
     "base_uri": "https://localhost:8080/"
    },
    "id": "cIBkp-rtL1HI",
    "outputId": "9aa8fcbf-379a-4d77-e67e-f861245c2030"
   },
   "outputs": [
    {
     "data": {
      "text/plain": [
       "(400, 26)"
      ]
     },
     "execution_count": 31,
     "metadata": {},
     "output_type": "execute_result"
    }
   ],
   "source": [
    "X_train_encoded.shape"
   ]
  },
  {
   "cell_type": "code",
   "execution_count": 32,
   "metadata": {
    "id": "dLccxB5UL_bv"
   },
   "outputs": [],
   "source": [
    "lr2 = LinearRegression().fit(X_train_encoded, y_train)"
   ]
  },
  {
   "cell_type": "code",
   "execution_count": 33,
   "metadata": {
    "colab": {
     "base_uri": "https://localhost:8080/"
    },
    "id": "aJi9CTOoL_YI",
    "outputId": "fef8c4f3-36b9-4d61-f362-32ae6125ddaf"
   },
   "outputs": [
    {
     "data": {
      "text/plain": [
       "0.17435777343198822"
      ]
     },
     "execution_count": 33,
     "metadata": {},
     "output_type": "execute_result"
    }
   ],
   "source": [
    "mean_squared_error(y_train, lr2.predict(X_train_encoded))"
   ]
  },
  {
   "cell_type": "code",
   "execution_count": 34,
   "metadata": {
    "colab": {
     "base_uri": "https://localhost:8080/"
    },
    "id": "UZrQBF6sMK3_",
    "outputId": "c94db346-3f84-445f-95e9-c839498b0c04"
   },
   "outputs": [
    {
     "data": {
      "text/plain": [
       "0.17022018788534107"
      ]
     },
     "execution_count": 34,
     "metadata": {},
     "output_type": "execute_result"
    }
   ],
   "source": [
    "mean_squared_error(y_test, lr2.predict(X_test_encoded))"
   ]
  },
  {
   "cell_type": "markdown",
   "metadata": {
    "id": "7eXzCY7CIgFQ"
   },
   "source": [
    "**PROBLEM 9: Feature Selection**\n",
    "\n",
    "One of the downsides to the polynomial features is how many new features are introduced into the model.  To limit this, you can use *Feature Selection* once the polynomial terms have been generated.  Explore the `feature_selection` module [here](https://scikit-learn.org/stable/modules/feature_selection.html) and use a feature selector to limit the polynomial features to the 15 \"most important\" features.  Which of the features were selected?"
   ]
  },
  {
   "cell_type": "code",
   "execution_count": 35,
   "metadata": {
    "id": "TJCeurYFIgFQ"
   },
   "outputs": [],
   "source": [
    "from sklearn.feature_selection import SelectKBest\n",
    "from sklearn.feature_selection import f_regression"
   ]
  },
  {
   "cell_type": "code",
   "execution_count": 36,
   "metadata": {
    "id": "YQgA3f-_NCOL"
   },
   "outputs": [],
   "source": [
    "from sklearn import set_config"
   ]
  },
  {
   "cell_type": "code",
   "execution_count": 37,
   "metadata": {
    "id": "TQHBSenSNb5p"
   },
   "outputs": [],
   "source": [
    "ohe = OneHotEncoder(drop = 'if_binary', sparse_output=False)"
   ]
  },
  {
   "cell_type": "code",
   "execution_count": 38,
   "metadata": {
    "colab": {
     "base_uri": "https://localhost:8080/",
     "height": 461
    },
    "id": "3KpqSd3MMhva",
    "outputId": "9fedd34c-ae9a-4e63-c3f9-e1206d14bbdb"
   },
   "outputs": [
    {
     "data": {
      "text/html": [
       "<div>\n",
       "<style scoped>\n",
       "    .dataframe tbody tr th:only-of-type {\n",
       "        vertical-align: middle;\n",
       "    }\n",
       "\n",
       "    .dataframe tbody tr th {\n",
       "        vertical-align: top;\n",
       "    }\n",
       "\n",
       "    .dataframe thead th {\n",
       "        text-align: right;\n",
       "    }\n",
       "</style>\n",
       "<table border=\"1\" class=\"dataframe\">\n",
       "  <thead>\n",
       "    <tr style=\"text-align: right;\">\n",
       "      <th></th>\n",
       "      <th>SOUTH_yes</th>\n",
       "      <th>SEX_male</th>\n",
       "      <th>UNION_not_member</th>\n",
       "      <th>OCCUPATION_Clerical</th>\n",
       "      <th>OCCUPATION_Management</th>\n",
       "      <th>OCCUPATION_Professional</th>\n",
       "      <th>OCCUPATION_Service</th>\n",
       "      <th>MARR_Unmarried</th>\n",
       "      <th>EDUCATION</th>\n",
       "      <th>EXPERIENCE</th>\n",
       "      <th>AGE</th>\n",
       "      <th>EDUCATION^2</th>\n",
       "      <th>EDUCATION EXPERIENCE</th>\n",
       "      <th>EDUCATION AGE</th>\n",
       "      <th>AGE^2</th>\n",
       "    </tr>\n",
       "  </thead>\n",
       "  <tbody>\n",
       "    <tr>\n",
       "      <th>237</th>\n",
       "      <td>0.0</td>\n",
       "      <td>0.0</td>\n",
       "      <td>1.0</td>\n",
       "      <td>0.0</td>\n",
       "      <td>0.0</td>\n",
       "      <td>0.0</td>\n",
       "      <td>0.0</td>\n",
       "      <td>0.0</td>\n",
       "      <td>12.0</td>\n",
       "      <td>14.0</td>\n",
       "      <td>32.0</td>\n",
       "      <td>144.0</td>\n",
       "      <td>168.0</td>\n",
       "      <td>384.0</td>\n",
       "      <td>1024.0</td>\n",
       "    </tr>\n",
       "    <tr>\n",
       "      <th>423</th>\n",
       "      <td>1.0</td>\n",
       "      <td>1.0</td>\n",
       "      <td>0.0</td>\n",
       "      <td>0.0</td>\n",
       "      <td>0.0</td>\n",
       "      <td>0.0</td>\n",
       "      <td>1.0</td>\n",
       "      <td>0.0</td>\n",
       "      <td>11.0</td>\n",
       "      <td>18.0</td>\n",
       "      <td>35.0</td>\n",
       "      <td>121.0</td>\n",
       "      <td>198.0</td>\n",
       "      <td>385.0</td>\n",
       "      <td>1225.0</td>\n",
       "    </tr>\n",
       "    <tr>\n",
       "      <th>84</th>\n",
       "      <td>0.0</td>\n",
       "      <td>1.0</td>\n",
       "      <td>0.0</td>\n",
       "      <td>0.0</td>\n",
       "      <td>0.0</td>\n",
       "      <td>0.0</td>\n",
       "      <td>0.0</td>\n",
       "      <td>1.0</td>\n",
       "      <td>13.0</td>\n",
       "      <td>8.0</td>\n",
       "      <td>27.0</td>\n",
       "      <td>169.0</td>\n",
       "      <td>104.0</td>\n",
       "      <td>351.0</td>\n",
       "      <td>729.0</td>\n",
       "    </tr>\n",
       "    <tr>\n",
       "      <th>5</th>\n",
       "      <td>0.0</td>\n",
       "      <td>1.0</td>\n",
       "      <td>0.0</td>\n",
       "      <td>0.0</td>\n",
       "      <td>0.0</td>\n",
       "      <td>0.0</td>\n",
       "      <td>0.0</td>\n",
       "      <td>1.0</td>\n",
       "      <td>13.0</td>\n",
       "      <td>9.0</td>\n",
       "      <td>28.0</td>\n",
       "      <td>169.0</td>\n",
       "      <td>117.0</td>\n",
       "      <td>364.0</td>\n",
       "      <td>784.0</td>\n",
       "    </tr>\n",
       "    <tr>\n",
       "      <th>306</th>\n",
       "      <td>0.0</td>\n",
       "      <td>1.0</td>\n",
       "      <td>1.0</td>\n",
       "      <td>1.0</td>\n",
       "      <td>0.0</td>\n",
       "      <td>0.0</td>\n",
       "      <td>0.0</td>\n",
       "      <td>1.0</td>\n",
       "      <td>13.0</td>\n",
       "      <td>16.0</td>\n",
       "      <td>35.0</td>\n",
       "      <td>169.0</td>\n",
       "      <td>208.0</td>\n",
       "      <td>455.0</td>\n",
       "      <td>1225.0</td>\n",
       "    </tr>\n",
       "    <tr>\n",
       "      <th>...</th>\n",
       "      <td>...</td>\n",
       "      <td>...</td>\n",
       "      <td>...</td>\n",
       "      <td>...</td>\n",
       "      <td>...</td>\n",
       "      <td>...</td>\n",
       "      <td>...</td>\n",
       "      <td>...</td>\n",
       "      <td>...</td>\n",
       "      <td>...</td>\n",
       "      <td>...</td>\n",
       "      <td>...</td>\n",
       "      <td>...</td>\n",
       "      <td>...</td>\n",
       "      <td>...</td>\n",
       "    </tr>\n",
       "    <tr>\n",
       "      <th>468</th>\n",
       "      <td>0.0</td>\n",
       "      <td>1.0</td>\n",
       "      <td>0.0</td>\n",
       "      <td>0.0</td>\n",
       "      <td>0.0</td>\n",
       "      <td>1.0</td>\n",
       "      <td>0.0</td>\n",
       "      <td>1.0</td>\n",
       "      <td>18.0</td>\n",
       "      <td>33.0</td>\n",
       "      <td>57.0</td>\n",
       "      <td>324.0</td>\n",
       "      <td>594.0</td>\n",
       "      <td>1026.0</td>\n",
       "      <td>3249.0</td>\n",
       "    </tr>\n",
       "    <tr>\n",
       "      <th>400</th>\n",
       "      <td>0.0</td>\n",
       "      <td>0.0</td>\n",
       "      <td>0.0</td>\n",
       "      <td>0.0</td>\n",
       "      <td>0.0</td>\n",
       "      <td>0.0</td>\n",
       "      <td>1.0</td>\n",
       "      <td>0.0</td>\n",
       "      <td>10.0</td>\n",
       "      <td>25.0</td>\n",
       "      <td>41.0</td>\n",
       "      <td>100.0</td>\n",
       "      <td>250.0</td>\n",
       "      <td>410.0</td>\n",
       "      <td>1681.0</td>\n",
       "    </tr>\n",
       "    <tr>\n",
       "      <th>324</th>\n",
       "      <td>0.0</td>\n",
       "      <td>0.0</td>\n",
       "      <td>1.0</td>\n",
       "      <td>1.0</td>\n",
       "      <td>0.0</td>\n",
       "      <td>0.0</td>\n",
       "      <td>0.0</td>\n",
       "      <td>0.0</td>\n",
       "      <td>14.0</td>\n",
       "      <td>32.0</td>\n",
       "      <td>52.0</td>\n",
       "      <td>196.0</td>\n",
       "      <td>448.0</td>\n",
       "      <td>728.0</td>\n",
       "      <td>2704.0</td>\n",
       "    </tr>\n",
       "    <tr>\n",
       "      <th>274</th>\n",
       "      <td>1.0</td>\n",
       "      <td>0.0</td>\n",
       "      <td>1.0</td>\n",
       "      <td>1.0</td>\n",
       "      <td>0.0</td>\n",
       "      <td>0.0</td>\n",
       "      <td>0.0</td>\n",
       "      <td>1.0</td>\n",
       "      <td>16.0</td>\n",
       "      <td>2.0</td>\n",
       "      <td>24.0</td>\n",
       "      <td>256.0</td>\n",
       "      <td>32.0</td>\n",
       "      <td>384.0</td>\n",
       "      <td>576.0</td>\n",
       "    </tr>\n",
       "    <tr>\n",
       "      <th>11</th>\n",
       "      <td>0.0</td>\n",
       "      <td>1.0</td>\n",
       "      <td>0.0</td>\n",
       "      <td>0.0</td>\n",
       "      <td>0.0</td>\n",
       "      <td>0.0</td>\n",
       "      <td>0.0</td>\n",
       "      <td>1.0</td>\n",
       "      <td>12.0</td>\n",
       "      <td>19.0</td>\n",
       "      <td>37.0</td>\n",
       "      <td>144.0</td>\n",
       "      <td>228.0</td>\n",
       "      <td>444.0</td>\n",
       "      <td>1369.0</td>\n",
       "    </tr>\n",
       "  </tbody>\n",
       "</table>\n",
       "<p>400 rows × 15 columns</p>\n",
       "</div>"
      ],
      "text/plain": [
       "     SOUTH_yes  SEX_male  UNION_not_member  OCCUPATION_Clerical  \\\n",
       "237        0.0       0.0               1.0                  0.0   \n",
       "423        1.0       1.0               0.0                  0.0   \n",
       "84         0.0       1.0               0.0                  0.0   \n",
       "5          0.0       1.0               0.0                  0.0   \n",
       "306        0.0       1.0               1.0                  1.0   \n",
       "..         ...       ...               ...                  ...   \n",
       "468        0.0       1.0               0.0                  0.0   \n",
       "400        0.0       0.0               0.0                  0.0   \n",
       "324        0.0       0.0               1.0                  1.0   \n",
       "274        1.0       0.0               1.0                  1.0   \n",
       "11         0.0       1.0               0.0                  0.0   \n",
       "\n",
       "     OCCUPATION_Management  OCCUPATION_Professional  OCCUPATION_Service  \\\n",
       "237                    0.0                      0.0                 0.0   \n",
       "423                    0.0                      0.0                 1.0   \n",
       "84                     0.0                      0.0                 0.0   \n",
       "5                      0.0                      0.0                 0.0   \n",
       "306                    0.0                      0.0                 0.0   \n",
       "..                     ...                      ...                 ...   \n",
       "468                    0.0                      1.0                 0.0   \n",
       "400                    0.0                      0.0                 1.0   \n",
       "324                    0.0                      0.0                 0.0   \n",
       "274                    0.0                      0.0                 0.0   \n",
       "11                     0.0                      0.0                 0.0   \n",
       "\n",
       "     MARR_Unmarried  EDUCATION  EXPERIENCE   AGE  EDUCATION^2  \\\n",
       "237             0.0       12.0        14.0  32.0        144.0   \n",
       "423             0.0       11.0        18.0  35.0        121.0   \n",
       "84              1.0       13.0         8.0  27.0        169.0   \n",
       "5               1.0       13.0         9.0  28.0        169.0   \n",
       "306             1.0       13.0        16.0  35.0        169.0   \n",
       "..              ...        ...         ...   ...          ...   \n",
       "468             1.0       18.0        33.0  57.0        324.0   \n",
       "400             0.0       10.0        25.0  41.0        100.0   \n",
       "324             0.0       14.0        32.0  52.0        196.0   \n",
       "274             1.0       16.0         2.0  24.0        256.0   \n",
       "11              1.0       12.0        19.0  37.0        144.0   \n",
       "\n",
       "     EDUCATION EXPERIENCE  EDUCATION AGE   AGE^2  \n",
       "237                 168.0          384.0  1024.0  \n",
       "423                 198.0          385.0  1225.0  \n",
       "84                  104.0          351.0   729.0  \n",
       "5                   117.0          364.0   784.0  \n",
       "306                 208.0          455.0  1225.0  \n",
       "..                    ...            ...     ...  \n",
       "468                 594.0         1026.0  3249.0  \n",
       "400                 250.0          410.0  1681.0  \n",
       "324                 448.0          728.0  2704.0  \n",
       "274                  32.0          384.0   576.0  \n",
       "11                  228.0          444.0  1369.0  \n",
       "\n",
       "[400 rows x 15 columns]"
      ]
     },
     "execution_count": 38,
     "metadata": {},
     "output_type": "execute_result"
    }
   ],
   "source": [
    "set_config(transform_output=\"pandas\")\n",
    "selector = SelectKBest(f_regression, k = 15)\n",
    "transformer = make_column_transformer((ohe, X.select_dtypes('category').columns),\n",
    "                                      remainder = PolynomialFeatures(),\n",
    "                                      verbose_feature_names_out=False)\n",
    "\n",
    "X_train_encoded = transformer.fit_transform(X_train)\n",
    "X_test_encoded = transformer.transform(X_test)\n",
    "selector.fit_transform(X_train_encoded, y_train)"
   ]
  },
  {
   "cell_type": "code",
   "execution_count": 39,
   "metadata": {
    "colab": {
     "base_uri": "https://localhost:8080/"
    },
    "id": "Q4x3HIwwMhnV",
    "outputId": "5c95c594-7a57-43ad-b0f7-15aec1e3e9b0"
   },
   "outputs": [
    {
     "data": {
      "text/plain": [
       "array(['SOUTH_yes', 'SEX_male', 'UNION_not_member', 'OCCUPATION_Clerical',\n",
       "       'OCCUPATION_Management', 'OCCUPATION_Professional',\n",
       "       'OCCUPATION_Service', 'MARR_Unmarried', 'EDUCATION', 'EXPERIENCE',\n",
       "       'AGE', 'EDUCATION^2', 'EDUCATION EXPERIENCE', 'EDUCATION AGE',\n",
       "       'AGE^2'], dtype=object)"
      ]
     },
     "execution_count": 39,
     "metadata": {},
     "output_type": "execute_result"
    }
   ],
   "source": [
    "selector.get_feature_names_out()"
   ]
  },
  {
   "cell_type": "code",
   "execution_count": null,
   "metadata": {
    "id": "LzV9CgVUIgFQ"
   },
   "outputs": [],
   "source": []
  },
  {
   "cell_type": "markdown",
   "metadata": {
    "id": "RNwx7VxaIgFQ"
   },
   "source": [
    "**PROBLEM 10: Interpreting Coefficients**\n",
    "\n",
    "Build a simple regression model and encode all the categorical features.  Fit the model on the training data. Draw a horizontal bar plot of the coefficients, and interpret the feature importance based on these coefficients."
   ]
  },
  {
   "cell_type": "code",
   "execution_count": 40,
   "metadata": {
    "id": "HIcZSUGcIgFQ"
   },
   "outputs": [],
   "source": [
    "set_config(transform_output=\"pandas\")\n",
    "selector = SelectKBest(f_regression, k = 15)\n",
    "transformer = make_column_transformer((ohe, X.select_dtypes('category').columns),\n",
    "                                      remainder = 'passthrough',\n",
    "                                      verbose_feature_names_out=False)\n",
    "\n",
    "X_train_encoded = transformer.fit_transform(X_train)\n",
    "X_test_encoded = transformer.transform(X_test)\n",
    "lr = LinearRegression().fit(X_train_encoded, y_train)"
   ]
  },
  {
   "cell_type": "code",
   "execution_count": 41,
   "metadata": {
    "colab": {
     "base_uri": "https://localhost:8080/",
     "height": 448
    },
    "id": "60giFOh9IgFQ",
    "outputId": "099de0ef-8d8a-4af3-964f-f9fa5a91ba5b"
   },
   "outputs": [
    {
     "data": {
      "text/plain": [
       "<BarContainer object of 19 artists>"
      ]
     },
     "execution_count": 41,
     "metadata": {},
     "output_type": "execute_result"
    },
    {
     "data": {
      "image/png": "[encoded data removed]",
      "text/plain": [
       "<Figure size 640x480 with 1 Axes>"
      ]
     },
     "metadata": {},
     "output_type": "display_data"
    }
   ],
   "source": [
    "plt.barh(transformer.get_feature_names_out(), lr.coef_)"
   ]
  },
  {
   "cell_type": "markdown",
   "metadata": {
    "id": "PPir4F7GIgFR"
   },
   "source": [
    "**PROBLEM 11: Revisiting Interpretation**\n",
    "\n",
    "Read through the article on [**Common Pitfalls in the interpretation of coefficients of linear models**](https://scikit-learn.org/stable/auto_examples/inspection/plot_linear_model_coefficient_interpretation.html).  What does the author suggest is a better way of using the coefficients of a linear model to determine the \"importance\" of a feature?  Draw a horizontal barplot of the updated coefficients and interpret the results."
   ]
  },
  {
   "cell_type": "code",
   "execution_count": 42,
   "metadata": {
    "colab": {
     "base_uri": "https://localhost:8080/",
     "height": 641
    },
    "id": "RLVBPHkGIgFR",
    "outputId": "41d4d8d9-d6ac-4938-95a0-ed037a9b3532"
   },
   "outputs": [
    {
     "data": {
      "image/png": "[encoded data removed]",
      "text/plain": [
       "<Figure size 900x700 with 1 Axes>"
      ]
     },
     "metadata": {},
     "output_type": "display_data"
    }
   ],
   "source": [
    "coefs = pd.DataFrame(\n",
    "    lr.coef_ * X_train_encoded.std(axis=0),\n",
    "    columns=[\"Coefficient importance\"],\n",
    "    index=transformer.get_feature_names_out(),\n",
    ")\n",
    "coefs.plot(kind=\"barh\", figsize=(9, 7))\n",
    "plt.xlabel(\"Coefficient values corrected by the feature's std. dev.\")\n",
    "plt.title(\"Linear Regression model\")\n",
    "plt.axvline(x=0, color=\".5\")\n",
    "plt.subplots_adjust(left=0.3)"
   ]
  },
  {
   "cell_type": "code",
   "execution_count": null,
   "metadata": {
    "id": "mJ8iKAdBIgFR"
   },
   "outputs": [],
   "source": []
  }
 ],
 "metadata": {
  "colab": {
   "include_colab_link": true,
   "provenance": []
  },
  "kernelspec": {
   "display_name": "Python 3 (ipykernel)",
   "language": "python",
   "name": "python3"
  },
  "language_info": {
   "codemirror_mode": {
    "name": "ipython",
    "version": 3
   },
   "file_extension": ".py",
   "mimetype": "text/x-python",
   "name": "python",
   "nbconvert_exporter": "python",
   "pygments_lexer": "ipython3",
   "version": "3.12.0"
  }
 },
 "nbformat": 4,
 "nbformat_minor": 4
}
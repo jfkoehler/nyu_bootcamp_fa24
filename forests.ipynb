{
 "cells": [
  {
   "cell_type": "markdown",
   "id": "c5b64e7f",
   "metadata": {},
   "source": [
    "### Random Forests \n",
    "\n",
    "**OBJECTIVES**\n",
    "\n",
    "- Use `RandomForestClassifier` to extend Decision Tree models\n",
    "- Compare models in a business use case and select model that optimizes expected profit"
   ]
  },
  {
   "cell_type": "code",
   "execution_count": null,
   "id": "9a42affa",
   "metadata": {},
   "outputs": [],
   "source": [
    "import matplotlib.pyplot as plt\n",
    "import numpy as np\n",
    "import pandas as pd\n",
    "from sklearn.ensemble import RandomForestClassifier\n",
    "from sklearn.pipeline import Pipeline\n",
    "from sklearn.model_selection import train_test_split\n",
    "from sklearn.preprocessing import StandardScaler\n",
    "from sklearn.compose import make_column_transformer\n",
    "from sklearn.metrics import ConfusionMatrixDisplay\n",
    "from sklearn.datasets import make_classification"
   ]
  },
  {
   "cell_type": "markdown",
   "id": "a05e1df4",
   "metadata": {},
   "source": [
    "### Ensemble of Trees\n",
    "\n",
    "```A random forest is a meta estimator that fits a number of decision tree classifiers on various sub-samples of the dataset and uses averaging to improve the predictive accuracy and control over-fitting.```"
   ]
  },
  {
   "cell_type": "code",
   "execution_count": null,
   "id": "ade6c2e9",
   "metadata": {},
   "outputs": [],
   "source": [
    "X, y = make_classification(random_state=11)"
   ]
  },
  {
   "cell_type": "code",
   "execution_count": null,
   "id": "8f628bd2",
   "metadata": {},
   "outputs": [],
   "source": [
    "#instantiate\n"
   ]
  },
  {
   "cell_type": "code",
   "execution_count": null,
   "id": "ec4d0925",
   "metadata": {},
   "outputs": [],
   "source": [
    "#fit \n"
   ]
  },
  {
   "cell_type": "code",
   "execution_count": null,
   "id": "03fc2ef8",
   "metadata": {},
   "outputs": [],
   "source": [
    "#predict\n"
   ]
  },
  {
   "cell_type": "code",
   "execution_count": null,
   "id": "19975665",
   "metadata": {},
   "outputs": [],
   "source": [
    "#confusion matrix\n"
   ]
  },
  {
   "cell_type": "markdown",
   "id": "5830d607",
   "metadata": {},
   "source": [
    "### Marketing Problem\n",
    "\n",
    "The data is related with direct marketing campaigns of a Portuguese banking institution. The marketing campaigns were based on phone calls. Often, more than one contact to the same client was required, in order to access if the product (bank term deposit) would be ('yes') or not ('no') subscribed. [link](https://archive.ics.uci.edu/dataset/222/bank+marketing)\n",
    "\n",
    "You have been tasked with finding a model for identifying further targets to offer incentive.  To do so, compare a Logistic Regression and Random Forest model to select the model that maximizes expected profit using the following cost benefit information:\n",
    "\n",
    "- The cost of calling each customer is 2 dollars.\n",
    "- A customer who purchases the product gives a profit of 200 dollars.\n",
    "\n",
    "\n",
    "Recall the expected profit is found by:\n",
    "\n",
    "\n",
    "$$\\text{Expected Profit} = p(Y,p)*b(Y, p) + p(N, p)*b(N,p) + p(N,n)*b(N,n) + p(Y,n)*b(Y,n)$$\n"
   ]
  },
  {
   "cell_type": "code",
   "execution_count": null,
   "id": "1168b8a1",
   "metadata": {},
   "outputs": [],
   "source": [
    "bank_marketing = pd.read_csv('https://raw.githubusercontent.com/jfkoehler/nyu_bootcamp_fa24/refs/heads/main/data/bank.csv')"
   ]
  },
  {
   "cell_type": "code",
   "execution_count": null,
   "id": "4f2ca04f",
   "metadata": {},
   "outputs": [],
   "source": [
    "bank_marketing.head()"
   ]
  },
  {
   "cell_type": "code",
   "execution_count": null,
   "id": "67aa4809",
   "metadata": {},
   "outputs": [],
   "source": []
  },
  {
   "cell_type": "code",
   "execution_count": null,
   "id": "2e707f00",
   "metadata": {},
   "outputs": [],
   "source": []
  },
  {
   "cell_type": "code",
   "execution_count": null,
   "id": "4bbaf4c8",
   "metadata": {},
   "outputs": [],
   "source": []
  },
  {
   "cell_type": "code",
   "execution_count": null,
   "id": "109d3b3b",
   "metadata": {},
   "outputs": [],
   "source": []
  },
  {
   "cell_type": "code",
   "execution_count": null,
   "id": "16b156d1",
   "metadata": {},
   "outputs": [],
   "source": []
  },
  {
   "cell_type": "markdown",
   "id": "ec6f0767",
   "metadata": {},
   "source": [
    "### Summary\n",
    "\n",
    "Please complete the form [here](https://forms.gle/C4B28692UKzvznq2A) to summarize your groups work and solutions."
   ]
  }
 ],
 "metadata": {
  "kernelspec": {
   "display_name": "Python 3",
   "language": "python",
   "name": "python3"
  },
  "language_info": {
   "codemirror_mode": {
    "name": "ipython",
    "version": 3
   },
   "file_extension": ".py",
   "mimetype": "text/x-python",
   "name": "python",
   "nbconvert_exporter": "python",
   "pygments_lexer": "ipython3",
   "version": "3.8.3"
  }
 },
 "nbformat": 4,
 "nbformat_minor": 5
}

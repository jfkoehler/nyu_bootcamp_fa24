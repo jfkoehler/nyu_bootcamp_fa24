{
 "cells": [
  {
   "cell_type": "markdown",
   "id": "78899cda",
   "metadata": {},
   "source": [
    "### Random Forests \n",
    "\n",
    "**OBJECTIVES**\n",
    "\n",
    "- Use `RandomForestClassifier` to extend Decision Tree models\n",
    "- Compare models in a business use case and select model that optimizes expected profit"
   ]
  },
  {
   "cell_type": "code",
   "execution_count": 6,
   "id": "fb481473",
   "metadata": {},
   "outputs": [],
   "source": [
    "import matplotlib.pyplot as plt\n",
    "import numpy as np\n",
    "import pandas as pd\n",
    "from sklearn.ensemble import RandomForestClassifier\n",
    "from sklearn.pipeline import Pipeline\n",
    "from sklearn.model_selection import train_test_split\n",
    "from sklearn.preprocessing import StandardScaler\n",
    "from sklearn.compose import make_column_transformer\n",
    "from sklearn.metrics import ConfusionMatrixDisplay\n",
    "from sklearn.datasets import make_classification"
   ]
  },
  {
   "cell_type": "markdown",
   "id": "924d6e19",
   "metadata": {},
   "source": [
    "### Ensemble of Trees\n",
    "\n",
    "```A random forest is a meta estimator that fits a number of decision tree classifiers on various sub-samples of the dataset and uses averaging to improve the predictive accuracy and control over-fitting.```"
   ]
  },
  {
   "cell_type": "code",
   "execution_count": 7,
   "id": "3927f2c1",
   "metadata": {},
   "outputs": [],
   "source": [
    "X, y = make_classification(random_state=11)"
   ]
  },
  {
   "cell_type": "code",
   "execution_count": 8,
   "id": "e0778070",
   "metadata": {},
   "outputs": [],
   "source": [
    "#instantiate\n"
   ]
  },
  {
   "cell_type": "code",
   "execution_count": 9,
   "id": "e9ed840c",
   "metadata": {},
   "outputs": [],
   "source": [
    "#fit \n"
   ]
  },
  {
   "cell_type": "code",
   "execution_count": 10,
   "id": "71b5679c",
   "metadata": {},
   "outputs": [],
   "source": [
    "#predict\n"
   ]
  },
  {
   "cell_type": "code",
   "execution_count": 12,
   "id": "7e9580d2",
   "metadata": {},
   "outputs": [],
   "source": [
    "#confusion matrix\n"
   ]
  },
  {
   "cell_type": "markdown",
   "id": "4c2359a5",
   "metadata": {},
   "source": [
    "### Marketing Problem\n",
    "\n",
    "The data is related with direct marketing campaigns of a Portuguese banking institution. The marketing campaigns were based on phone calls. Often, more than one contact to the same client was required, in order to access if the product (bank term deposit) would be ('yes') or not ('no') subscribed. [link](https://archive.ics.uci.edu/dataset/222/bank+marketing)\n",
    "\n",
    "You have been tasked with finding a model for identifying further targets to offer incentive.  To do so, compare a Logistic Regression and Random Forest model to select the model that maximizes expected profit using the following cost benefit information:\n",
    "\n",
    "- The cost of calling each customer is 2 dollars.\n",
    "- A customer who purchases the product gives a profit of 200 dollars.\n",
    "\n",
    "\n",
    "Recall the expected profit is found by:\n",
    "\n",
    "\n",
    "$$\\text{Expected Profit} = p(Y,p)*b(Y, p) + p(N, p)*b(N,p) + p(N,n)*b(N,n) + p(Y,n)*b(Y,n)$$\n"
   ]
  },
  {
   "cell_type": "code",
   "execution_count": 13,
   "id": "0d9ef1be",
   "metadata": {},
   "outputs": [],
   "source": [
    "bank_marketing = pd.read_csv('data/bank.csv')"
   ]
  },
  {
   "cell_type": "code",
   "execution_count": 14,
   "id": "e05c6735",
   "metadata": {},
   "outputs": [
    {
     "data": {
      "text/html": [
       "<div>\n",
       "<style scoped>\n",
       "    .dataframe tbody tr th:only-of-type {\n",
       "        vertical-align: middle;\n",
       "    }\n",
       "\n",
       "    .dataframe tbody tr th {\n",
       "        vertical-align: top;\n",
       "    }\n",
       "\n",
       "    .dataframe thead th {\n",
       "        text-align: right;\n",
       "    }\n",
       "</style>\n",
       "<table border=\"1\" class=\"dataframe\">\n",
       "  <thead>\n",
       "    <tr style=\"text-align: right;\">\n",
       "      <th></th>\n",
       "      <th>age</th>\n",
       "      <th>job</th>\n",
       "      <th>marital</th>\n",
       "      <th>education</th>\n",
       "      <th>default</th>\n",
       "      <th>balance</th>\n",
       "      <th>housing</th>\n",
       "      <th>loan</th>\n",
       "      <th>contact</th>\n",
       "      <th>day_of_week</th>\n",
       "      <th>month</th>\n",
       "      <th>duration</th>\n",
       "      <th>campaign</th>\n",
       "      <th>pdays</th>\n",
       "      <th>previous</th>\n",
       "      <th>poutcome</th>\n",
       "      <th>target</th>\n",
       "    </tr>\n",
       "  </thead>\n",
       "  <tbody>\n",
       "    <tr>\n",
       "      <th>0</th>\n",
       "      <td>58</td>\n",
       "      <td>management</td>\n",
       "      <td>married</td>\n",
       "      <td>tertiary</td>\n",
       "      <td>no</td>\n",
       "      <td>2143</td>\n",
       "      <td>yes</td>\n",
       "      <td>no</td>\n",
       "      <td>NaN</td>\n",
       "      <td>5</td>\n",
       "      <td>may</td>\n",
       "      <td>261</td>\n",
       "      <td>1</td>\n",
       "      <td>-1</td>\n",
       "      <td>0</td>\n",
       "      <td>NaN</td>\n",
       "      <td>no</td>\n",
       "    </tr>\n",
       "    <tr>\n",
       "      <th>1</th>\n",
       "      <td>44</td>\n",
       "      <td>technician</td>\n",
       "      <td>single</td>\n",
       "      <td>secondary</td>\n",
       "      <td>no</td>\n",
       "      <td>29</td>\n",
       "      <td>yes</td>\n",
       "      <td>no</td>\n",
       "      <td>NaN</td>\n",
       "      <td>5</td>\n",
       "      <td>may</td>\n",
       "      <td>151</td>\n",
       "      <td>1</td>\n",
       "      <td>-1</td>\n",
       "      <td>0</td>\n",
       "      <td>NaN</td>\n",
       "      <td>no</td>\n",
       "    </tr>\n",
       "    <tr>\n",
       "      <th>2</th>\n",
       "      <td>33</td>\n",
       "      <td>entrepreneur</td>\n",
       "      <td>married</td>\n",
       "      <td>secondary</td>\n",
       "      <td>no</td>\n",
       "      <td>2</td>\n",
       "      <td>yes</td>\n",
       "      <td>yes</td>\n",
       "      <td>NaN</td>\n",
       "      <td>5</td>\n",
       "      <td>may</td>\n",
       "      <td>76</td>\n",
       "      <td>1</td>\n",
       "      <td>-1</td>\n",
       "      <td>0</td>\n",
       "      <td>NaN</td>\n",
       "      <td>no</td>\n",
       "    </tr>\n",
       "    <tr>\n",
       "      <th>3</th>\n",
       "      <td>47</td>\n",
       "      <td>blue-collar</td>\n",
       "      <td>married</td>\n",
       "      <td>NaN</td>\n",
       "      <td>no</td>\n",
       "      <td>1506</td>\n",
       "      <td>yes</td>\n",
       "      <td>no</td>\n",
       "      <td>NaN</td>\n",
       "      <td>5</td>\n",
       "      <td>may</td>\n",
       "      <td>92</td>\n",
       "      <td>1</td>\n",
       "      <td>-1</td>\n",
       "      <td>0</td>\n",
       "      <td>NaN</td>\n",
       "      <td>no</td>\n",
       "    </tr>\n",
       "    <tr>\n",
       "      <th>4</th>\n",
       "      <td>33</td>\n",
       "      <td>NaN</td>\n",
       "      <td>single</td>\n",
       "      <td>NaN</td>\n",
       "      <td>no</td>\n",
       "      <td>1</td>\n",
       "      <td>no</td>\n",
       "      <td>no</td>\n",
       "      <td>NaN</td>\n",
       "      <td>5</td>\n",
       "      <td>may</td>\n",
       "      <td>198</td>\n",
       "      <td>1</td>\n",
       "      <td>-1</td>\n",
       "      <td>0</td>\n",
       "      <td>NaN</td>\n",
       "      <td>no</td>\n",
       "    </tr>\n",
       "  </tbody>\n",
       "</table>\n",
       "</div>"
      ],
      "text/plain": [
       "   age           job  marital  education default  balance housing loan  \\\n",
       "0   58    management  married   tertiary      no     2143     yes   no   \n",
       "1   44    technician   single  secondary      no       29     yes   no   \n",
       "2   33  entrepreneur  married  secondary      no        2     yes  yes   \n",
       "3   47   blue-collar  married        NaN      no     1506     yes   no   \n",
       "4   33           NaN   single        NaN      no        1      no   no   \n",
       "\n",
       "  contact  day_of_week month  duration  campaign  pdays  previous poutcome  \\\n",
       "0     NaN            5   may       261         1     -1         0      NaN   \n",
       "1     NaN            5   may       151         1     -1         0      NaN   \n",
       "2     NaN            5   may        76         1     -1         0      NaN   \n",
       "3     NaN            5   may        92         1     -1         0      NaN   \n",
       "4     NaN            5   may       198         1     -1         0      NaN   \n",
       "\n",
       "  target  \n",
       "0     no  \n",
       "1     no  \n",
       "2     no  \n",
       "3     no  \n",
       "4     no  "
      ]
     },
     "execution_count": 14,
     "metadata": {},
     "output_type": "execute_result"
    }
   ],
   "source": [
    "bank_marketing.head()"
   ]
  },
  {
   "cell_type": "code",
   "execution_count": null,
   "id": "c9b70be3",
   "metadata": {},
   "outputs": [],
   "source": []
  },
  {
   "cell_type": "code",
   "execution_count": null,
   "id": "43696f64",
   "metadata": {},
   "outputs": [],
   "source": []
  },
  {
   "cell_type": "code",
   "execution_count": null,
   "id": "796db1c6",
   "metadata": {},
   "outputs": [],
   "source": []
  },
  {
   "cell_type": "code",
   "execution_count": null,
   "id": "9449389d",
   "metadata": {},
   "outputs": [],
   "source": []
  },
  {
   "cell_type": "code",
   "execution_count": null,
   "id": "46695147",
   "metadata": {},
   "outputs": [],
   "source": []
  },
  {
   "cell_type": "markdown",
   "id": "348b1d60",
   "metadata": {},
   "source": [
    "### Summary\n",
    "\n",
    "Please complete the form [here](https://forms.gle/C4B28692UKzvznq2A) to summarize your groups work and solutions."
   ]
  }
 ],
 "metadata": {
  "kernelspec": {
   "display_name": "Python 3",
   "language": "python",
   "name": "python3"
  },
  "language_info": {
   "codemirror_mode": {
    "name": "ipython",
    "version": 3
   },
   "file_extension": ".py",
   "mimetype": "text/x-python",
   "name": "python",
   "nbconvert_exporter": "python",
   "pygments_lexer": "ipython3",
   "version": "3.8.3"
  }
 },
 "nbformat": 4,
 "nbformat_minor": 5
}
